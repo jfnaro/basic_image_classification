{
  "nbformat": 4,
  "nbformat_minor": 0,
  "metadata": {
    "kernelspec": {
      "display_name": "Python 3",
      "language": "python",
      "name": "python3"
    },
    "language_info": {
      "codemirror_mode": {
        "name": "ipython",
        "version": 3
      },
      "file_extension": ".py",
      "mimetype": "text/x-python",
      "name": "python",
      "nbconvert_exporter": "python",
      "pygments_lexer": "ipython3",
      "version": "3.7.4"
    },
    "colab": {
      "name": "jfnaro_project_3_part_3.ipynb",
      "provenance": [],
      "collapsed_sections": []
    },
    "accelerator": "GPU"
  },
  "cells": [
    {
      "cell_type": "markdown",
      "metadata": {
        "id": "VPnRBKigWmUI",
        "colab_type": "text"
      },
      "source": [
        "# Project 3 Part III\n",
        "\n",
        "## Joseph Naro"
      ]
    },
    {
      "cell_type": "code",
      "metadata": {
        "id": "Qq-fRj8iAuJs",
        "colab_type": "code",
        "colab": {
          "base_uri": "https://localhost:8080/",
          "height": 121
        },
        "outputId": "ee01913d-c2c5-4bbd-c0e9-5a9d2550237f"
      },
      "source": [
        "from google.colab import drive\n",
        "drive.mount('/content/gdrive')"
      ],
      "execution_count": 3,
      "outputs": [
        {
          "output_type": "stream",
          "text": [
            "Go to this URL in a browser: https://accounts.google.com/o/oauth2/auth?client_id=947318989803-6bn6qk8qdgf4n4g3pfee6491hc0brc4i.apps.googleusercontent.com&redirect_uri=urn%3aietf%3awg%3aoauth%3a2.0%3aoob&response_type=code&scope=email%20https%3a%2f%2fwww.googleapis.com%2fauth%2fdocs.test%20https%3a%2f%2fwww.googleapis.com%2fauth%2fdrive%20https%3a%2f%2fwww.googleapis.com%2fauth%2fdrive.photos.readonly%20https%3a%2f%2fwww.googleapis.com%2fauth%2fpeopleapi.readonly\n",
            "\n",
            "Enter your authorization code:\n",
            "··········\n",
            "Mounted at /content/gdrive\n"
          ],
          "name": "stdout"
        }
      ]
    },
    {
      "cell_type": "code",
      "metadata": {
        "id": "4rNMfw2OAuJ-",
        "colab_type": "code",
        "colab": {}
      },
      "source": [
        "import pandas as pd\n",
        "import matplotlib.pyplot as plt\n",
        "import numpy as np"
      ],
      "execution_count": 4,
      "outputs": []
    },
    {
      "cell_type": "code",
      "metadata": {
        "id": "1gN4I2U6AuKH",
        "colab_type": "code",
        "colab": {}
      },
      "source": [
        "from tensorflow.keras.callbacks import EarlyStopping\n",
        "from tensorflow.keras import Sequential, layers\n",
        "from tensorflow.keras.preprocessing.image import ImageDataGenerator\n",
        "from tensorflow.keras.callbacks import ModelCheckpoint\n",
        "from tensorflow.keras.preprocessing import image\n",
        "from tensorflow.keras.models import clone_model, load_model\n",
        "from tensorflow.keras.optimizers import Adam\n",
        "from sklearn.utils import shuffle\n",
        "from sklearn.metrics import confusion_matrix"
      ],
      "execution_count": 5,
      "outputs": []
    },
    {
      "cell_type": "markdown",
      "metadata": {
        "id": "T5423CHyAuLD",
        "colab_type": "text"
      },
      "source": [
        "# Part III: 1\n",
        "\n",
        "### I have chosen the following 20 classes and used 500 images from each\n",
        "\n",
        "bonsai,\n",
        "chicken,\n",
        "goldfish,\n",
        "archery,\n",
        "auto racing,\n",
        "camping,\n",
        "microorganism,\n",
        "ray,\n",
        "blue jay,\n",
        "python,\n",
        "centipede,\n",
        "goose,\n",
        "cow,\n",
        "jellyfish,\n",
        "snail,\n",
        "king crab,\n",
        "shrimp,\n",
        "killer whale,\n",
        "California sea lion,\n",
        "dog,"
      ]
    },
    {
      "cell_type": "markdown",
      "metadata": {
        "id": "nCfwY0jtAuLE",
        "colab_type": "text"
      },
      "source": [
        "# Part III: 2\n",
        "\n",
        "### I have downloaded the images using the downloader from this repo: https://github.com/skaldek/ImageNet-Datasets-Downloader"
      ]
    },
    {
      "cell_type": "markdown",
      "metadata": {
        "id": "9CkFFm72YLqW",
        "colab_type": "text"
      },
      "source": [
        "# Part III: 3\n",
        "\n",
        "### I modified the code Nitin provided in his demo to preprocess my data. First I manually went therough and deleted images that didn't belong in each dataset. Then I modified Nitin's code to crop each image as a square of size 375x375. I ended up only using the images as 256x256, but I wanted the option to go larger if I needed. I have included this code and highlighted my changes with comments. Finally, I manually modified the file structure to fit the requirements of the Keras flow_from_directory method."
      ]
    },
    {
      "cell_type": "code",
      "metadata": {
        "id": "NUVKXejUAuLF",
        "colab_type": "code",
        "colab": {
          "base_uri": "https://localhost:8080/",
          "height": 402
        },
        "outputId": "fea7d457-cc21-4fc7-ec02-2fcb5a19ea9e"
      },
      "source": [
        "training_meta = pd.read_csv('/content/gdrive/My Drive/train_data_paths_and_labels.csv')\n",
        "training_meta"
      ],
      "execution_count": 4,
      "outputs": [
        {
          "output_type": "execute_result",
          "data": {
            "text/html": [
              "<div>\n",
              "<style scoped>\n",
              "    .dataframe tbody tr th:only-of-type {\n",
              "        vertical-align: middle;\n",
              "    }\n",
              "\n",
              "    .dataframe tbody tr th {\n",
              "        vertical-align: top;\n",
              "    }\n",
              "\n",
              "    .dataframe thead th {\n",
              "        text-align: right;\n",
              "    }\n",
              "</style>\n",
              "<table border=\"1\" class=\"dataframe\">\n",
              "  <thead>\n",
              "    <tr style=\"text-align: right;\">\n",
              "      <th></th>\n",
              "      <th>Unnamed: 0</th>\n",
              "      <th>Path</th>\n",
              "      <th>Label</th>\n",
              "    </tr>\n",
              "  </thead>\n",
              "  <tbody>\n",
              "    <tr>\n",
              "      <th>0</th>\n",
              "      <td>0</td>\n",
              "      <td>./images/archery/1.jpg</td>\n",
              "      <td>archery</td>\n",
              "    </tr>\n",
              "    <tr>\n",
              "      <th>1</th>\n",
              "      <td>1</td>\n",
              "      <td>./images/archery/2.jpg</td>\n",
              "      <td>archery</td>\n",
              "    </tr>\n",
              "    <tr>\n",
              "      <th>2</th>\n",
              "      <td>2</td>\n",
              "      <td>./images/archery/3.jpg</td>\n",
              "      <td>archery</td>\n",
              "    </tr>\n",
              "    <tr>\n",
              "      <th>3</th>\n",
              "      <td>3</td>\n",
              "      <td>./images/archery/4.jpg</td>\n",
              "      <td>archery</td>\n",
              "    </tr>\n",
              "    <tr>\n",
              "      <th>4</th>\n",
              "      <td>4</td>\n",
              "      <td>./images/archery/5.jpg</td>\n",
              "      <td>archery</td>\n",
              "    </tr>\n",
              "    <tr>\n",
              "      <th>...</th>\n",
              "      <td>...</td>\n",
              "      <td>...</td>\n",
              "      <td>...</td>\n",
              "    </tr>\n",
              "    <tr>\n",
              "      <th>7595</th>\n",
              "      <td>7595</td>\n",
              "      <td>./images/snail/396.jpg</td>\n",
              "      <td>snail</td>\n",
              "    </tr>\n",
              "    <tr>\n",
              "      <th>7596</th>\n",
              "      <td>7596</td>\n",
              "      <td>./images/snail/397.jpg</td>\n",
              "      <td>snail</td>\n",
              "    </tr>\n",
              "    <tr>\n",
              "      <th>7597</th>\n",
              "      <td>7597</td>\n",
              "      <td>./images/snail/398.jpg</td>\n",
              "      <td>snail</td>\n",
              "    </tr>\n",
              "    <tr>\n",
              "      <th>7598</th>\n",
              "      <td>7598</td>\n",
              "      <td>./images/snail/399.jpg</td>\n",
              "      <td>snail</td>\n",
              "    </tr>\n",
              "    <tr>\n",
              "      <th>7599</th>\n",
              "      <td>7599</td>\n",
              "      <td>./images/snail/400.jpg</td>\n",
              "      <td>snail</td>\n",
              "    </tr>\n",
              "  </tbody>\n",
              "</table>\n",
              "<p>7600 rows × 3 columns</p>\n",
              "</div>"
            ],
            "text/plain": [
              "      Unnamed: 0                    Path    Label\n",
              "0              0  ./images/archery/1.jpg  archery\n",
              "1              1  ./images/archery/2.jpg  archery\n",
              "2              2  ./images/archery/3.jpg  archery\n",
              "3              3  ./images/archery/4.jpg  archery\n",
              "4              4  ./images/archery/5.jpg  archery\n",
              "...          ...                     ...      ...\n",
              "7595        7595  ./images/snail/396.jpg    snail\n",
              "7596        7596  ./images/snail/397.jpg    snail\n",
              "7597        7597  ./images/snail/398.jpg    snail\n",
              "7598        7598  ./images/snail/399.jpg    snail\n",
              "7599        7599  ./images/snail/400.jpg    snail\n",
              "\n",
              "[7600 rows x 3 columns]"
            ]
          },
          "metadata": {
            "tags": []
          },
          "execution_count": 4
        }
      ]
    },
    {
      "cell_type": "code",
      "metadata": {
        "id": "fSJcYUnOAuLM",
        "colab_type": "code",
        "colab": {
          "base_uri": "https://localhost:8080/",
          "height": 336
        },
        "outputId": "4c29f70b-8b6f-4a6a-872a-3df94614ecac"
      },
      "source": [
        "labels = list(training_meta['Label'].unique())\n",
        "labels"
      ],
      "execution_count": 5,
      "outputs": [
        {
          "output_type": "execute_result",
          "data": {
            "text/plain": [
              "['archery',\n",
              " 'auto racing',\n",
              " 'blue jay',\n",
              " 'bonsai',\n",
              " 'California sea lion',\n",
              " 'centipede',\n",
              " 'chicken',\n",
              " 'cow',\n",
              " 'dog',\n",
              " 'goldfish',\n",
              " 'goose',\n",
              " 'jellyfish',\n",
              " 'killer whale',\n",
              " 'king crab',\n",
              " 'microorganism',\n",
              " 'python',\n",
              " 'ray',\n",
              " 'shrimp',\n",
              " 'snail']"
            ]
          },
          "metadata": {
            "tags": []
          },
          "execution_count": 5
        }
      ]
    },
    {
      "cell_type": "code",
      "metadata": {
        "id": "4dJTSHutAuLR",
        "colab_type": "code",
        "colab": {
          "base_uri": "https://localhost:8080/",
          "height": 50
        },
        "outputId": "00fa2738-d938-4d81-b7b8-d7ae567d5cfb"
      },
      "source": [
        "training_generator = ImageDataGenerator(rescale=1./255, validation_split=.2, horizontal_flip=True, height_shift_range=.2, width_shift_range=.2, zoom_range=.2)\n",
        "training_data = training_generator.flow_from_directory('/content/gdrive/My Drive/images/train', batch_size=64, class_mode='sparse', subset='training')\n",
        "validating_data = training_generator.flow_from_directory('/content/gdrive/My Drive/images/train', batch_size=64, class_mode='sparse', subset='validation')"
      ],
      "execution_count": 6,
      "outputs": [
        {
          "output_type": "stream",
          "text": [
            "Found 6403 images belonging to 20 classes.\n",
            "Found 1600 images belonging to 20 classes.\n"
          ],
          "name": "stdout"
        }
      ]
    },
    {
      "cell_type": "code",
      "metadata": {
        "id": "RFh_OWomKhW4",
        "colab_type": "code",
        "colab": {}
      },
      "source": [
        "test1, test2 = training_data.next()"
      ],
      "execution_count": 7,
      "outputs": []
    },
    {
      "cell_type": "code",
      "metadata": {
        "id": "h71wtS5lLESo",
        "colab_type": "code",
        "colab": {
          "base_uri": "https://localhost:8080/",
          "height": 286
        },
        "outputId": "7fc6b1cb-bc88-48fa-f62e-5be3464090c7"
      },
      "source": [
        "plt.imshow(test1[1])"
      ],
      "execution_count": 8,
      "outputs": [
        {
          "output_type": "execute_result",
          "data": {
            "text/plain": [
              "<matplotlib.image.AxesImage at 0x7f86d38be470>"
            ]
          },
          "metadata": {
            "tags": []
          },
          "execution_count": 8
        },
        {
          "output_type": "display_data",
          "data": {
            "image/png": "[encoded data removed]",
            "text/plain": [
              "<Figure size 432x288 with 1 Axes>"
            ]
          },
          "metadata": {
            "tags": [],
            "needs_background": "light"
          }
        }
      ]
    },
    {
      "cell_type": "code",
      "metadata": {
        "id": "Uy9OvB7aJYBl",
        "colab_type": "code",
        "colab": {
          "base_uri": "https://localhost:8080/",
          "height": 34
        },
        "outputId": "8cec0a0a-a182-43fd-c5d2-3b9c5bf1ae8e"
      },
      "source": [
        "testing_generator = ImageDataGenerator(rescale=1./255)\n",
        "testing_data = testing_generator.flow_from_directory('/content/gdrive/My Drive/images/test', batch_size=64, class_mode='sparse')"
      ],
      "execution_count": 6,
      "outputs": [
        {
          "output_type": "stream",
          "text": [
            "Found 2000 images belonging to 20 classes.\n"
          ],
          "name": "stdout"
        }
      ]
    },
    {
      "cell_type": "markdown",
      "metadata": {
        "id": "6AdNLSZfZe-a",
        "colab_type": "text"
      },
      "source": [
        "# Part III: 4 & 5"
      ]
    },
    {
      "cell_type": "code",
      "metadata": {
        "id": "1C8EXUlTAuL2",
        "colab_type": "code",
        "colab": {}
      },
      "source": [
        "stopper = EarlyStopping(monitor='val_accuracy', patience=7)"
      ],
      "execution_count": 10,
      "outputs": []
    },
    {
      "cell_type": "code",
      "metadata": {
        "id": "h2VO-RkdAuL8",
        "colab_type": "code",
        "colab": {
          "base_uri": "https://localhost:8080/",
          "height": 790
        },
        "outputId": "f9a8181b-442f-452c-8cd5-b8ab6693bb7c"
      },
      "source": [
        "part3_model_1 = Sequential()\n",
        "part3_model_1.add(layers.AveragePooling2D(input_shape=(256,256,3,)))\n",
        "part3_model_1.add(layers.Conv2D(kernel_size=5, filters=128, activation='relu'))\n",
        "part3_model_1.add(layers.MaxPooling2D())\n",
        "part3_model_1.add(layers.BatchNormalization())\n",
        "part3_model_1.add(layers.Dropout(0.3))\n",
        "part3_model_1.add(layers.Conv2D(kernel_size=5, filters=128, activation='relu'))\n",
        "part3_model_1.add(layers.MaxPooling2D())\n",
        "part3_model_1.add(layers.BatchNormalization())\n",
        "part3_model_1.add(layers.Dropout(0.3))\n",
        "part3_model_1.add(layers.Conv2D(kernel_size=5, filters=128, activation='relu'))\n",
        "part3_model_1.add(layers.BatchNormalization())\n",
        "part3_model_1.add(layers.Dropout(0.3))\n",
        "part3_model_1.add(layers.Conv2D(kernel_size=5, filters=256, activation='relu'))\n",
        "part3_model_1.add(layers.BatchNormalization())\n",
        "part3_model_1.add(layers.Dropout(0.3))\n",
        "part3_model_1.add(layers.Flatten())\n",
        "part3_model_1.add(layers.Dense(512, activation='relu'))\n",
        "part3_model_1.add(layers.Dense(256, activation='relu'))\n",
        "part3_model_1.add(layers.Dense(20, activation='softmax'))\n",
        "part3_model_1.summary()"
      ],
      "execution_count": 11,
      "outputs": [
        {
          "output_type": "stream",
          "text": [
            "Model: \"sequential\"\n",
            "_________________________________________________________________\n",
            "Layer (type)                 Output Shape              Param #   \n",
            "=================================================================\n",
            "average_pooling2d (AveragePo (None, 128, 128, 3)       0         \n",
            "_________________________________________________________________\n",
            "conv2d (Conv2D)              (None, 124, 124, 128)     9728      \n",
            "_________________________________________________________________\n",
            "max_pooling2d (MaxPooling2D) (None, 62, 62, 128)       0         \n",
            "_________________________________________________________________\n",
            "batch_normalization (BatchNo (None, 62, 62, 128)       512       \n",
            "_________________________________________________________________\n",
            "dropout (Dropout)            (None, 62, 62, 128)       0         \n",
            "_________________________________________________________________\n",
            "conv2d_1 (Conv2D)            (None, 58, 58, 128)       409728    \n",
            "_________________________________________________________________\n",
            "max_pooling2d_1 (MaxPooling2 (None, 29, 29, 128)       0         \n",
            "_________________________________________________________________\n",
            "batch_normalization_1 (Batch (None, 29, 29, 128)       512       \n",
            "_________________________________________________________________\n",
            "dropout_1 (Dropout)          (None, 29, 29, 128)       0         \n",
            "_________________________________________________________________\n",
            "conv2d_2 (Conv2D)            (None, 25, 25, 128)       409728    \n",
            "_________________________________________________________________\n",
            "batch_normalization_2 (Batch (None, 25, 25, 128)       512       \n",
            "_________________________________________________________________\n",
            "dropout_2 (Dropout)          (None, 25, 25, 128)       0         \n",
            "_________________________________________________________________\n",
            "conv2d_3 (Conv2D)            (None, 21, 21, 256)       819456    \n",
            "_________________________________________________________________\n",
            "batch_normalization_3 (Batch (None, 21, 21, 256)       1024      \n",
            "_________________________________________________________________\n",
            "dropout_3 (Dropout)          (None, 21, 21, 256)       0         \n",
            "_________________________________________________________________\n",
            "flatten (Flatten)            (None, 112896)            0         \n",
            "_________________________________________________________________\n",
            "dense (Dense)                (None, 512)               57803264  \n",
            "_________________________________________________________________\n",
            "dense_1 (Dense)              (None, 256)               131328    \n",
            "_________________________________________________________________\n",
            "dense_2 (Dense)              (None, 20)                5140      \n",
            "=================================================================\n",
            "Total params: 59,590,932\n",
            "Trainable params: 59,589,652\n",
            "Non-trainable params: 1,280\n",
            "_________________________________________________________________\n"
          ],
          "name": "stdout"
        }
      ]
    },
    {
      "cell_type": "code",
      "metadata": {
        "id": "FSWUI-LjAuMB",
        "colab_type": "code",
        "colab": {}
      },
      "source": [
        "part3_model_1.compile(loss='sparse_categorical_crossentropy', optimizer='adam', metrics=['accuracy', 'sparse_categorical_crossentropy'])"
      ],
      "execution_count": 12,
      "outputs": []
    },
    {
      "cell_type": "code",
      "metadata": {
        "id": "JKc8xq1-AuMG",
        "colab_type": "code",
        "colab": {
          "base_uri": "https://localhost:8080/",
          "height": 710
        },
        "outputId": "dc6e68d0-6e23-4d46-a0be-1a37f32f0ff8"
      },
      "source": [
        "part3_model_1_history = part3_model_1.fit(training_data, batch_size = 64, steps_per_epoch=6_400/64, epochs=50, verbose=1, validation_data=validating_data, callbacks=stopper)\n",
        "part3_model_1.save_weights('/content/gdrive/My Drive/part3_model_1.h5')"
      ],
      "execution_count": 13,
      "outputs": [
        {
          "output_type": "stream",
          "text": [
            "Epoch 1/50\n",
            "100/100 [==============================] - 130s 1s/step - loss: 8.1372 - accuracy: 0.0855 - sparse_categorical_crossentropy: 8.1372 - val_loss: 12.2937 - val_accuracy: 0.0544 - val_sparse_categorical_crossentropy: 12.2937\n",
            "Epoch 2/50\n",
            "100/100 [==============================] - 130s 1s/step - loss: 3.0146 - accuracy: 0.0476 - sparse_categorical_crossentropy: 3.0146 - val_loss: 2.9875 - val_accuracy: 0.0519 - val_sparse_categorical_crossentropy: 2.9875\n",
            "Epoch 3/50\n",
            "100/100 [==============================] - 130s 1s/step - loss: 3.0127 - accuracy: 0.0487 - sparse_categorical_crossentropy: 3.0127 - val_loss: 2.9958 - val_accuracy: 0.0500 - val_sparse_categorical_crossentropy: 2.9958\n",
            "Epoch 4/50\n",
            "100/100 [==============================] - 130s 1s/step - loss: 3.0012 - accuracy: 0.0456 - sparse_categorical_crossentropy: 3.0012 - val_loss: 3.0000 - val_accuracy: 0.0500 - val_sparse_categorical_crossentropy: 3.0000\n",
            "Epoch 5/50\n",
            "100/100 [==============================] - 130s 1s/step - loss: 3.0033 - accuracy: 0.0494 - sparse_categorical_crossentropy: 3.0033 - val_loss: 2.9957 - val_accuracy: 0.0500 - val_sparse_categorical_crossentropy: 2.9957\n",
            "Epoch 6/50\n",
            "100/100 [==============================] - 131s 1s/step - loss: 3.0437 - accuracy: 0.0480 - sparse_categorical_crossentropy: 3.0437 - val_loss: 2.9960 - val_accuracy: 0.0481 - val_sparse_categorical_crossentropy: 2.9960\n",
            "Epoch 7/50\n",
            "100/100 [==============================] - 131s 1s/step - loss: 3.0001 - accuracy: 0.0491 - sparse_categorical_crossentropy: 3.0001 - val_loss: 2.9964 - val_accuracy: 0.0500 - val_sparse_categorical_crossentropy: 2.9964\n",
            "Epoch 8/50\n",
            "100/100 [==============================] - 131s 1s/step - loss: 3.0264 - accuracy: 0.0448 - sparse_categorical_crossentropy: 3.0264 - val_loss: 2.9992 - val_accuracy: 0.0506 - val_sparse_categorical_crossentropy: 2.9992\n",
            "Epoch 9/50\n",
            "100/100 [==============================] - 131s 1s/step - loss: 2.9986 - accuracy: 0.0500 - sparse_categorical_crossentropy: 2.9986 - val_loss: 2.9962 - val_accuracy: 0.0500 - val_sparse_categorical_crossentropy: 2.9962\n",
            "Epoch 10/50\n",
            " 56/100 [===============>..............] - ETA: 45s - loss: 2.9993 - accuracy: 0.0511 - sparse_categorical_crossentropy: 2.9993"
          ],
          "name": "stdout"
        },
        {
          "output_type": "error",
          "ename": "KeyboardInterrupt",
          "evalue": "ignored",
          "traceback": [
            "\u001b[0;31m---------------------------------------------------------------------------\u001b[0m",
            "\u001b[0;31mKeyboardInterrupt\u001b[0m                         Traceback (most recent call last)",
            "\u001b[0;32m<ipython-input-13-77dfaf645e6e>\u001b[0m in \u001b[0;36m<module>\u001b[0;34m()\u001b[0m\n\u001b[0;32m----> 1\u001b[0;31m \u001b[0mpart3_model_1_history\u001b[0m \u001b[0;34m=\u001b[0m \u001b[0mpart3_model_1\u001b[0m\u001b[0;34m.\u001b[0m\u001b[0mfit\u001b[0m\u001b[0;34m(\u001b[0m\u001b[0mtraining_data\u001b[0m\u001b[0;34m,\u001b[0m \u001b[0mbatch_size\u001b[0m \u001b[0;34m=\u001b[0m \u001b[0;36m64\u001b[0m\u001b[0;34m,\u001b[0m \u001b[0msteps_per_epoch\u001b[0m\u001b[0;34m=\u001b[0m\u001b[0;36m6_400\u001b[0m\u001b[0;34m/\u001b[0m\u001b[0;36m64\u001b[0m\u001b[0;34m,\u001b[0m \u001b[0mepochs\u001b[0m\u001b[0;34m=\u001b[0m\u001b[0;36m50\u001b[0m\u001b[0;34m,\u001b[0m \u001b[0mverbose\u001b[0m\u001b[0;34m=\u001b[0m\u001b[0;36m1\u001b[0m\u001b[0;34m,\u001b[0m \u001b[0mvalidation_data\u001b[0m\u001b[0;34m=\u001b[0m\u001b[0mvalidating_data\u001b[0m\u001b[0;34m)\u001b[0m\u001b[0;34m\u001b[0m\u001b[0;34m\u001b[0m\u001b[0m\n\u001b[0m\u001b[1;32m      2\u001b[0m \u001b[0mpart3_model_1\u001b[0m\u001b[0;34m.\u001b[0m\u001b[0msave_weights\u001b[0m\u001b[0;34m(\u001b[0m\u001b[0;34m'/content/gdrive/My Drive/part3_model_1.h5'\u001b[0m\u001b[0;34m)\u001b[0m\u001b[0;34m\u001b[0m\u001b[0;34m\u001b[0m\u001b[0m\n",
            "\u001b[0;32m/usr/local/lib/python3.6/dist-packages/tensorflow/python/keras/engine/training.py\u001b[0m in \u001b[0;36m_method_wrapper\u001b[0;34m(self, *args, **kwargs)\u001b[0m\n\u001b[1;32m     64\u001b[0m   \u001b[0;32mdef\u001b[0m \u001b[0m_method_wrapper\u001b[0m\u001b[0;34m(\u001b[0m\u001b[0mself\u001b[0m\u001b[0;34m,\u001b[0m \u001b[0;34m*\u001b[0m\u001b[0margs\u001b[0m\u001b[0;34m,\u001b[0m \u001b[0;34m**\u001b[0m\u001b[0mkwargs\u001b[0m\u001b[0;34m)\u001b[0m\u001b[0;34m:\u001b[0m\u001b[0;34m\u001b[0m\u001b[0;34m\u001b[0m\u001b[0m\n\u001b[1;32m     65\u001b[0m     \u001b[0;32mif\u001b[0m \u001b[0;32mnot\u001b[0m \u001b[0mself\u001b[0m\u001b[0;34m.\u001b[0m\u001b[0m_in_multi_worker_mode\u001b[0m\u001b[0;34m(\u001b[0m\u001b[0;34m)\u001b[0m\u001b[0;34m:\u001b[0m  \u001b[0;31m# pylint: disable=protected-access\u001b[0m\u001b[0;34m\u001b[0m\u001b[0;34m\u001b[0m\u001b[0m\n\u001b[0;32m---> 66\u001b[0;31m       \u001b[0;32mreturn\u001b[0m \u001b[0mmethod\u001b[0m\u001b[0;34m(\u001b[0m\u001b[0mself\u001b[0m\u001b[0;34m,\u001b[0m \u001b[0;34m*\u001b[0m\u001b[0margs\u001b[0m\u001b[0;34m,\u001b[0m \u001b[0;34m**\u001b[0m\u001b[0mkwargs\u001b[0m\u001b[0;34m)\u001b[0m\u001b[0;34m\u001b[0m\u001b[0;34m\u001b[0m\u001b[0m\n\u001b[0m\u001b[1;32m     67\u001b[0m \u001b[0;34m\u001b[0m\u001b[0m\n\u001b[1;32m     68\u001b[0m     \u001b[0;31m# Running inside `run_distribute_coordinator` already.\u001b[0m\u001b[0;34m\u001b[0m\u001b[0;34m\u001b[0m\u001b[0;34m\u001b[0m\u001b[0m\n",
            "\u001b[0;32m/usr/local/lib/python3.6/dist-packages/tensorflow/python/keras/engine/training.py\u001b[0m in \u001b[0;36mfit\u001b[0;34m(self, x, y, batch_size, epochs, verbose, callbacks, validation_split, validation_data, shuffle, class_weight, sample_weight, initial_epoch, steps_per_epoch, validation_steps, validation_batch_size, validation_freq, max_queue_size, workers, use_multiprocessing)\u001b[0m\n\u001b[1;32m    853\u001b[0m                 \u001b[0mcontext\u001b[0m\u001b[0;34m.\u001b[0m\u001b[0masync_wait\u001b[0m\u001b[0;34m(\u001b[0m\u001b[0;34m)\u001b[0m\u001b[0;34m\u001b[0m\u001b[0;34m\u001b[0m\u001b[0m\n\u001b[1;32m    854\u001b[0m               \u001b[0mlogs\u001b[0m \u001b[0;34m=\u001b[0m \u001b[0mtmp_logs\u001b[0m  \u001b[0;31m# No error, now safe to assign to logs.\u001b[0m\u001b[0;34m\u001b[0m\u001b[0;34m\u001b[0m\u001b[0m\n\u001b[0;32m--> 855\u001b[0;31m               \u001b[0mcallbacks\u001b[0m\u001b[0;34m.\u001b[0m\u001b[0mon_train_batch_end\u001b[0m\u001b[0;34m(\u001b[0m\u001b[0mstep\u001b[0m\u001b[0;34m,\u001b[0m \u001b[0mlogs\u001b[0m\u001b[0;34m)\u001b[0m\u001b[0;34m\u001b[0m\u001b[0;34m\u001b[0m\u001b[0m\n\u001b[0m\u001b[1;32m    856\u001b[0m         \u001b[0mepoch_logs\u001b[0m \u001b[0;34m=\u001b[0m \u001b[0mcopy\u001b[0m\u001b[0;34m.\u001b[0m\u001b[0mcopy\u001b[0m\u001b[0;34m(\u001b[0m\u001b[0mlogs\u001b[0m\u001b[0;34m)\u001b[0m\u001b[0;34m\u001b[0m\u001b[0;34m\u001b[0m\u001b[0m\n\u001b[1;32m    857\u001b[0m \u001b[0;34m\u001b[0m\u001b[0m\n",
            "\u001b[0;32m/usr/local/lib/python3.6/dist-packages/tensorflow/python/keras/callbacks.py\u001b[0m in \u001b[0;36mon_train_batch_end\u001b[0;34m(self, batch, logs)\u001b[0m\n\u001b[1;32m    387\u001b[0m     \"\"\"\n\u001b[1;32m    388\u001b[0m     \u001b[0;32mif\u001b[0m \u001b[0mself\u001b[0m\u001b[0;34m.\u001b[0m\u001b[0m_should_call_train_batch_hooks\u001b[0m\u001b[0;34m:\u001b[0m\u001b[0;34m\u001b[0m\u001b[0;34m\u001b[0m\u001b[0m\n\u001b[0;32m--> 389\u001b[0;31m       \u001b[0mlogs\u001b[0m \u001b[0;34m=\u001b[0m \u001b[0mself\u001b[0m\u001b[0;34m.\u001b[0m\u001b[0m_process_logs\u001b[0m\u001b[0;34m(\u001b[0m\u001b[0mlogs\u001b[0m\u001b[0;34m)\u001b[0m\u001b[0;34m\u001b[0m\u001b[0;34m\u001b[0m\u001b[0m\n\u001b[0m\u001b[1;32m    390\u001b[0m       \u001b[0mself\u001b[0m\u001b[0;34m.\u001b[0m\u001b[0m_call_batch_hook\u001b[0m\u001b[0;34m(\u001b[0m\u001b[0mModeKeys\u001b[0m\u001b[0;34m.\u001b[0m\u001b[0mTRAIN\u001b[0m\u001b[0;34m,\u001b[0m \u001b[0;34m'end'\u001b[0m\u001b[0;34m,\u001b[0m \u001b[0mbatch\u001b[0m\u001b[0;34m,\u001b[0m \u001b[0mlogs\u001b[0m\u001b[0;34m=\u001b[0m\u001b[0mlogs\u001b[0m\u001b[0;34m)\u001b[0m\u001b[0;34m\u001b[0m\u001b[0;34m\u001b[0m\u001b[0m\n\u001b[1;32m    391\u001b[0m \u001b[0;34m\u001b[0m\u001b[0m\n",
            "\u001b[0;32m/usr/local/lib/python3.6/dist-packages/tensorflow/python/keras/callbacks.py\u001b[0m in \u001b[0;36m_process_logs\u001b[0;34m(self, logs)\u001b[0m\n\u001b[1;32m    263\u001b[0m     \u001b[0;34m\"\"\"Turns tensors into numpy arrays or Python scalars.\"\"\"\u001b[0m\u001b[0;34m\u001b[0m\u001b[0;34m\u001b[0m\u001b[0m\n\u001b[1;32m    264\u001b[0m     \u001b[0;32mif\u001b[0m \u001b[0mlogs\u001b[0m\u001b[0;34m:\u001b[0m\u001b[0;34m\u001b[0m\u001b[0;34m\u001b[0m\u001b[0m\n\u001b[0;32m--> 265\u001b[0;31m       \u001b[0;32mreturn\u001b[0m \u001b[0mtf_utils\u001b[0m\u001b[0;34m.\u001b[0m\u001b[0mto_numpy_or_python_type\u001b[0m\u001b[0;34m(\u001b[0m\u001b[0mlogs\u001b[0m\u001b[0;34m)\u001b[0m\u001b[0;34m\u001b[0m\u001b[0;34m\u001b[0m\u001b[0m\n\u001b[0m\u001b[1;32m    266\u001b[0m     \u001b[0;32mreturn\u001b[0m \u001b[0;34m{\u001b[0m\u001b[0;34m}\u001b[0m\u001b[0;34m\u001b[0m\u001b[0;34m\u001b[0m\u001b[0m\n\u001b[1;32m    267\u001b[0m \u001b[0;34m\u001b[0m\u001b[0m\n",
            "\u001b[0;32m/usr/local/lib/python3.6/dist-packages/tensorflow/python/keras/utils/tf_utils.py\u001b[0m in \u001b[0;36mto_numpy_or_python_type\u001b[0;34m(tensors)\u001b[0m\n\u001b[1;32m    521\u001b[0m     \u001b[0;32mreturn\u001b[0m \u001b[0mt\u001b[0m  \u001b[0;31m# Don't turn ragged or sparse tensors to NumPy.\u001b[0m\u001b[0;34m\u001b[0m\u001b[0;34m\u001b[0m\u001b[0m\n\u001b[1;32m    522\u001b[0m \u001b[0;34m\u001b[0m\u001b[0m\n\u001b[0;32m--> 523\u001b[0;31m   \u001b[0;32mreturn\u001b[0m \u001b[0mnest\u001b[0m\u001b[0;34m.\u001b[0m\u001b[0mmap_structure\u001b[0m\u001b[0;34m(\u001b[0m\u001b[0m_to_single_numpy_or_python_type\u001b[0m\u001b[0;34m,\u001b[0m \u001b[0mtensors\u001b[0m\u001b[0;34m)\u001b[0m\u001b[0;34m\u001b[0m\u001b[0;34m\u001b[0m\u001b[0m\n\u001b[0m\u001b[1;32m    524\u001b[0m \u001b[0;34m\u001b[0m\u001b[0m\n",
            "\u001b[0;32m/usr/local/lib/python3.6/dist-packages/tensorflow/python/util/nest.py\u001b[0m in \u001b[0;36mmap_structure\u001b[0;34m(func, *structure, **kwargs)\u001b[0m\n\u001b[1;32m    615\u001b[0m \u001b[0;34m\u001b[0m\u001b[0m\n\u001b[1;32m    616\u001b[0m   return pack_sequence_as(\n\u001b[0;32m--> 617\u001b[0;31m       \u001b[0mstructure\u001b[0m\u001b[0;34m[\u001b[0m\u001b[0;36m0\u001b[0m\u001b[0;34m]\u001b[0m\u001b[0;34m,\u001b[0m \u001b[0;34m[\u001b[0m\u001b[0mfunc\u001b[0m\u001b[0;34m(\u001b[0m\u001b[0;34m*\u001b[0m\u001b[0mx\u001b[0m\u001b[0;34m)\u001b[0m \u001b[0;32mfor\u001b[0m \u001b[0mx\u001b[0m \u001b[0;32min\u001b[0m \u001b[0mentries\u001b[0m\u001b[0;34m]\u001b[0m\u001b[0;34m,\u001b[0m\u001b[0;34m\u001b[0m\u001b[0;34m\u001b[0m\u001b[0m\n\u001b[0m\u001b[1;32m    618\u001b[0m       expand_composites=expand_composites)\n\u001b[1;32m    619\u001b[0m \u001b[0;34m\u001b[0m\u001b[0m\n",
            "\u001b[0;32m/usr/local/lib/python3.6/dist-packages/tensorflow/python/util/nest.py\u001b[0m in \u001b[0;36m<listcomp>\u001b[0;34m(.0)\u001b[0m\n\u001b[1;32m    615\u001b[0m \u001b[0;34m\u001b[0m\u001b[0m\n\u001b[1;32m    616\u001b[0m   return pack_sequence_as(\n\u001b[0;32m--> 617\u001b[0;31m       \u001b[0mstructure\u001b[0m\u001b[0;34m[\u001b[0m\u001b[0;36m0\u001b[0m\u001b[0;34m]\u001b[0m\u001b[0;34m,\u001b[0m \u001b[0;34m[\u001b[0m\u001b[0mfunc\u001b[0m\u001b[0;34m(\u001b[0m\u001b[0;34m*\u001b[0m\u001b[0mx\u001b[0m\u001b[0;34m)\u001b[0m \u001b[0;32mfor\u001b[0m \u001b[0mx\u001b[0m \u001b[0;32min\u001b[0m \u001b[0mentries\u001b[0m\u001b[0;34m]\u001b[0m\u001b[0;34m,\u001b[0m\u001b[0;34m\u001b[0m\u001b[0;34m\u001b[0m\u001b[0m\n\u001b[0m\u001b[1;32m    618\u001b[0m       expand_composites=expand_composites)\n\u001b[1;32m    619\u001b[0m \u001b[0;34m\u001b[0m\u001b[0m\n",
            "\u001b[0;32m/usr/local/lib/python3.6/dist-packages/tensorflow/python/keras/utils/tf_utils.py\u001b[0m in \u001b[0;36m_to_single_numpy_or_python_type\u001b[0;34m(t)\u001b[0m\n\u001b[1;32m    517\u001b[0m   \u001b[0;32mdef\u001b[0m \u001b[0m_to_single_numpy_or_python_type\u001b[0m\u001b[0;34m(\u001b[0m\u001b[0mt\u001b[0m\u001b[0;34m)\u001b[0m\u001b[0;34m:\u001b[0m\u001b[0;34m\u001b[0m\u001b[0;34m\u001b[0m\u001b[0m\n\u001b[1;32m    518\u001b[0m     \u001b[0;32mif\u001b[0m \u001b[0misinstance\u001b[0m\u001b[0;34m(\u001b[0m\u001b[0mt\u001b[0m\u001b[0;34m,\u001b[0m \u001b[0mops\u001b[0m\u001b[0;34m.\u001b[0m\u001b[0mTensor\u001b[0m\u001b[0;34m)\u001b[0m\u001b[0;34m:\u001b[0m\u001b[0;34m\u001b[0m\u001b[0;34m\u001b[0m\u001b[0m\n\u001b[0;32m--> 519\u001b[0;31m       \u001b[0mx\u001b[0m \u001b[0;34m=\u001b[0m \u001b[0mt\u001b[0m\u001b[0;34m.\u001b[0m\u001b[0mnumpy\u001b[0m\u001b[0;34m(\u001b[0m\u001b[0;34m)\u001b[0m\u001b[0;34m\u001b[0m\u001b[0;34m\u001b[0m\u001b[0m\n\u001b[0m\u001b[1;32m    520\u001b[0m       \u001b[0;32mreturn\u001b[0m \u001b[0mx\u001b[0m\u001b[0;34m.\u001b[0m\u001b[0mitem\u001b[0m\u001b[0;34m(\u001b[0m\u001b[0;34m)\u001b[0m \u001b[0;32mif\u001b[0m \u001b[0mnp\u001b[0m\u001b[0;34m.\u001b[0m\u001b[0mndim\u001b[0m\u001b[0;34m(\u001b[0m\u001b[0mx\u001b[0m\u001b[0;34m)\u001b[0m \u001b[0;34m==\u001b[0m \u001b[0;36m0\u001b[0m \u001b[0;32melse\u001b[0m \u001b[0mx\u001b[0m\u001b[0;34m\u001b[0m\u001b[0;34m\u001b[0m\u001b[0m\n\u001b[1;32m    521\u001b[0m     \u001b[0;32mreturn\u001b[0m \u001b[0mt\u001b[0m  \u001b[0;31m# Don't turn ragged or sparse tensors to NumPy.\u001b[0m\u001b[0;34m\u001b[0m\u001b[0;34m\u001b[0m\u001b[0m\n",
            "\u001b[0;32m/usr/local/lib/python3.6/dist-packages/tensorflow/python/framework/ops.py\u001b[0m in \u001b[0;36mnumpy\u001b[0;34m(self)\u001b[0m\n\u001b[1;32m    959\u001b[0m     \"\"\"\n\u001b[1;32m    960\u001b[0m     \u001b[0;31m# TODO(slebedev): Consider avoiding a copy for non-CPU or remote tensors.\u001b[0m\u001b[0;34m\u001b[0m\u001b[0;34m\u001b[0m\u001b[0;34m\u001b[0m\u001b[0m\n\u001b[0;32m--> 961\u001b[0;31m     \u001b[0mmaybe_arr\u001b[0m \u001b[0;34m=\u001b[0m \u001b[0mself\u001b[0m\u001b[0;34m.\u001b[0m\u001b[0m_numpy\u001b[0m\u001b[0;34m(\u001b[0m\u001b[0;34m)\u001b[0m  \u001b[0;31m# pylint: disable=protected-access\u001b[0m\u001b[0;34m\u001b[0m\u001b[0;34m\u001b[0m\u001b[0m\n\u001b[0m\u001b[1;32m    962\u001b[0m     \u001b[0;32mreturn\u001b[0m \u001b[0mmaybe_arr\u001b[0m\u001b[0;34m.\u001b[0m\u001b[0mcopy\u001b[0m\u001b[0;34m(\u001b[0m\u001b[0;34m)\u001b[0m \u001b[0;32mif\u001b[0m \u001b[0misinstance\u001b[0m\u001b[0;34m(\u001b[0m\u001b[0mmaybe_arr\u001b[0m\u001b[0;34m,\u001b[0m \u001b[0mnp\u001b[0m\u001b[0;34m.\u001b[0m\u001b[0mndarray\u001b[0m\u001b[0;34m)\u001b[0m \u001b[0;32melse\u001b[0m \u001b[0mmaybe_arr\u001b[0m\u001b[0;34m\u001b[0m\u001b[0;34m\u001b[0m\u001b[0m\n\u001b[1;32m    963\u001b[0m \u001b[0;34m\u001b[0m\u001b[0m\n",
            "\u001b[0;32m/usr/local/lib/python3.6/dist-packages/tensorflow/python/framework/ops.py\u001b[0m in \u001b[0;36m_numpy\u001b[0;34m(self)\u001b[0m\n\u001b[1;32m    925\u001b[0m     \u001b[0;31m# pylint: disable=protected-access\u001b[0m\u001b[0;34m\u001b[0m\u001b[0;34m\u001b[0m\u001b[0;34m\u001b[0m\u001b[0m\n\u001b[1;32m    926\u001b[0m     \u001b[0;32mtry\u001b[0m\u001b[0;34m:\u001b[0m\u001b[0;34m\u001b[0m\u001b[0;34m\u001b[0m\u001b[0m\n\u001b[0;32m--> 927\u001b[0;31m       \u001b[0;32mreturn\u001b[0m \u001b[0mself\u001b[0m\u001b[0;34m.\u001b[0m\u001b[0m_numpy_internal\u001b[0m\u001b[0;34m(\u001b[0m\u001b[0;34m)\u001b[0m\u001b[0;34m\u001b[0m\u001b[0;34m\u001b[0m\u001b[0m\n\u001b[0m\u001b[1;32m    928\u001b[0m     \u001b[0;32mexcept\u001b[0m \u001b[0mcore\u001b[0m\u001b[0;34m.\u001b[0m\u001b[0m_NotOkStatusException\u001b[0m \u001b[0;32mas\u001b[0m \u001b[0me\u001b[0m\u001b[0;34m:\u001b[0m\u001b[0;34m\u001b[0m\u001b[0;34m\u001b[0m\u001b[0m\n\u001b[1;32m    929\u001b[0m       \u001b[0msix\u001b[0m\u001b[0;34m.\u001b[0m\u001b[0mraise_from\u001b[0m\u001b[0;34m(\u001b[0m\u001b[0mcore\u001b[0m\u001b[0;34m.\u001b[0m\u001b[0m_status_to_exception\u001b[0m\u001b[0;34m(\u001b[0m\u001b[0me\u001b[0m\u001b[0;34m.\u001b[0m\u001b[0mcode\u001b[0m\u001b[0;34m,\u001b[0m \u001b[0me\u001b[0m\u001b[0;34m.\u001b[0m\u001b[0mmessage\u001b[0m\u001b[0;34m)\u001b[0m\u001b[0;34m,\u001b[0m \u001b[0;32mNone\u001b[0m\u001b[0;34m)\u001b[0m\u001b[0;34m\u001b[0m\u001b[0;34m\u001b[0m\u001b[0m\n",
            "\u001b[0;31mKeyboardInterrupt\u001b[0m: "
          ]
        }
      ]
    },
    {
      "cell_type": "markdown",
      "metadata": {
        "id": "EIrIFNLHZ2nf",
        "colab_type": "text"
      },
      "source": [
        "## This was my model from Part II with extra neurons on the last layer for the extra classes. It performed about as poorly as possible. With an accuracy of 0.05, the model did as well as random chance."
      ]
    },
    {
      "cell_type": "code",
      "metadata": {
        "colab_type": "code",
        "id": "LOwCyilabc8O",
        "colab": {
          "base_uri": "https://localhost:8080/",
          "height": 1000
        },
        "outputId": "4d65ee51-4c60-40f2-a21a-d564755abd04"
      },
      "source": [
        "part3_model_2 = Sequential()\n",
        "part3_model_2.add(layers.AveragePooling2D(input_shape=(256,256,3,)))\n",
        "part3_model_2.add(layers.Conv2D(kernel_size=5, filters=128, activation='relu'))\n",
        "part3_model_2.add(layers.BatchNormalization())\n",
        "part3_model_2.add(layers.MaxPooling2D())\n",
        "part3_model_2.add(layers.Conv2D(kernel_size=5, filters=128, activation='relu'))\n",
        "part3_model_2.add(layers.BatchNormalization())\n",
        "part3_model_2.add(layers.Dropout(0.3))\n",
        "part3_model_2.add(layers.Conv2D(kernel_size=5, filters=128, activation='relu'))\n",
        "part3_model_2.add(layers.BatchNormalization())\n",
        "part3_model_2.add(layers.Dropout(0.3))\n",
        "part3_model_2.add(layers.Conv2D(kernel_size=5, filters=128, activation='relu'))\n",
        "part3_model_2.add(layers.BatchNormalization())\n",
        "part3_model_2.add(layers.Dropout(0.3))\n",
        "part3_model_2.add(layers.Conv2D(kernel_size=5, filters=128, activation='relu'))\n",
        "part3_model_2.add(layers.BatchNormalization())\n",
        "part3_model_2.add(layers.Dropout(0.3))\n",
        "part3_model_2.add(layers.Conv2D(kernel_size=5, filters=128, activation='relu'))\n",
        "part3_model_2.add(layers.BatchNormalization())\n",
        "part3_model_2.add(layers.Dropout(0.3))\n",
        "part3_model_2.add(layers.Conv2D(kernel_size=5, filters=128, activation='relu'))\n",
        "part3_model_2.add(layers.BatchNormalization())\n",
        "part3_model_2.add(layers.Dropout(0.3))\n",
        "part3_model_2.add(layers.Conv2D(kernel_size=5, filters=128, activation='relu'))\n",
        "part3_model_2.add(layers.BatchNormalization())\n",
        "part3_model_2.add(layers.Dropout(0.3))\n",
        "part3_model_2.add(layers.Flatten())\n",
        "part3_model_2.add(layers.Dense(512, activation='relu'))\n",
        "part3_model_2.add(layers.Dense(256, activation='relu'))\n",
        "part3_model_2.add(layers.Dense(20, activation='softmax'))\n",
        "part3_model_2.summary()"
      ],
      "execution_count": 14,
      "outputs": [
        {
          "output_type": "stream",
          "text": [
            "Model: \"sequential_1\"\n",
            "_________________________________________________________________\n",
            "Layer (type)                 Output Shape              Param #   \n",
            "=================================================================\n",
            "average_pooling2d_1 (Average (None, 128, 128, 3)       0         \n",
            "_________________________________________________________________\n",
            "conv2d_4 (Conv2D)            (None, 124, 124, 128)     9728      \n",
            "_________________________________________________________________\n",
            "batch_normalization_4 (Batch (None, 124, 124, 128)     512       \n",
            "_________________________________________________________________\n",
            "max_pooling2d_2 (MaxPooling2 (None, 62, 62, 128)       0         \n",
            "_________________________________________________________________\n",
            "conv2d_5 (Conv2D)            (None, 58, 58, 128)       409728    \n",
            "_________________________________________________________________\n",
            "batch_normalization_5 (Batch (None, 58, 58, 128)       512       \n",
            "_________________________________________________________________\n",
            "dropout_4 (Dropout)          (None, 58, 58, 128)       0         \n",
            "_________________________________________________________________\n",
            "conv2d_6 (Conv2D)            (None, 54, 54, 128)       409728    \n",
            "_________________________________________________________________\n",
            "batch_normalization_6 (Batch (None, 54, 54, 128)       512       \n",
            "_________________________________________________________________\n",
            "dropout_5 (Dropout)          (None, 54, 54, 128)       0         \n",
            "_________________________________________________________________\n",
            "conv2d_7 (Conv2D)            (None, 50, 50, 128)       409728    \n",
            "_________________________________________________________________\n",
            "batch_normalization_7 (Batch (None, 50, 50, 128)       512       \n",
            "_________________________________________________________________\n",
            "dropout_6 (Dropout)          (None, 50, 50, 128)       0         \n",
            "_________________________________________________________________\n",
            "conv2d_8 (Conv2D)            (None, 46, 46, 128)       409728    \n",
            "_________________________________________________________________\n",
            "batch_normalization_8 (Batch (None, 46, 46, 128)       512       \n",
            "_________________________________________________________________\n",
            "dropout_7 (Dropout)          (None, 46, 46, 128)       0         \n",
            "_________________________________________________________________\n",
            "conv2d_9 (Conv2D)            (None, 42, 42, 128)       409728    \n",
            "_________________________________________________________________\n",
            "batch_normalization_9 (Batch (None, 42, 42, 128)       512       \n",
            "_________________________________________________________________\n",
            "dropout_8 (Dropout)          (None, 42, 42, 128)       0         \n",
            "_________________________________________________________________\n",
            "conv2d_10 (Conv2D)           (None, 38, 38, 128)       409728    \n",
            "_________________________________________________________________\n",
            "batch_normalization_10 (Batc (None, 38, 38, 128)       512       \n",
            "_________________________________________________________________\n",
            "dropout_9 (Dropout)          (None, 38, 38, 128)       0         \n",
            "_________________________________________________________________\n",
            "conv2d_11 (Conv2D)           (None, 34, 34, 128)       409728    \n",
            "_________________________________________________________________\n",
            "batch_normalization_11 (Batc (None, 34, 34, 128)       512       \n",
            "_________________________________________________________________\n",
            "dropout_10 (Dropout)         (None, 34, 34, 128)       0         \n",
            "_________________________________________________________________\n",
            "flatten_1 (Flatten)          (None, 147968)            0         \n",
            "_________________________________________________________________\n",
            "dense_3 (Dense)              (None, 512)               75760128  \n",
            "_________________________________________________________________\n",
            "dense_4 (Dense)              (None, 256)               131328    \n",
            "_________________________________________________________________\n",
            "dense_5 (Dense)              (None, 20)                5140      \n",
            "=================================================================\n",
            "Total params: 78,778,516\n",
            "Trainable params: 78,776,468\n",
            "Non-trainable params: 2,048\n",
            "_________________________________________________________________\n"
          ],
          "name": "stdout"
        }
      ]
    },
    {
      "cell_type": "code",
      "metadata": {
        "colab_type": "code",
        "id": "uWQ0HPIacJtw",
        "colab": {}
      },
      "source": [
        "part3_model_2.compile(loss='sparse_categorical_crossentropy', optimizer='adam', metrics=['accuracy', 'sparse_categorical_crossentropy'])"
      ],
      "execution_count": 15,
      "outputs": []
    },
    {
      "cell_type": "code",
      "metadata": {
        "colab_type": "code",
        "id": "tnFWcgnVcRsO",
        "colab": {
          "base_uri": "https://localhost:8080/",
          "height": 306
        },
        "outputId": "03553c7c-8930-4601-b722-d7261d97f031"
      },
      "source": [
        "part3_model_2_history = part3_model_2.fit(training_data, batch_size = 64, steps_per_epoch=6_400/64, epochs=50, verbose=1, validation_data=validating_data, callbacks=stopper)\n",
        "part3_model_2.save_weights('/content/gdrive/My Drive/part3_model_2.h5')"
      ],
      "execution_count": 16,
      "outputs": [
        {
          "output_type": "stream",
          "text": [
            "Epoch 1/50\n",
            "100/100 [==============================] - 139s 1s/step - loss: 4.8982 - accuracy: 0.0637 - sparse_categorical_crossentropy: 4.8982 - val_loss: 3.0421 - val_accuracy: 0.0556 - val_sparse_categorical_crossentropy: 3.0421\n",
            "Epoch 2/50\n",
            "100/100 [==============================] - 139s 1s/step - loss: 3.0148 - accuracy: 0.0453 - sparse_categorical_crossentropy: 3.0148 - val_loss: 3.0022 - val_accuracy: 0.0519 - val_sparse_categorical_crossentropy: 3.0022\n",
            "Epoch 3/50\n",
            "100/100 [==============================] - 139s 1s/step - loss: 3.0031 - accuracy: 0.0506 - sparse_categorical_crossentropy: 3.0031 - val_loss: 3.0102 - val_accuracy: 0.0494 - val_sparse_categorical_crossentropy: 3.0102\n",
            "Epoch 4/50\n",
            "100/100 [==============================] - 138s 1s/step - loss: 3.0030 - accuracy: 0.0483 - sparse_categorical_crossentropy: 3.0030 - val_loss: 2.9978 - val_accuracy: 0.0500 - val_sparse_categorical_crossentropy: 2.9978\n",
            "Epoch 5/50\n",
            "100/100 [==============================] - 138s 1s/step - loss: 2.9979 - accuracy: 0.0495 - sparse_categorical_crossentropy: 2.9979 - val_loss: 2.9956 - val_accuracy: 0.0500 - val_sparse_categorical_crossentropy: 2.9956\n",
            "Epoch 6/50\n",
            "100/100 [==============================] - 139s 1s/step - loss: 2.9974 - accuracy: 0.0497 - sparse_categorical_crossentropy: 2.9974 - val_loss: 2.9958 - val_accuracy: 0.0500 - val_sparse_categorical_crossentropy: 2.9958\n",
            "Epoch 7/50\n",
            "100/100 [==============================] - 138s 1s/step - loss: 2.9960 - accuracy: 0.0470 - sparse_categorical_crossentropy: 2.9960 - val_loss: 2.9959 - val_accuracy: 0.0500 - val_sparse_categorical_crossentropy: 2.9959\n",
            "Epoch 8/50\n",
            "100/100 [==============================] - 139s 1s/step - loss: 2.9966 - accuracy: 0.0472 - sparse_categorical_crossentropy: 2.9966 - val_loss: 3.0195 - val_accuracy: 0.0512 - val_sparse_categorical_crossentropy: 3.0195\n"
          ],
          "name": "stdout"
        }
      ]
    },
    {
      "cell_type": "markdown",
      "metadata": {
        "id": "Gggu9DsWbPXL",
        "colab_type": "text"
      },
      "source": [
        "## This model went about as well as the last. I added extra counvolutional layers, but I think that it would have benefitted more from another dense layer to help it learn."
      ]
    },
    {
      "cell_type": "code",
      "metadata": {
        "colab_type": "code",
        "id": "U2e7Z-XekdJl",
        "colab": {
          "base_uri": "https://localhost:8080/",
          "height": 756
        },
        "outputId": "a65d798f-9464-4817-dc9a-db1b73bf04a2"
      },
      "source": [
        "part3_model_3 = Sequential()\n",
        "part3_model_3.add(layers.AveragePooling2D(input_shape=(256,256,3,)))\n",
        "part3_model_3.add(layers.Conv2D(kernel_size=5, strides=2, filters=128, activation='relu'))\n",
        "part3_model_3.add(layers.MaxPooling2D())\n",
        "part3_model_3.add(layers.BatchNormalization())\n",
        "part3_model_3.add(layers.Conv2D(kernel_size=5, filters=128, activation='relu'))\n",
        "part3_model_3.add(layers.BatchNormalization())\n",
        "part3_model_3.add(layers.Dropout(0.3))\n",
        "part3_model_3.add(layers.Conv2D(kernel_size=5, filters=128, activation='relu'))\n",
        "part3_model_3.add(layers.BatchNormalization())\n",
        "part3_model_3.add(layers.Dropout(0.3))\n",
        "part3_model_3.add(layers.Conv2D(kernel_size=5, filters=256, activation='relu'))\n",
        "part3_model_3.add(layers.BatchNormalization())\n",
        "part3_model_3.add(layers.Dropout(0.3))\n",
        "part3_model_3.add(layers.Flatten())\n",
        "part3_model_3.add(layers.Dense(1024, activation='relu'))\n",
        "part3_model_3.add(layers.Dense(512, activation='relu'))\n",
        "part3_model_3.add(layers.Dense(256, activation='relu'))\n",
        "part3_model_3.add(layers.Dense(20, activation='softmax'))\n",
        "part3_model_3.summary()"
      ],
      "execution_count": 23,
      "outputs": [
        {
          "output_type": "stream",
          "text": [
            "Model: \"sequential_4\"\n",
            "_________________________________________________________________\n",
            "Layer (type)                 Output Shape              Param #   \n",
            "=================================================================\n",
            "average_pooling2d_4 (Average (None, 128, 128, 3)       0         \n",
            "_________________________________________________________________\n",
            "conv2d_20 (Conv2D)           (None, 62, 62, 128)       9728      \n",
            "_________________________________________________________________\n",
            "max_pooling2d_4 (MaxPooling2 (None, 31, 31, 128)       0         \n",
            "_________________________________________________________________\n",
            "batch_normalization_20 (Batc (None, 31, 31, 128)       512       \n",
            "_________________________________________________________________\n",
            "conv2d_21 (Conv2D)           (None, 27, 27, 128)       409728    \n",
            "_________________________________________________________________\n",
            "batch_normalization_21 (Batc (None, 27, 27, 128)       512       \n",
            "_________________________________________________________________\n",
            "dropout_19 (Dropout)         (None, 27, 27, 128)       0         \n",
            "_________________________________________________________________\n",
            "conv2d_22 (Conv2D)           (None, 23, 23, 128)       409728    \n",
            "_________________________________________________________________\n",
            "batch_normalization_22 (Batc (None, 23, 23, 128)       512       \n",
            "_________________________________________________________________\n",
            "dropout_20 (Dropout)         (None, 23, 23, 128)       0         \n",
            "_________________________________________________________________\n",
            "conv2d_23 (Conv2D)           (None, 19, 19, 256)       819456    \n",
            "_________________________________________________________________\n",
            "batch_normalization_23 (Batc (None, 19, 19, 256)       1024      \n",
            "_________________________________________________________________\n",
            "dropout_21 (Dropout)         (None, 19, 19, 256)       0         \n",
            "_________________________________________________________________\n",
            "flatten_4 (Flatten)          (None, 92416)             0         \n",
            "_________________________________________________________________\n",
            "dense_14 (Dense)             (None, 1024)              94635008  \n",
            "_________________________________________________________________\n",
            "dense_15 (Dense)             (None, 512)               524800    \n",
            "_________________________________________________________________\n",
            "dense_16 (Dense)             (None, 256)               131328    \n",
            "_________________________________________________________________\n",
            "dense_17 (Dense)             (None, 20)                5140      \n",
            "=================================================================\n",
            "Total params: 96,947,476\n",
            "Trainable params: 96,946,196\n",
            "Non-trainable params: 1,280\n",
            "_________________________________________________________________\n"
          ],
          "name": "stdout"
        }
      ]
    },
    {
      "cell_type": "code",
      "metadata": {
        "colab_type": "code",
        "id": "syJb0B49manB",
        "colab": {}
      },
      "source": [
        "part3_model_3.compile(loss='sparse_categorical_crossentropy', optimizer='adam', metrics=['accuracy', 'sparse_categorical_crossentropy'])"
      ],
      "execution_count": 24,
      "outputs": []
    },
    {
      "cell_type": "code",
      "metadata": {
        "colab_type": "code",
        "id": "zFggiR6bmgZ8",
        "colab": {
          "base_uri": "https://localhost:8080/",
          "height": 910
        },
        "outputId": "8586f78e-6ae5-4937-ee4f-3f490038e00b"
      },
      "source": [
        "part3_model_3_history = part3_model_3.fit(training_data, batch_size = 64, steps_per_epoch=6_400/64, epochs=50, verbose=1, validation_data=validating_data, callbacks=stopper)\n",
        "part3_model_3.save_weights('/content/gdrive/My Drive/part3_model_3.h5')"
      ],
      "execution_count": 25,
      "outputs": [
        {
          "output_type": "stream",
          "text": [
            "Epoch 1/50\n",
            "100/100 [==============================] - 127s 1s/step - loss: 4.6031 - accuracy: 0.1319 - sparse_categorical_crossentropy: 4.6031 - val_loss: 5.3841 - val_accuracy: 0.0331 - val_sparse_categorical_crossentropy: 5.3841\n",
            "Epoch 2/50\n",
            "100/100 [==============================] - 128s 1s/step - loss: 2.8116 - accuracy: 0.1604 - sparse_categorical_crossentropy: 2.8116 - val_loss: 3.1288 - val_accuracy: 0.0619 - val_sparse_categorical_crossentropy: 3.1288\n",
            "Epoch 3/50\n",
            "100/100 [==============================] - 129s 1s/step - loss: 2.6565 - accuracy: 0.1978 - sparse_categorical_crossentropy: 2.6565 - val_loss: 2.7585 - val_accuracy: 0.1525 - val_sparse_categorical_crossentropy: 2.7585\n",
            "Epoch 4/50\n",
            "100/100 [==============================] - 130s 1s/step - loss: 2.5514 - accuracy: 0.2188 - sparse_categorical_crossentropy: 2.5514 - val_loss: 2.7846 - val_accuracy: 0.1906 - val_sparse_categorical_crossentropy: 2.7846\n",
            "Epoch 5/50\n",
            "100/100 [==============================] - 129s 1s/step - loss: 2.3777 - accuracy: 0.2608 - sparse_categorical_crossentropy: 2.3777 - val_loss: 2.7738 - val_accuracy: 0.1831 - val_sparse_categorical_crossentropy: 2.7738\n",
            "Epoch 6/50\n",
            "100/100 [==============================] - 128s 1s/step - loss: 2.2680 - accuracy: 0.2941 - sparse_categorical_crossentropy: 2.2680 - val_loss: 2.8779 - val_accuracy: 0.1981 - val_sparse_categorical_crossentropy: 2.8779\n",
            "Epoch 7/50\n",
            "100/100 [==============================] - 128s 1s/step - loss: 2.1814 - accuracy: 0.3294 - sparse_categorical_crossentropy: 2.1814 - val_loss: 2.5215 - val_accuracy: 0.2288 - val_sparse_categorical_crossentropy: 2.5215\n",
            "Epoch 8/50\n",
            "100/100 [==============================] - 128s 1s/step - loss: 2.1587 - accuracy: 0.3213 - sparse_categorical_crossentropy: 2.1587 - val_loss: 3.5211 - val_accuracy: 0.1363 - val_sparse_categorical_crossentropy: 3.5211\n",
            "Epoch 9/50\n",
            "100/100 [==============================] - 128s 1s/step - loss: 2.1488 - accuracy: 0.3332 - sparse_categorical_crossentropy: 2.1488 - val_loss: 2.8014 - val_accuracy: 0.1813 - val_sparse_categorical_crossentropy: 2.8014\n",
            "Epoch 10/50\n",
            "100/100 [==============================] - 129s 1s/step - loss: 2.0474 - accuracy: 0.3589 - sparse_categorical_crossentropy: 2.0474 - val_loss: 2.3527 - val_accuracy: 0.3119 - val_sparse_categorical_crossentropy: 2.3527\n",
            "Epoch 11/50\n",
            "100/100 [==============================] - 129s 1s/step - loss: 1.9991 - accuracy: 0.3773 - sparse_categorical_crossentropy: 1.9991 - val_loss: 2.7856 - val_accuracy: 0.2212 - val_sparse_categorical_crossentropy: 2.7856\n",
            "Epoch 12/50\n",
            "100/100 [==============================] - 129s 1s/step - loss: 1.9494 - accuracy: 0.3917 - sparse_categorical_crossentropy: 1.9494 - val_loss: 2.7789 - val_accuracy: 0.2587 - val_sparse_categorical_crossentropy: 2.7789\n",
            "Epoch 13/50\n",
            "100/100 [==============================] - 129s 1s/step - loss: 1.9541 - accuracy: 0.3895 - sparse_categorical_crossentropy: 1.9541 - val_loss: 2.6727 - val_accuracy: 0.2612 - val_sparse_categorical_crossentropy: 2.6727\n",
            "Epoch 14/50\n",
            "100/100 [==============================] - 129s 1s/step - loss: 1.8689 - accuracy: 0.4135 - sparse_categorical_crossentropy: 1.8689 - val_loss: 2.9299 - val_accuracy: 0.2537 - val_sparse_categorical_crossentropy: 2.9299\n",
            "Epoch 15/50\n",
            "100/100 [==============================] - 130s 1s/step - loss: 1.8646 - accuracy: 0.4229 - sparse_categorical_crossentropy: 1.8646 - val_loss: 2.0776 - val_accuracy: 0.3656 - val_sparse_categorical_crossentropy: 2.0776\n",
            "Epoch 16/50\n",
            "100/100 [==============================] - 129s 1s/step - loss: 1.7840 - accuracy: 0.4491 - sparse_categorical_crossentropy: 1.7840 - val_loss: 2.2944 - val_accuracy: 0.3444 - val_sparse_categorical_crossentropy: 2.2944\n",
            "Epoch 17/50\n",
            "100/100 [==============================] - 130s 1s/step - loss: 1.8431 - accuracy: 0.4299 - sparse_categorical_crossentropy: 1.8431 - val_loss: 2.4116 - val_accuracy: 0.3256 - val_sparse_categorical_crossentropy: 2.4116\n",
            "Epoch 18/50\n",
            "100/100 [==============================] - 129s 1s/step - loss: 1.7334 - accuracy: 0.4561 - sparse_categorical_crossentropy: 1.7334 - val_loss: 2.3200 - val_accuracy: 0.3494 - val_sparse_categorical_crossentropy: 2.3200\n",
            "Epoch 19/50\n",
            "100/100 [==============================] - 129s 1s/step - loss: 1.7600 - accuracy: 0.4488 - sparse_categorical_crossentropy: 1.7600 - val_loss: 1.9502 - val_accuracy: 0.4006 - val_sparse_categorical_crossentropy: 1.9502\n",
            "Epoch 20/50\n",
            "100/100 [==============================] - 128s 1s/step - loss: 1.6838 - accuracy: 0.4676 - sparse_categorical_crossentropy: 1.6838 - val_loss: 3.1276 - val_accuracy: 0.2406 - val_sparse_categorical_crossentropy: 3.1276\n",
            "Epoch 21/50\n",
            "100/100 [==============================] - 128s 1s/step - loss: 1.7700 - accuracy: 0.4569 - sparse_categorical_crossentropy: 1.7700 - val_loss: 2.1644 - val_accuracy: 0.3631 - val_sparse_categorical_crossentropy: 2.1644\n",
            "Epoch 22/50\n",
            "100/100 [==============================] - 130s 1s/step - loss: 1.7587 - accuracy: 0.4537 - sparse_categorical_crossentropy: 1.7587 - val_loss: 3.0445 - val_accuracy: 0.2763 - val_sparse_categorical_crossentropy: 3.0445\n",
            "Epoch 23/50\n",
            "100/100 [==============================] - 129s 1s/step - loss: 1.6937 - accuracy: 0.4761 - sparse_categorical_crossentropy: 1.6937 - val_loss: 2.7215 - val_accuracy: 0.3050 - val_sparse_categorical_crossentropy: 2.7215\n",
            "Epoch 24/50\n",
            "100/100 [==============================] - 129s 1s/step - loss: 1.6383 - accuracy: 0.4868 - sparse_categorical_crossentropy: 1.6383 - val_loss: 2.2244 - val_accuracy: 0.3400 - val_sparse_categorical_crossentropy: 2.2244\n",
            "Epoch 25/50\n",
            "100/100 [==============================] - 129s 1s/step - loss: 1.6314 - accuracy: 0.4897 - sparse_categorical_crossentropy: 1.6314 - val_loss: 2.5655 - val_accuracy: 0.3081 - val_sparse_categorical_crossentropy: 2.5655\n",
            "Epoch 26/50\n",
            "100/100 [==============================] - 129s 1s/step - loss: 1.6310 - accuracy: 0.4953 - sparse_categorical_crossentropy: 1.6310 - val_loss: 2.1600 - val_accuracy: 0.3713 - val_sparse_categorical_crossentropy: 2.1600\n"
          ],
          "name": "stdout"
        }
      ]
    },
    {
      "cell_type": "code",
      "metadata": {
        "colab_type": "code",
        "id": "iz-pjDabm27a",
        "colab": {
          "base_uri": "https://localhost:8080/",
          "height": 54
        },
        "outputId": "bfc2e0fe-8125-44cb-dc0c-aaae87399aa1"
      },
      "source": [
        "part3_model_3_score = part3_model_3.evaluate(testing_data, verbose=1)"
      ],
      "execution_count": 26,
      "outputs": [
        {
          "output_type": "stream",
          "text": [
            "32/32 [==============================] - 10s 328ms/step - loss: 2.0238 - accuracy: 0.4060 - sparse_categorical_crossentropy: 2.0238\n"
          ],
          "name": "stdout"
        }
      ]
    },
    {
      "cell_type": "markdown",
      "metadata": {
        "id": "VyPWi2oabsWq",
        "colab_type": "text"
      },
      "source": [
        "## This model is much more promising. training stopped when the early stopping condition was met, but judging by the plots below, it still has more room for improvement. I want to see how tweaking the optimization function will affect things."
      ]
    },
    {
      "cell_type": "code",
      "metadata": {
        "colab_type": "code",
        "id": "HKxJJ5Ujm-rF",
        "colab": {
          "base_uri": "https://localhost:8080/",
          "height": 312
        },
        "outputId": "c42a73d6-e164-4552-e7ac-30d1865ac6ae"
      },
      "source": [
        "plt.plot(part3_model_3_history.history['accuracy'])\n",
        "plt.plot(part3_model_3_history.history['val_accuracy'])\n",
        "plt.title('Accuracy Per Epoch')\n",
        "plt.xlabel('Epoch')\n",
        "plt.ylabel('Accuracy')\n",
        "plt.legend(['train', 'validation'])"
      ],
      "execution_count": 27,
      "outputs": [
        {
          "output_type": "execute_result",
          "data": {
            "text/plain": [
              "<matplotlib.legend.Legend at 0x7f866e0c4940>"
            ]
          },
          "metadata": {
            "tags": []
          },
          "execution_count": 27
        },
        {
          "output_type": "display_data",
          "data": {
            "image/png": "[encoded data removed]",
            "text/plain": [
              "<Figure size 432x288 with 1 Axes>"
            ]
          },
          "metadata": {
            "tags": [],
            "needs_background": "light"
          }
        }
      ]
    },
    {
      "cell_type": "code",
      "metadata": {
        "colab_type": "code",
        "id": "lUdc8ptanCTJ",
        "colab": {
          "base_uri": "https://localhost:8080/",
          "height": 312
        },
        "outputId": "9f353076-ee2f-4e9a-bd07-a51bd2e2663e"
      },
      "source": [
        "plt.plot(part3_model_3_history.history['loss'])\n",
        "plt.plot(part3_model_3_history.history['val_loss'])\n",
        "plt.title('Loss Per Epoch')\n",
        "plt.xlabel('Epoch')\n",
        "plt.ylabel('Loss')\n",
        "plt.legend(['train', 'validation'])"
      ],
      "execution_count": 28,
      "outputs": [
        {
          "output_type": "execute_result",
          "data": {
            "text/plain": [
              "<matplotlib.legend.Legend at 0x7f866eba3b00>"
            ]
          },
          "metadata": {
            "tags": []
          },
          "execution_count": 28
        },
        {
          "output_type": "display_data",
          "data": {
            "image/png": "[encoded data removed]",
            "text/plain": [
              "<Figure size 432x288 with 1 Axes>"
            ]
          },
          "metadata": {
            "tags": [],
            "needs_background": "light"
          }
        }
      ]
    },
    {
      "cell_type": "code",
      "metadata": {
        "id": "_hybl22OjQE6",
        "colab_type": "code",
        "colab": {}
      },
      "source": [
        "part3_model_3_1_history = part3_model_3_1.fit(training_data, batch_size = 64, steps_per_epoch=6_400/64, epochs=50, verbose=1, validation_data=validating_data, callbacks=stopper)\n",
        "part3_model_3_1.save_weights('/content/gdrive/My Drive/part3_model_3_1.h5')"
      ],
      "execution_count": null,
      "outputs": []
    },
    {
      "cell_type": "code",
      "metadata": {
        "id": "SMybsUgYjQQS",
        "colab_type": "code",
        "colab": {}
      },
      "source": [
        "part3_model_3_1_score = part3_model_3_1.evaluate(testing_data, verbose=1)"
      ],
      "execution_count": null,
      "outputs": []
    },
    {
      "cell_type": "code",
      "metadata": {
        "id": "G4O7cBtpf6YP",
        "colab_type": "code",
        "colab": {}
      },
      "source": [
        "part3_model_3_2 = clone_model(part3_model_3)"
      ],
      "execution_count": 32,
      "outputs": []
    },
    {
      "cell_type": "code",
      "metadata": {
        "id": "anNV-qnlgmmm",
        "colab_type": "code",
        "colab": {}
      },
      "source": [
        "adam = Adam(amsgrad=True)\n",
        "part3_model_3_2.compile(loss='sparse_categorical_crossentropy', optimizer=adam, metrics=['accuracy', 'sparse_categorical_crossentropy'])"
      ],
      "execution_count": 33,
      "outputs": []
    },
    {
      "cell_type": "code",
      "metadata": {
        "id": "hqZKaCRxg8gw",
        "colab_type": "code",
        "colab": {
          "base_uri": "https://localhost:8080/",
          "height": 1000
        },
        "outputId": "daa981fa-817e-49fb-8634-f2be796d8035"
      },
      "source": [
        "part3_model_3_2_history = part3_model_3_2.fit(training_data, batch_size = 64, steps_per_epoch=6_400/64, epochs=50, verbose=1, validation_data=validating_data, callbacks=stopper)\n",
        "part3_model_3_2.save_weights('/content/gdrive/My Drive/part3_model_3_2.h5')"
      ],
      "execution_count": 35,
      "outputs": [
        {
          "output_type": "stream",
          "text": [
            "Epoch 1/50\n",
            "100/100 [==============================] - 126s 1s/step - loss: 3.5332 - accuracy: 0.0992 - sparse_categorical_crossentropy: 3.5332 - val_loss: 3.0030 - val_accuracy: 0.0525 - val_sparse_categorical_crossentropy: 3.0030\n",
            "Epoch 2/50\n",
            "100/100 [==============================] - 127s 1s/step - loss: 2.8589 - accuracy: 0.1082 - sparse_categorical_crossentropy: 2.8589 - val_loss: 2.9573 - val_accuracy: 0.0725 - val_sparse_categorical_crossentropy: 2.9573\n",
            "Epoch 3/50\n",
            "100/100 [==============================] - 127s 1s/step - loss: 2.7227 - accuracy: 0.1622 - sparse_categorical_crossentropy: 2.7227 - val_loss: 2.8891 - val_accuracy: 0.1138 - val_sparse_categorical_crossentropy: 2.8891\n",
            "Epoch 4/50\n",
            "100/100 [==============================] - 127s 1s/step - loss: 2.6150 - accuracy: 0.1932 - sparse_categorical_crossentropy: 2.6150 - val_loss: 2.6000 - val_accuracy: 0.1994 - val_sparse_categorical_crossentropy: 2.6000\n",
            "Epoch 5/50\n",
            "100/100 [==============================] - 127s 1s/step - loss: 2.5023 - accuracy: 0.2270 - sparse_categorical_crossentropy: 2.5023 - val_loss: 2.6137 - val_accuracy: 0.1838 - val_sparse_categorical_crossentropy: 2.6137\n",
            "Epoch 6/50\n",
            "100/100 [==============================] - 128s 1s/step - loss: 2.4112 - accuracy: 0.2475 - sparse_categorical_crossentropy: 2.4112 - val_loss: 2.5518 - val_accuracy: 0.2069 - val_sparse_categorical_crossentropy: 2.5518\n",
            "Epoch 7/50\n",
            "100/100 [==============================] - 127s 1s/step - loss: 2.3459 - accuracy: 0.2713 - sparse_categorical_crossentropy: 2.3459 - val_loss: 2.7713 - val_accuracy: 0.1844 - val_sparse_categorical_crossentropy: 2.7713\n",
            "Epoch 8/50\n",
            "100/100 [==============================] - 128s 1s/step - loss: 2.2592 - accuracy: 0.3018 - sparse_categorical_crossentropy: 2.2592 - val_loss: 2.5708 - val_accuracy: 0.2269 - val_sparse_categorical_crossentropy: 2.5708\n",
            "Epoch 9/50\n",
            "100/100 [==============================] - 127s 1s/step - loss: 2.1447 - accuracy: 0.3294 - sparse_categorical_crossentropy: 2.1447 - val_loss: 2.3162 - val_accuracy: 0.2856 - val_sparse_categorical_crossentropy: 2.3162\n",
            "Epoch 10/50\n",
            "100/100 [==============================] - 128s 1s/step - loss: 2.1196 - accuracy: 0.3406 - sparse_categorical_crossentropy: 2.1196 - val_loss: 2.4857 - val_accuracy: 0.2262 - val_sparse_categorical_crossentropy: 2.4857\n",
            "Epoch 11/50\n",
            "100/100 [==============================] - 128s 1s/step - loss: 2.0416 - accuracy: 0.3641 - sparse_categorical_crossentropy: 2.0416 - val_loss: 2.3023 - val_accuracy: 0.2994 - val_sparse_categorical_crossentropy: 2.3023\n",
            "Epoch 12/50\n",
            "100/100 [==============================] - 127s 1s/step - loss: 2.0551 - accuracy: 0.3597 - sparse_categorical_crossentropy: 2.0551 - val_loss: 2.1777 - val_accuracy: 0.3294 - val_sparse_categorical_crossentropy: 2.1777\n",
            "Epoch 13/50\n",
            "100/100 [==============================] - 129s 1s/step - loss: 1.9605 - accuracy: 0.3915 - sparse_categorical_crossentropy: 1.9605 - val_loss: 2.9267 - val_accuracy: 0.2625 - val_sparse_categorical_crossentropy: 2.9267\n",
            "Epoch 14/50\n",
            "100/100 [==============================] - 128s 1s/step - loss: 1.9646 - accuracy: 0.3821 - sparse_categorical_crossentropy: 1.9646 - val_loss: 2.7181 - val_accuracy: 0.2325 - val_sparse_categorical_crossentropy: 2.7181\n",
            "Epoch 15/50\n",
            "100/100 [==============================] - 129s 1s/step - loss: 1.8737 - accuracy: 0.4124 - sparse_categorical_crossentropy: 1.8737 - val_loss: 2.6398 - val_accuracy: 0.2931 - val_sparse_categorical_crossentropy: 2.6398\n",
            "Epoch 16/50\n",
            "100/100 [==============================] - 130s 1s/step - loss: 1.8674 - accuracy: 0.4139 - sparse_categorical_crossentropy: 1.8674 - val_loss: 2.2734 - val_accuracy: 0.3269 - val_sparse_categorical_crossentropy: 2.2734\n",
            "Epoch 17/50\n",
            "100/100 [==============================] - 129s 1s/step - loss: 1.8160 - accuracy: 0.4299 - sparse_categorical_crossentropy: 1.8160 - val_loss: 2.3590 - val_accuracy: 0.2962 - val_sparse_categorical_crossentropy: 2.3590\n",
            "Epoch 18/50\n",
            "100/100 [==============================] - 130s 1s/step - loss: 1.8299 - accuracy: 0.4333 - sparse_categorical_crossentropy: 1.8299 - val_loss: 2.9224 - val_accuracy: 0.2156 - val_sparse_categorical_crossentropy: 2.9224\n",
            "Epoch 19/50\n",
            "100/100 [==============================] - 129s 1s/step - loss: 1.8437 - accuracy: 0.4193 - sparse_categorical_crossentropy: 1.8437 - val_loss: 2.2916 - val_accuracy: 0.3413 - val_sparse_categorical_crossentropy: 2.2916\n",
            "Epoch 20/50\n",
            "100/100 [==============================] - 130s 1s/step - loss: 1.7514 - accuracy: 0.4472 - sparse_categorical_crossentropy: 1.7514 - val_loss: 2.4588 - val_accuracy: 0.2625 - val_sparse_categorical_crossentropy: 2.4588\n",
            "Epoch 21/50\n",
            "100/100 [==============================] - 129s 1s/step - loss: 1.7818 - accuracy: 0.4393 - sparse_categorical_crossentropy: 1.7818 - val_loss: 2.2412 - val_accuracy: 0.3269 - val_sparse_categorical_crossentropy: 2.2412\n",
            "Epoch 22/50\n",
            "100/100 [==============================] - 130s 1s/step - loss: 1.7091 - accuracy: 0.4663 - sparse_categorical_crossentropy: 1.7091 - val_loss: 1.9989 - val_accuracy: 0.4000 - val_sparse_categorical_crossentropy: 1.9989\n",
            "Epoch 23/50\n",
            "100/100 [==============================] - 129s 1s/step - loss: 1.6550 - accuracy: 0.4862 - sparse_categorical_crossentropy: 1.6550 - val_loss: 2.0261 - val_accuracy: 0.3963 - val_sparse_categorical_crossentropy: 2.0261\n",
            "Epoch 24/50\n",
            "100/100 [==============================] - 129s 1s/step - loss: 1.6475 - accuracy: 0.4916 - sparse_categorical_crossentropy: 1.6475 - val_loss: 2.1952 - val_accuracy: 0.3650 - val_sparse_categorical_crossentropy: 2.1952\n",
            "Epoch 25/50\n",
            "100/100 [==============================] - 126s 1s/step - loss: 1.6090 - accuracy: 0.4941 - sparse_categorical_crossentropy: 1.6090 - val_loss: 2.0621 - val_accuracy: 0.4131 - val_sparse_categorical_crossentropy: 2.0621\n",
            "Epoch 26/50\n",
            "100/100 [==============================] - 124s 1s/step - loss: 1.5867 - accuracy: 0.5020 - sparse_categorical_crossentropy: 1.5867 - val_loss: 3.0964 - val_accuracy: 0.2294 - val_sparse_categorical_crossentropy: 3.0964\n",
            "Epoch 27/50\n",
            "100/100 [==============================] - 125s 1s/step - loss: 1.5284 - accuracy: 0.5206 - sparse_categorical_crossentropy: 1.5284 - val_loss: 1.9413 - val_accuracy: 0.4356 - val_sparse_categorical_crossentropy: 1.9413\n",
            "Epoch 28/50\n",
            "100/100 [==============================] - 127s 1s/step - loss: 1.5417 - accuracy: 0.5200 - sparse_categorical_crossentropy: 1.5417 - val_loss: 2.0174 - val_accuracy: 0.4175 - val_sparse_categorical_crossentropy: 2.0174\n",
            "Epoch 29/50\n",
            "100/100 [==============================] - 125s 1s/step - loss: 1.4699 - accuracy: 0.5389 - sparse_categorical_crossentropy: 1.4699 - val_loss: 2.4006 - val_accuracy: 0.3575 - val_sparse_categorical_crossentropy: 2.4006\n",
            "Epoch 30/50\n",
            "100/100 [==============================] - 125s 1s/step - loss: 1.4919 - accuracy: 0.5360 - sparse_categorical_crossentropy: 1.4919 - val_loss: 1.7642 - val_accuracy: 0.4737 - val_sparse_categorical_crossentropy: 1.7642\n",
            "Epoch 31/50\n",
            "100/100 [==============================] - 124s 1s/step - loss: 1.4079 - accuracy: 0.5591 - sparse_categorical_crossentropy: 1.4079 - val_loss: 2.4467 - val_accuracy: 0.3769 - val_sparse_categorical_crossentropy: 2.4467\n",
            "Epoch 32/50\n",
            "100/100 [==============================] - 125s 1s/step - loss: 1.3983 - accuracy: 0.5578 - sparse_categorical_crossentropy: 1.3983 - val_loss: 2.6212 - val_accuracy: 0.3494 - val_sparse_categorical_crossentropy: 2.6212\n",
            "Epoch 33/50\n",
            "100/100 [==============================] - 124s 1s/step - loss: 1.3542 - accuracy: 0.5741 - sparse_categorical_crossentropy: 1.3542 - val_loss: 1.9516 - val_accuracy: 0.4331 - val_sparse_categorical_crossentropy: 1.9516\n",
            "Epoch 34/50\n",
            "100/100 [==============================] - 124s 1s/step - loss: 1.4687 - accuracy: 0.5397 - sparse_categorical_crossentropy: 1.4687 - val_loss: 2.8738 - val_accuracy: 0.3644 - val_sparse_categorical_crossentropy: 2.8738\n",
            "Epoch 35/50\n",
            "100/100 [==============================] - 126s 1s/step - loss: 1.4256 - accuracy: 0.5602 - sparse_categorical_crossentropy: 1.4256 - val_loss: 2.3314 - val_accuracy: 0.4019 - val_sparse_categorical_crossentropy: 2.3314\n",
            "Epoch 36/50\n",
            "100/100 [==============================] - 124s 1s/step - loss: 1.3442 - accuracy: 0.5832 - sparse_categorical_crossentropy: 1.3442 - val_loss: 1.7823 - val_accuracy: 0.4737 - val_sparse_categorical_crossentropy: 1.7823\n",
            "Epoch 37/50\n",
            "100/100 [==============================] - 125s 1s/step - loss: 1.2992 - accuracy: 0.5913 - sparse_categorical_crossentropy: 1.2992 - val_loss: 2.2391 - val_accuracy: 0.3913 - val_sparse_categorical_crossentropy: 2.2391\n"
          ],
          "name": "stdout"
        }
      ]
    },
    {
      "cell_type": "code",
      "metadata": {
        "id": "U6aivIyejwpo",
        "colab_type": "code",
        "colab": {
          "base_uri": "https://localhost:8080/",
          "height": 54
        },
        "outputId": "301305af-3ae8-4731-b380-4dc1c5663ddf"
      },
      "source": [
        "part3_model_3_2_score = part3_model_3_2.evaluate(testing_data, verbose=1)"
      ],
      "execution_count": 36,
      "outputs": [
        {
          "output_type": "stream",
          "text": [
            "32/32 [==============================] - 9s 280ms/step - loss: 2.2043 - accuracy: 0.4120 - sparse_categorical_crossentropy: 2.2043\n"
          ],
          "name": "stdout"
        }
      ]
    },
    {
      "cell_type": "code",
      "metadata": {
        "id": "1EnlUq8UzEdU",
        "colab_type": "code",
        "colab": {
          "base_uri": "https://localhost:8080/",
          "height": 373
        },
        "outputId": "a6c349e9-0563-4b0a-a943-f2cb37214505"
      },
      "source": [
        "part3_model_3_2_history_2 = part3_model_3_2.fit(training_data, batch_size = 64, steps_per_epoch=6_400/64, epochs=50, verbose=1, validation_data=validating_data, callbacks=stopper)\n",
        "part3_model_3_2.save_weights('/content/gdrive/My Drive/part3_model_3_2_2.h5')"
      ],
      "execution_count": 38,
      "outputs": [
        {
          "output_type": "stream",
          "text": [
            "Epoch 1/50\n",
            "100/100 [==============================] - 125s 1s/step - loss: 1.2614 - accuracy: 0.5995 - sparse_categorical_crossentropy: 1.2614 - val_loss: 2.2374 - val_accuracy: 0.4006 - val_sparse_categorical_crossentropy: 2.2374\n",
            "Epoch 2/50\n",
            "100/100 [==============================] - 125s 1s/step - loss: 1.2585 - accuracy: 0.6099 - sparse_categorical_crossentropy: 1.2585 - val_loss: 2.1497 - val_accuracy: 0.4100 - val_sparse_categorical_crossentropy: 2.1497\n",
            "Epoch 3/50\n",
            "100/100 [==============================] - 124s 1s/step - loss: 1.2329 - accuracy: 0.6135 - sparse_categorical_crossentropy: 1.2329 - val_loss: 1.8229 - val_accuracy: 0.5094 - val_sparse_categorical_crossentropy: 1.8229\n",
            "Epoch 4/50\n",
            "100/100 [==============================] - 124s 1s/step - loss: 1.1858 - accuracy: 0.6234 - sparse_categorical_crossentropy: 1.1858 - val_loss: 2.3265 - val_accuracy: 0.4363 - val_sparse_categorical_crossentropy: 2.3265\n",
            "Epoch 5/50\n",
            "100/100 [==============================] - 125s 1s/step - loss: 1.2145 - accuracy: 0.6222 - sparse_categorical_crossentropy: 1.2145 - val_loss: 2.1156 - val_accuracy: 0.4644 - val_sparse_categorical_crossentropy: 2.1156\n",
            "Epoch 6/50\n",
            "100/100 [==============================] - 124s 1s/step - loss: 1.2107 - accuracy: 0.6264 - sparse_categorical_crossentropy: 1.2107 - val_loss: 1.8771 - val_accuracy: 0.4719 - val_sparse_categorical_crossentropy: 1.8771\n",
            "Epoch 7/50\n",
            "100/100 [==============================] - 125s 1s/step - loss: 1.2247 - accuracy: 0.6260 - sparse_categorical_crossentropy: 1.2247 - val_loss: 3.8890 - val_accuracy: 0.2831 - val_sparse_categorical_crossentropy: 3.8890\n",
            "Epoch 8/50\n",
            "100/100 [==============================] - 125s 1s/step - loss: 1.2120 - accuracy: 0.6231 - sparse_categorical_crossentropy: 1.2120 - val_loss: 2.1947 - val_accuracy: 0.4131 - val_sparse_categorical_crossentropy: 2.1947\n",
            "Epoch 9/50\n",
            "100/100 [==============================] - 124s 1s/step - loss: 1.1857 - accuracy: 0.6288 - sparse_categorical_crossentropy: 1.1857 - val_loss: 2.6445 - val_accuracy: 0.3537 - val_sparse_categorical_crossentropy: 2.6445\n",
            "Epoch 10/50\n",
            "100/100 [==============================] - 125s 1s/step - loss: 1.2233 - accuracy: 0.6198 - sparse_categorical_crossentropy: 1.2233 - val_loss: 2.2910 - val_accuracy: 0.4331 - val_sparse_categorical_crossentropy: 2.2910\n"
          ],
          "name": "stdout"
        }
      ]
    },
    {
      "cell_type": "code",
      "metadata": {
        "id": "lc_HfcEw4ZvG",
        "colab_type": "code",
        "colab": {
          "base_uri": "https://localhost:8080/",
          "height": 54
        },
        "outputId": "d1038953-73bf-4200-c551-23d8e1fa0160"
      },
      "source": [
        "part3_model_3_2_score_2 = part3_model_3_2.evaluate(testing_data, verbose=1)"
      ],
      "execution_count": 41,
      "outputs": [
        {
          "output_type": "stream",
          "text": [
            "32/32 [==============================] - 9s 267ms/step - loss: 2.2071 - accuracy: 0.4530 - sparse_categorical_crossentropy: 2.2071\n"
          ],
          "name": "stdout"
        }
      ]
    },
    {
      "cell_type": "code",
      "metadata": {
        "id": "0zQtIG9jyKzr",
        "colab_type": "code",
        "colab": {}
      },
      "source": [
        "checkpoint = ModelCheckpoint('/content/gdrive/My Drive/best.hdf5', save_best_only=True)"
      ],
      "execution_count": 40,
      "outputs": []
    },
    {
      "cell_type": "code",
      "metadata": {
        "id": "I60HzDYD4ji0",
        "colab_type": "code",
        "colab": {
          "base_uri": "https://localhost:8080/",
          "height": 406
        },
        "outputId": "b0521abd-5eba-4e6a-c871-d415fd076792"
      },
      "source": [
        "part3_model_3_2_history_3 = part3_model_3_2.fit(training_data, batch_size = 64, steps_per_epoch=6_400/64, epochs=50, verbose=1, validation_data=validating_data, callbacks=[stopper, checkpoint])\n",
        "part3_model_3_2.save_weights('/content/gdrive/My Drive/part3_model_3_2_3.h5')"
      ],
      "execution_count": 42,
      "outputs": [
        {
          "output_type": "stream",
          "text": [
            "Epoch 1/50\n",
            "100/100 [==============================] - 132s 1s/step - loss: 1.1004 - accuracy: 0.6561 - sparse_categorical_crossentropy: 1.1004 - val_loss: 3.2503 - val_accuracy: 0.2937 - val_sparse_categorical_crossentropy: 3.2503\n",
            "Epoch 2/50\n",
            "100/100 [==============================] - 140s 1s/step - loss: 1.1882 - accuracy: 0.6324 - sparse_categorical_crossentropy: 1.1882 - val_loss: 1.8284 - val_accuracy: 0.4994 - val_sparse_categorical_crossentropy: 1.8284\n",
            "Epoch 3/50\n",
            "100/100 [==============================] - 129s 1s/step - loss: 1.0612 - accuracy: 0.6673 - sparse_categorical_crossentropy: 1.0612 - val_loss: 2.6086 - val_accuracy: 0.4094 - val_sparse_categorical_crossentropy: 2.6086\n",
            "Epoch 4/50\n",
            "100/100 [==============================] - 138s 1s/step - loss: 1.0905 - accuracy: 0.6640 - sparse_categorical_crossentropy: 1.0905 - val_loss: 1.6950 - val_accuracy: 0.5456 - val_sparse_categorical_crossentropy: 1.6950\n",
            "Epoch 5/50\n",
            "100/100 [==============================] - 131s 1s/step - loss: 1.0330 - accuracy: 0.6831 - sparse_categorical_crossentropy: 1.0330 - val_loss: 2.3788 - val_accuracy: 0.4263 - val_sparse_categorical_crossentropy: 2.3788\n",
            "Epoch 6/50\n",
            "100/100 [==============================] - 126s 1s/step - loss: 1.0508 - accuracy: 0.6763 - sparse_categorical_crossentropy: 1.0508 - val_loss: 2.0197 - val_accuracy: 0.5063 - val_sparse_categorical_crossentropy: 2.0197\n",
            "Epoch 7/50\n",
            "100/100 [==============================] - 125s 1s/step - loss: 1.0380 - accuracy: 0.6747 - sparse_categorical_crossentropy: 1.0380 - val_loss: 1.9894 - val_accuracy: 0.4675 - val_sparse_categorical_crossentropy: 1.9894\n",
            "Epoch 8/50\n",
            "100/100 [==============================] - 126s 1s/step - loss: 0.9960 - accuracy: 0.6908 - sparse_categorical_crossentropy: 0.9960 - val_loss: 1.8310 - val_accuracy: 0.5244 - val_sparse_categorical_crossentropy: 1.8310\n",
            "Epoch 9/50\n",
            "100/100 [==============================] - 125s 1s/step - loss: 0.9725 - accuracy: 0.7022 - sparse_categorical_crossentropy: 0.9725 - val_loss: 2.4181 - val_accuracy: 0.4313 - val_sparse_categorical_crossentropy: 2.4181\n",
            "Epoch 10/50\n",
            "100/100 [==============================] - 126s 1s/step - loss: 0.9854 - accuracy: 0.6968 - sparse_categorical_crossentropy: 0.9854 - val_loss: 1.8284 - val_accuracy: 0.5288 - val_sparse_categorical_crossentropy: 1.8284\n",
            "Epoch 11/50\n",
            "100/100 [==============================] - 125s 1s/step - loss: 0.9822 - accuracy: 0.6973 - sparse_categorical_crossentropy: 0.9822 - val_loss: 2.3769 - val_accuracy: 0.4238 - val_sparse_categorical_crossentropy: 2.3769\n"
          ],
          "name": "stdout"
        }
      ]
    },
    {
      "cell_type": "code",
      "metadata": {
        "id": "cmEtOF2D4yHm",
        "colab_type": "code",
        "colab": {
          "base_uri": "https://localhost:8080/",
          "height": 54
        },
        "outputId": "fc966168-7f5c-41fc-d87d-08e6f95e7db3"
      },
      "source": [
        "part3_model_3_2_score_3 = part3_model_3_2.evaluate(testing_data, verbose=1)"
      ],
      "execution_count": 43,
      "outputs": [
        {
          "output_type": "stream",
          "text": [
            "32/32 [==============================] - 9s 290ms/step - loss: 2.3765 - accuracy: 0.4200 - sparse_categorical_crossentropy: 2.3765\n"
          ],
          "name": "stdout"
        }
      ]
    },
    {
      "cell_type": "code",
      "metadata": {
        "id": "m1dYxWbq-Tsk",
        "colab_type": "code",
        "colab": {}
      },
      "source": [
        "best = load_model('/content/gdrive/My Drive/best.hdf5')"
      ],
      "execution_count": 7,
      "outputs": []
    },
    {
      "cell_type": "code",
      "metadata": {
        "id": "1sMbWSwN-sOn",
        "colab_type": "code",
        "colab": {
          "base_uri": "https://localhost:8080/",
          "height": 54
        },
        "outputId": "0f26040c-d6e6-4845-fcc6-7ed3edebe606"
      },
      "source": [
        "best_score = best.evaluate(testing_data, verbose=1)"
      ],
      "execution_count": 46,
      "outputs": [
        {
          "output_type": "stream",
          "text": [
            "32/32 [==============================] - 9s 273ms/step - loss: 1.6409 - accuracy: 0.5575 - sparse_categorical_crossentropy: 1.6409\n"
          ],
          "name": "stdout"
        }
      ]
    },
    {
      "cell_type": "markdown",
      "metadata": {
        "id": "sAe_on_wct1v",
        "colab_type": "text"
      },
      "source": [
        "## As can be seen above, I was finally able to get a testing accuracy greater than 0.5. This is the same model as before, but I enable amsgrad for the Adam optimizer. I also continued to train it after it triggered the early stopping conditions. As you can see on the plot below, the accuracy still has not plateaued, so it is likely possible to train the model for even greater accuracy."
      ]
    },
    {
      "cell_type": "code",
      "metadata": {
        "id": "1_pQAPbW_ZXO",
        "colab_type": "code",
        "colab": {
          "base_uri": "https://localhost:8080/",
          "height": 312
        },
        "outputId": "ccb9ee8e-4905-4e91-841e-ff93176fc2e1"
      },
      "source": [
        "train_acc = part3_model_3_2_history.history['accuracy'] + part3_model_3_2_history_2.history['accuracy'] + part3_model_3_2_history_3.history['accuracy']\n",
        "val_acc = part3_model_3_2_history.history['val_accuracy'] + part3_model_3_2_history_2.history['val_accuracy'] + part3_model_3_2_history_3.history['val_accuracy']\n",
        "plt.plot(range(len(train_acc)), train_acc)\n",
        "plt.plot(range(len(val_acc)), val_acc)\n",
        "plt.title('Accuracy Per Epoch')\n",
        "plt.xlabel('Epoch')\n",
        "plt.ylabel('Accuracy')\n",
        "plt.legend(['train', 'validation'])"
      ],
      "execution_count": 109,
      "outputs": [
        {
          "output_type": "execute_result",
          "data": {
            "text/plain": [
              "<matplotlib.legend.Legend at 0x7f8623b34048>"
            ]
          },
          "metadata": {
            "tags": []
          },
          "execution_count": 109
        },
        {
          "output_type": "display_data",
          "data": {
            "image/png": "[encoded data removed]",
            "text/plain": [
              "<Figure size 432x288 with 1 Axes>"
            ]
          },
          "metadata": {
            "tags": [],
            "needs_background": "light"
          }
        }
      ]
    },
    {
      "cell_type": "markdown",
      "metadata": {
        "id": "mUptvkY8ee5l",
        "colab_type": "text"
      },
      "source": [
        "### Here we have the confusion matrix for the end state of model 3 after training. As you can see, it has an odd tendency to misidentify several animals as car races. Perhaps the decals covering cars throw off the model."
      ]
    },
    {
      "cell_type": "code",
      "metadata": {
        "id": "_g4R4bqhJ28S",
        "colab_type": "code",
        "colab": {
          "base_uri": "https://localhost:8080/",
          "height": 353
        },
        "outputId": "51a37c0d-383b-48e1-a6f2-e41720718cdc"
      },
      "source": [
        "predictions = part3_model_3_2.predict(testing_data)\n",
        "confusion_matrix_3 = confusion_matrix(testing_data.classes, predictions.argmax(axis=1))\n",
        "print(confusion_matrix_3)"
      ],
      "execution_count": 9,
      "outputs": [
        {
          "output_type": "stream",
          "text": [
            "[[ 7  3  4  7  5  3  3  3 10  1  3  7  2  3  4  6  8 12  6  3]\n",
            " [12 10  4  2  3  4  4  4  9  1  3  8  7  5  5  2  4  7  1  5]\n",
            " [ 3 15  5  7  5  2  4  4  3  5  2  6  3  5  2  5  9  5  4  6]\n",
            " [ 3 12  5  4  4  2  2  4  6  4  1 12  6  6  6  3  7  7  3  3]\n",
            " [ 5  8  8  4  7  6  1  0  9  2  1  7  4  4  3  5  7  7  6  6]\n",
            " [ 1 13  8  7  8  2  6  3  1  5  3  5  7  3  5  3  7  4  7  2]\n",
            " [ 4  8  9  5  4  7  3  1  4  3  3  9 10  4  3  8  3  5  2  5]\n",
            " [ 7 10  6  2  3  7  3  5  6  3  2  6  4  4  3  3  8  6  5  7]\n",
            " [ 9  6  7  3  5  4  3  2  4  1  9  5  4  4  6  6 11  1  8  2]\n",
            " [ 5 13  1  8  8  6  1  2  4  2  4  7  4  3  2  2 11 10  4  3]\n",
            " [ 3 10  7  4  3  7  7  1  4  3  1  7  5  5  2  5 12  7  1  6]\n",
            " [ 7  8  6  4  6  4  5  5  3  1  8  5  3  5  0  4  7 10  7  2]\n",
            " [ 3  9  6  6  1  7  5  4  3  3  3  5  8  7  8  7  5  3  6  1]\n",
            " [ 6  9  4  4  3  7  4  4 11  3  3  9  3  6  2  5  2  5  8  2]\n",
            " [ 4 12  5  2  5  4  1  3  3  5  3  7  6  4  6  3  7  5  5 10]\n",
            " [ 4  3  7  6  7  2  3  5  4  1  4 11  6  8  4  3  4  5  7  6]\n",
            " [ 7  8  5  6  6  4  2  5  8  2  3  2 10  5  4  4  4  7  7  1]\n",
            " [ 7  7  6 11  8  5  4  0 10  1  5  5  4  4  3  4  6  2  3  5]\n",
            " [ 5  4  7  5 10  4  3  4  7  2  3  8  5  3  0  4 15  7  3  1]\n",
            " [ 5  6  4 10  8  4  2  6  6  0  6  7  6  5  6  3  6  2  2  6]]\n"
          ],
          "name": "stdout"
        }
      ]
    },
    {
      "cell_type": "markdown",
      "metadata": {
        "id": "dapteg6RSL4q",
        "colab_type": "text"
      },
      "source": [
        "['archery',\n",
        " 'auto racing',\n",
        " 'blue jay',\n",
        " 'bonsai',\n",
        " 'California sea lion',\n",
        " 'centipede',\n",
        " 'chicken',\n",
        " 'cow',\n",
        " 'dog',\n",
        " 'goldfish',\n",
        " 'goose',\n",
        " 'jellyfish',\n",
        " 'killer whale',\n",
        " 'king crab',\n",
        " 'microorganism',\n",
        " 'python',\n",
        " 'ray',\n",
        " 'shrimp',\n",
        " 'snail']"
      ]
    }
  ]
}