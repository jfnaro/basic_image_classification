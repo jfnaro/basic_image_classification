{
  "nbformat": 4,
  "nbformat_minor": 0,
  "metadata": {
    "kernelspec": {
      "display_name": "Python 3",
      "language": "python",
      "name": "python3"
    },
    "language_info": {
      "codemirror_mode": {
        "name": "ipython",
        "version": 3
      },
      "file_extension": ".py",
      "mimetype": "text/x-python",
      "name": "python",
      "nbconvert_exporter": "python",
      "pygments_lexer": "ipython3",
      "version": "3.7.4"
    },
    "colab": {
      "name": "jfnaro_project_3.ipynb",
      "provenance": [],
      "collapsed_sections": []
    },
    "accelerator": "GPU"
  },
  "cells": [
    {
      "cell_type": "markdown",
      "metadata": {
        "id": "ste7e_MEPjYV",
        "colab_type": "text"
      },
      "source": [
        "# Project 3\n",
        "\n",
        "## Joseph Naro"
      ]
    },
    {
      "cell_type": "code",
      "metadata": {
        "id": "BdQ_TZgrWVV2",
        "colab_type": "code",
        "colab": {
          "base_uri": "https://localhost:8080/",
          "height": 121
        },
        "outputId": "ae961469-11db-4b42-f7ee-175d059f3adf"
      },
      "source": [
        "from google.colab import drive\n",
        "drive.mount('/content/gdrive')"
      ],
      "execution_count": 49,
      "outputs": [
        {
          "output_type": "stream",
          "text": [
            "Go to this URL in a browser: https://accounts.google.com/o/oauth2/auth?client_id=947318989803-6bn6qk8qdgf4n4g3pfee6491hc0brc4i.apps.googleusercontent.com&redirect_uri=urn%3aietf%3awg%3aoauth%3a2.0%3aoob&response_type=code&scope=email%20https%3a%2f%2fwww.googleapis.com%2fauth%2fdocs.test%20https%3a%2f%2fwww.googleapis.com%2fauth%2fdrive%20https%3a%2f%2fwww.googleapis.com%2fauth%2fdrive.photos.readonly%20https%3a%2f%2fwww.googleapis.com%2fauth%2fpeopleapi.readonly\n",
            "\n",
            "Enter your authorization code:\n",
            "··········\n",
            "Mounted at /content/gdrive\n"
          ],
          "name": "stdout"
        }
      ]
    },
    {
      "cell_type": "code",
      "metadata": {
        "id": "fAzHAZRRYvx3",
        "colab_type": "code",
        "colab": {}
      },
      "source": [
        "import numpy as np\n",
        "import matplotlib.pyplot as plt"
      ],
      "execution_count": 2,
      "outputs": []
    },
    {
      "cell_type": "code",
      "metadata": {
        "id": "wDJ3p8PynuaG",
        "colab_type": "code",
        "colab": {}
      },
      "source": [
        "from tensorflow.keras.callbacks import EarlyStopping\n",
        "from tensorflow.keras.datasets import fashion_mnist\n",
        "from tensorflow.keras import Sequential, layers\n",
        "from tensorflow.keras.models import clone_model\n",
        "from tensorflow.keras.preprocessing.image import ImageDataGenerator\n",
        "from tensorflow.keras.utils import to_categorical\n",
        "from sklearn.utils import shuffle\n",
        "from sklearn.metrics import confusion_matrix"
      ],
      "execution_count": 104,
      "outputs": []
    },
    {
      "cell_type": "markdown",
      "metadata": {
        "id": "ppebfIUpdIy7",
        "colab_type": "text"
      },
      "source": [
        "# Part I: 1"
      ]
    },
    {
      "cell_type": "code",
      "metadata": {
        "id": "BDj0blMNYvyv",
        "colab_type": "code",
        "colab": {
          "base_uri": "https://localhost:8080/",
          "height": 151
        },
        "outputId": "bd2fe6b8-2128-4f88-d192-a9eb413be413"
      },
      "source": [
        "(x_train, y_train), (x_test, y_test) = fashion_mnist.load_data()"
      ],
      "execution_count": 4,
      "outputs": [
        {
          "output_type": "stream",
          "text": [
            "Downloading data from https://storage.googleapis.com/tensorflow/tf-keras-datasets/train-labels-idx1-ubyte.gz\n",
            "32768/29515 [=================================] - 0s 0us/step\n",
            "Downloading data from https://storage.googleapis.com/tensorflow/tf-keras-datasets/train-images-idx3-ubyte.gz\n",
            "26427392/26421880 [==============================] - 1s 0us/step\n",
            "Downloading data from https://storage.googleapis.com/tensorflow/tf-keras-datasets/t10k-labels-idx1-ubyte.gz\n",
            "8192/5148 [===============================================] - 0s 0us/step\n",
            "Downloading data from https://storage.googleapis.com/tensorflow/tf-keras-datasets/t10k-images-idx3-ubyte.gz\n",
            "4423680/4422102 [==============================] - 0s 0us/step\n"
          ],
          "name": "stdout"
        }
      ]
    },
    {
      "cell_type": "code",
      "metadata": {
        "id": "Y1v9M15FYvzA",
        "colab_type": "code",
        "colab": {
          "base_uri": "https://localhost:8080/",
          "height": 34
        },
        "outputId": "4e33215d-c62e-4a90-a6de-bf221d52f448"
      },
      "source": [
        "x_train.shape"
      ],
      "execution_count": 5,
      "outputs": [
        {
          "output_type": "execute_result",
          "data": {
            "text/plain": [
              "(60000, 28, 28)"
            ]
          },
          "metadata": {
            "tags": []
          },
          "execution_count": 5
        }
      ]
    },
    {
      "cell_type": "code",
      "metadata": {
        "id": "G--Ib7-CYvzc",
        "colab_type": "code",
        "colab": {
          "base_uri": "https://localhost:8080/",
          "height": 1000
        },
        "outputId": "3ee3b090-0d67-462d-eadf-2ad91af9844a"
      },
      "source": [
        "x_train[0]"
      ],
      "execution_count": 6,
      "outputs": [
        {
          "output_type": "execute_result",
          "data": {
            "text/plain": [
              "array([[  0,   0,   0,   0,   0,   0,   0,   0,   0,   0,   0,   0,   0,\n",
              "          0,   0,   0,   0,   0,   0,   0,   0,   0,   0,   0,   0,   0,\n",
              "          0,   0],\n",
              "       [  0,   0,   0,   0,   0,   0,   0,   0,   0,   0,   0,   0,   0,\n",
              "          0,   0,   0,   0,   0,   0,   0,   0,   0,   0,   0,   0,   0,\n",
              "          0,   0],\n",
              "       [  0,   0,   0,   0,   0,   0,   0,   0,   0,   0,   0,   0,   0,\n",
              "          0,   0,   0,   0,   0,   0,   0,   0,   0,   0,   0,   0,   0,\n",
              "          0,   0],\n",
              "       [  0,   0,   0,   0,   0,   0,   0,   0,   0,   0,   0,   0,   1,\n",
              "          0,   0,  13,  73,   0,   0,   1,   4,   0,   0,   0,   0,   1,\n",
              "          1,   0],\n",
              "       [  0,   0,   0,   0,   0,   0,   0,   0,   0,   0,   0,   0,   3,\n",
              "          0,  36, 136, 127,  62,  54,   0,   0,   0,   1,   3,   4,   0,\n",
              "          0,   3],\n",
              "       [  0,   0,   0,   0,   0,   0,   0,   0,   0,   0,   0,   0,   6,\n",
              "          0, 102, 204, 176, 134, 144, 123,  23,   0,   0,   0,   0,  12,\n",
              "         10,   0],\n",
              "       [  0,   0,   0,   0,   0,   0,   0,   0,   0,   0,   0,   0,   0,\n",
              "          0, 155, 236, 207, 178, 107, 156, 161, 109,  64,  23,  77, 130,\n",
              "         72,  15],\n",
              "       [  0,   0,   0,   0,   0,   0,   0,   0,   0,   0,   0,   1,   0,\n",
              "         69, 207, 223, 218, 216, 216, 163, 127, 121, 122, 146, 141,  88,\n",
              "        172,  66],\n",
              "       [  0,   0,   0,   0,   0,   0,   0,   0,   0,   1,   1,   1,   0,\n",
              "        200, 232, 232, 233, 229, 223, 223, 215, 213, 164, 127, 123, 196,\n",
              "        229,   0],\n",
              "       [  0,   0,   0,   0,   0,   0,   0,   0,   0,   0,   0,   0,   0,\n",
              "        183, 225, 216, 223, 228, 235, 227, 224, 222, 224, 221, 223, 245,\n",
              "        173,   0],\n",
              "       [  0,   0,   0,   0,   0,   0,   0,   0,   0,   0,   0,   0,   0,\n",
              "        193, 228, 218, 213, 198, 180, 212, 210, 211, 213, 223, 220, 243,\n",
              "        202,   0],\n",
              "       [  0,   0,   0,   0,   0,   0,   0,   0,   0,   1,   3,   0,  12,\n",
              "        219, 220, 212, 218, 192, 169, 227, 208, 218, 224, 212, 226, 197,\n",
              "        209,  52],\n",
              "       [  0,   0,   0,   0,   0,   0,   0,   0,   0,   0,   6,   0,  99,\n",
              "        244, 222, 220, 218, 203, 198, 221, 215, 213, 222, 220, 245, 119,\n",
              "        167,  56],\n",
              "       [  0,   0,   0,   0,   0,   0,   0,   0,   0,   4,   0,   0,  55,\n",
              "        236, 228, 230, 228, 240, 232, 213, 218, 223, 234, 217, 217, 209,\n",
              "         92,   0],\n",
              "       [  0,   0,   1,   4,   6,   7,   2,   0,   0,   0,   0,   0, 237,\n",
              "        226, 217, 223, 222, 219, 222, 221, 216, 223, 229, 215, 218, 255,\n",
              "         77,   0],\n",
              "       [  0,   3,   0,   0,   0,   0,   0,   0,   0,  62, 145, 204, 228,\n",
              "        207, 213, 221, 218, 208, 211, 218, 224, 223, 219, 215, 224, 244,\n",
              "        159,   0],\n",
              "       [  0,   0,   0,   0,  18,  44,  82, 107, 189, 228, 220, 222, 217,\n",
              "        226, 200, 205, 211, 230, 224, 234, 176, 188, 250, 248, 233, 238,\n",
              "        215,   0],\n",
              "       [  0,  57, 187, 208, 224, 221, 224, 208, 204, 214, 208, 209, 200,\n",
              "        159, 245, 193, 206, 223, 255, 255, 221, 234, 221, 211, 220, 232,\n",
              "        246,   0],\n",
              "       [  3, 202, 228, 224, 221, 211, 211, 214, 205, 205, 205, 220, 240,\n",
              "         80, 150, 255, 229, 221, 188, 154, 191, 210, 204, 209, 222, 228,\n",
              "        225,   0],\n",
              "       [ 98, 233, 198, 210, 222, 229, 229, 234, 249, 220, 194, 215, 217,\n",
              "        241,  65,  73, 106, 117, 168, 219, 221, 215, 217, 223, 223, 224,\n",
              "        229,  29],\n",
              "       [ 75, 204, 212, 204, 193, 205, 211, 225, 216, 185, 197, 206, 198,\n",
              "        213, 240, 195, 227, 245, 239, 223, 218, 212, 209, 222, 220, 221,\n",
              "        230,  67],\n",
              "       [ 48, 203, 183, 194, 213, 197, 185, 190, 194, 192, 202, 214, 219,\n",
              "        221, 220, 236, 225, 216, 199, 206, 186, 181, 177, 172, 181, 205,\n",
              "        206, 115],\n",
              "       [  0, 122, 219, 193, 179, 171, 183, 196, 204, 210, 213, 207, 211,\n",
              "        210, 200, 196, 194, 191, 195, 191, 198, 192, 176, 156, 167, 177,\n",
              "        210,  92],\n",
              "       [  0,   0,  74, 189, 212, 191, 175, 172, 175, 181, 185, 188, 189,\n",
              "        188, 193, 198, 204, 209, 210, 210, 211, 188, 188, 194, 192, 216,\n",
              "        170,   0],\n",
              "       [  2,   0,   0,   0,  66, 200, 222, 237, 239, 242, 246, 243, 244,\n",
              "        221, 220, 193, 191, 179, 182, 182, 181, 176, 166, 168,  99,  58,\n",
              "          0,   0],\n",
              "       [  0,   0,   0,   0,   0,   0,   0,  40,  61,  44,  72,  41,  35,\n",
              "          0,   0,   0,   0,   0,   0,   0,   0,   0,   0,   0,   0,   0,\n",
              "          0,   0],\n",
              "       [  0,   0,   0,   0,   0,   0,   0,   0,   0,   0,   0,   0,   0,\n",
              "          0,   0,   0,   0,   0,   0,   0,   0,   0,   0,   0,   0,   0,\n",
              "          0,   0],\n",
              "       [  0,   0,   0,   0,   0,   0,   0,   0,   0,   0,   0,   0,   0,\n",
              "          0,   0,   0,   0,   0,   0,   0,   0,   0,   0,   0,   0,   0,\n",
              "          0,   0]], dtype=uint8)"
            ]
          },
          "metadata": {
            "tags": []
          },
          "execution_count": 6
        }
      ]
    },
    {
      "cell_type": "code",
      "metadata": {
        "id": "tupkdTbDYvzt",
        "colab_type": "code",
        "colab": {
          "base_uri": "https://localhost:8080/",
          "height": 34
        },
        "outputId": "f0f8148b-9b9c-4c0e-da60-5532e5e28f71"
      },
      "source": [
        "y_train"
      ],
      "execution_count": 7,
      "outputs": [
        {
          "output_type": "execute_result",
          "data": {
            "text/plain": [
              "array([9, 0, 0, ..., 3, 0, 5], dtype=uint8)"
            ]
          },
          "metadata": {
            "tags": []
          },
          "execution_count": 7
        }
      ]
    },
    {
      "cell_type": "code",
      "metadata": {
        "id": "SOmbzX1oYvz7",
        "colab_type": "code",
        "colab": {
          "base_uri": "https://localhost:8080/",
          "height": 282
        },
        "outputId": "6dccb09f-b290-4421-c4e6-4fefe3b16ee1"
      },
      "source": [
        "plt.imshow(x_train[0], cmap='gray')"
      ],
      "execution_count": 8,
      "outputs": [
        {
          "output_type": "execute_result",
          "data": {
            "text/plain": [
              "<matplotlib.image.AxesImage at 0x7fc2692c86a0>"
            ]
          },
          "metadata": {
            "tags": []
          },
          "execution_count": 8
        },
        {
          "output_type": "display_data",
          "data": {
            "image/png": "[encoded data removed]",
            "text/plain": [
              "<Figure size 432x288 with 1 Axes>"
            ]
          },
          "metadata": {
            "tags": [],
            "needs_background": "light"
          }
        }
      ]
    },
    {
      "cell_type": "code",
      "metadata": {
        "id": "Nz6WCJihYv09",
        "colab_type": "code",
        "colab": {}
      },
      "source": [
        "# transforming data to appropriate inputs for neural networks\n",
        "x_train = np.array(x_train) / 255.\n",
        "x_test = np.array(x_test) / 255.\n",
        "x_train = x_train[..., np.newaxis]\n",
        "x_test = x_test[..., np.newaxis]"
      ],
      "execution_count": 9,
      "outputs": []
    },
    {
      "cell_type": "code",
      "metadata": {
        "id": "tOTZrGmjYv2r",
        "colab_type": "code",
        "colab": {
          "base_uri": "https://localhost:8080/",
          "height": 34
        },
        "outputId": "179cb7fa-5c48-49fc-87b4-e48bc676988a"
      },
      "source": [
        "x_train.shape"
      ],
      "execution_count": 10,
      "outputs": [
        {
          "output_type": "execute_result",
          "data": {
            "text/plain": [
              "(60000, 28, 28, 1)"
            ]
          },
          "metadata": {
            "tags": []
          },
          "execution_count": 10
        }
      ]
    },
    {
      "cell_type": "markdown",
      "metadata": {
        "id": "QoiXj49oc97H",
        "colab_type": "text"
      },
      "source": [
        "# Part I: 2 & 3\n",
        "\n",
        "### I have trained 5 neural networks on the unaugmented data to find good starting points for the networks that will learn from the larger augmented datasets."
      ]
    },
    {
      "cell_type": "code",
      "metadata": {
        "id": "DXFI25KsYv3e",
        "colab_type": "code",
        "colab": {
          "base_uri": "https://localhost:8080/",
          "height": 420
        },
        "outputId": "fdfcac79-d3ac-4796-b361-a9a93234497d"
      },
      "source": [
        "mnist_model_2d = Sequential()\n",
        "mnist_model_2d.add(layers.Conv2D(kernel_size=2, filters=64, activation='relu', input_shape=(28,28,1)))\n",
        "mnist_model_2d.add(layers.Conv2D(kernel_size=3, filters=64, activation='relu'))\n",
        "mnist_model_2d.add(layers.Conv2D(kernel_size=3, filters=64, activation='relu'))\n",
        "mnist_model_2d.add(layers.Conv2D(kernel_size=3, filters=32, activation='relu'))\n",
        "mnist_model_2d.add(layers.Conv2D(kernel_size=3, filters=16, activation='relu'))\n",
        "mnist_model_2d.add(layers.Flatten())\n",
        "mnist_model_2d.add(layers.Dense(256, activation='relu'))\n",
        "mnist_model_2d.add(layers.Dense(10, activation='softmax'))\n",
        "mnist_model_2d.summary()"
      ],
      "execution_count": 11,
      "outputs": [
        {
          "output_type": "stream",
          "text": [
            "Model: \"sequential\"\n",
            "_________________________________________________________________\n",
            "Layer (type)                 Output Shape              Param #   \n",
            "=================================================================\n",
            "conv2d (Conv2D)              (None, 27, 27, 64)        320       \n",
            "_________________________________________________________________\n",
            "conv2d_1 (Conv2D)            (None, 25, 25, 64)        36928     \n",
            "_________________________________________________________________\n",
            "conv2d_2 (Conv2D)            (None, 23, 23, 64)        36928     \n",
            "_________________________________________________________________\n",
            "conv2d_3 (Conv2D)            (None, 21, 21, 32)        18464     \n",
            "_________________________________________________________________\n",
            "conv2d_4 (Conv2D)            (None, 19, 19, 16)        4624      \n",
            "_________________________________________________________________\n",
            "flatten (Flatten)            (None, 5776)              0         \n",
            "_________________________________________________________________\n",
            "dense (Dense)                (None, 256)               1478912   \n",
            "_________________________________________________________________\n",
            "dense_1 (Dense)              (None, 10)                2570      \n",
            "=================================================================\n",
            "Total params: 1,578,746\n",
            "Trainable params: 1,578,746\n",
            "Non-trainable params: 0\n",
            "_________________________________________________________________\n"
          ],
          "name": "stdout"
        }
      ]
    },
    {
      "cell_type": "code",
      "metadata": {
        "id": "iWjfDr34Yv3q",
        "colab_type": "code",
        "colab": {}
      },
      "source": [
        "mnist_model_2d.compile(loss='sparse_categorical_crossentropy', optimizer='adam', metrics=['accuracy', 'sparse_categorical_crossentropy'])"
      ],
      "execution_count": 12,
      "outputs": []
    },
    {
      "cell_type": "code",
      "metadata": {
        "id": "uFWx4sVFYv3x",
        "colab_type": "code",
        "colab": {
          "base_uri": "https://localhost:8080/",
          "height": 373
        },
        "outputId": "c5a9cabb-83a6-4238-98d4-d249bfadf000"
      },
      "source": [
        "mnist_model_2d_history = mnist_model_2d.fit(x_train, y_train, batch_size=64, epochs=10, validation_split=.2, verbose=1)"
      ],
      "execution_count": 13,
      "outputs": [
        {
          "output_type": "stream",
          "text": [
            "Epoch 1/10\n",
            "750/750 [==============================] - 8s 11ms/step - loss: 0.4554 - accuracy: 0.8334 - sparse_categorical_crossentropy: 0.4554 - val_loss: 0.3207 - val_accuracy: 0.8830 - val_sparse_categorical_crossentropy: 0.3207\n",
            "Epoch 2/10\n",
            "750/750 [==============================] - 8s 11ms/step - loss: 0.2813 - accuracy: 0.8966 - sparse_categorical_crossentropy: 0.2813 - val_loss: 0.2724 - val_accuracy: 0.9009 - val_sparse_categorical_crossentropy: 0.2724\n",
            "Epoch 3/10\n",
            "750/750 [==============================] - 8s 11ms/step - loss: 0.2244 - accuracy: 0.9170 - sparse_categorical_crossentropy: 0.2244 - val_loss: 0.2837 - val_accuracy: 0.9013 - val_sparse_categorical_crossentropy: 0.2837\n",
            "Epoch 4/10\n",
            "750/750 [==============================] - 8s 11ms/step - loss: 0.1793 - accuracy: 0.9341 - sparse_categorical_crossentropy: 0.1793 - val_loss: 0.2583 - val_accuracy: 0.9124 - val_sparse_categorical_crossentropy: 0.2583\n",
            "Epoch 5/10\n",
            "750/750 [==============================] - 8s 11ms/step - loss: 0.1420 - accuracy: 0.9476 - sparse_categorical_crossentropy: 0.1420 - val_loss: 0.2744 - val_accuracy: 0.9085 - val_sparse_categorical_crossentropy: 0.2744\n",
            "Epoch 6/10\n",
            "750/750 [==============================] - 8s 11ms/step - loss: 0.1041 - accuracy: 0.9613 - sparse_categorical_crossentropy: 0.1041 - val_loss: 0.3051 - val_accuracy: 0.9092 - val_sparse_categorical_crossentropy: 0.3051\n",
            "Epoch 7/10\n",
            "750/750 [==============================] - 8s 11ms/step - loss: 0.0764 - accuracy: 0.9716 - sparse_categorical_crossentropy: 0.0764 - val_loss: 0.3689 - val_accuracy: 0.9052 - val_sparse_categorical_crossentropy: 0.3689\n",
            "Epoch 8/10\n",
            "750/750 [==============================] - 8s 11ms/step - loss: 0.0580 - accuracy: 0.9787 - sparse_categorical_crossentropy: 0.0580 - val_loss: 0.3735 - val_accuracy: 0.9098 - val_sparse_categorical_crossentropy: 0.3735\n",
            "Epoch 9/10\n",
            "750/750 [==============================] - 8s 11ms/step - loss: 0.0406 - accuracy: 0.9856 - sparse_categorical_crossentropy: 0.0406 - val_loss: 0.4788 - val_accuracy: 0.9037 - val_sparse_categorical_crossentropy: 0.4788\n",
            "Epoch 10/10\n",
            "750/750 [==============================] - 8s 11ms/step - loss: 0.0355 - accuracy: 0.9872 - sparse_categorical_crossentropy: 0.0355 - val_loss: 0.5182 - val_accuracy: 0.9019 - val_sparse_categorical_crossentropy: 0.5182\n"
          ],
          "name": "stdout"
        }
      ]
    },
    {
      "cell_type": "code",
      "metadata": {
        "id": "mLpat3TTYv35",
        "colab_type": "code",
        "colab": {
          "base_uri": "https://localhost:8080/",
          "height": 34
        },
        "outputId": "09f27b4b-e917-4ffa-8c10-1be240300a0b"
      },
      "source": [
        "mnist_model_2d_score = mnist_model_2d.evaluate(x_test, y_test, verbose=1)"
      ],
      "execution_count": 14,
      "outputs": [
        {
          "output_type": "stream",
          "text": [
            "313/313 [==============================] - 1s 3ms/step - loss: 0.5544 - accuracy: 0.8978 - sparse_categorical_crossentropy: 0.5544\n"
          ],
          "name": "stdout"
        }
      ]
    },
    {
      "cell_type": "markdown",
      "metadata": {
        "id": "XOdTkiFfRCnn",
        "colab_type": "text"
      },
      "source": [
        "## This network is comprised of small kernels with relatively few filters. It trained very fast, and as the plots below show, reached it's potential almost immediately. "
      ]
    },
    {
      "cell_type": "code",
      "metadata": {
        "id": "MHe46_ZXmPp-",
        "colab_type": "code",
        "colab": {
          "base_uri": "https://localhost:8080/",
          "height": 312
        },
        "outputId": "ef40974f-7bee-495f-9e24-e7ef8c0d3c9c"
      },
      "source": [
        "plt.plot(mnist_model_2d_history.history['accuracy'])\n",
        "plt.plot(mnist_model_2d_history.history['val_accuracy'])\n",
        "plt.title('Accuracy Per Epoch')\n",
        "plt.xlabel('Epoch')\n",
        "plt.ylabel('Accuracy')\n",
        "plt.legend(['train', 'validation'])"
      ],
      "execution_count": 15,
      "outputs": [
        {
          "output_type": "execute_result",
          "data": {
            "text/plain": [
              "<matplotlib.legend.Legend at 0x7fc20778aef0>"
            ]
          },
          "metadata": {
            "tags": []
          },
          "execution_count": 15
        },
        {
          "output_type": "display_data",
          "data": {
            "image/png": "[encoded data removed]",
            "text/plain": [
              "<Figure size 432x288 with 1 Axes>"
            ]
          },
          "metadata": {
            "tags": [],
            "needs_background": "light"
          }
        }
      ]
    },
    {
      "cell_type": "code",
      "metadata": {
        "id": "iGoqssvyqi-x",
        "colab_type": "code",
        "colab": {
          "base_uri": "https://localhost:8080/",
          "height": 312
        },
        "outputId": "fc9c515b-8976-45ad-8c1c-e60667eb8cfe"
      },
      "source": [
        "plt.plot(mnist_model_2d_history.history['loss'])\n",
        "plt.plot(mnist_model_2d_history.history['val_loss'])\n",
        "plt.title('Loss Per Epoch')\n",
        "plt.xlabel('Epoch')\n",
        "plt.ylabel('Loss')\n",
        "plt.legend(['train', 'validation'])"
      ],
      "execution_count": 16,
      "outputs": [
        {
          "output_type": "execute_result",
          "data": {
            "text/plain": [
              "<matplotlib.legend.Legend at 0x7fc20c10f860>"
            ]
          },
          "metadata": {
            "tags": []
          },
          "execution_count": 16
        },
        {
          "output_type": "display_data",
          "data": {
            "image/png": "[encoded data removed]",
            "text/plain": [
              "<Figure size 432x288 with 1 Axes>"
            ]
          },
          "metadata": {
            "tags": [],
            "needs_background": "light"
          }
        }
      ]
    },
    {
      "cell_type": "code",
      "metadata": {
        "id": "QSvPeEXUYv4A",
        "colab_type": "code",
        "colab": {
          "base_uri": "https://localhost:8080/",
          "height": 420
        },
        "outputId": "03ce545a-2b97-4d38-a5a4-f6f18597271a"
      },
      "source": [
        "mnist_model_2d_2 = Sequential()\n",
        "mnist_model_2d_2.add(layers.Conv2D(kernel_size=4, filters=64, activation='relu', input_shape=(28,28,1)))\n",
        "mnist_model_2d_2.add(layers.Conv2D(kernel_size=5, filters=64, activation='relu'))\n",
        "mnist_model_2d_2.add(layers.Conv2D(kernel_size=5, filters=32, activation='relu'))\n",
        "mnist_model_2d_2.add(layers.Conv2D(kernel_size=3, filters=32, activation='relu'))\n",
        "mnist_model_2d_2.add(layers.Conv2D(kernel_size=5, filters=16, activation='relu'))\n",
        "mnist_model_2d_2.add(layers.Flatten())\n",
        "mnist_model_2d_2.add(layers.Dense(256, activation='relu'))\n",
        "mnist_model_2d_2.add(layers.Dense(10, activation='softmax'))\n",
        "mnist_model_2d_2.summary()"
      ],
      "execution_count": 17,
      "outputs": [
        {
          "output_type": "stream",
          "text": [
            "Model: \"sequential_1\"\n",
            "_________________________________________________________________\n",
            "Layer (type)                 Output Shape              Param #   \n",
            "=================================================================\n",
            "conv2d_5 (Conv2D)            (None, 25, 25, 64)        1088      \n",
            "_________________________________________________________________\n",
            "conv2d_6 (Conv2D)            (None, 21, 21, 64)        102464    \n",
            "_________________________________________________________________\n",
            "conv2d_7 (Conv2D)            (None, 17, 17, 32)        51232     \n",
            "_________________________________________________________________\n",
            "conv2d_8 (Conv2D)            (None, 15, 15, 32)        9248      \n",
            "_________________________________________________________________\n",
            "conv2d_9 (Conv2D)            (None, 11, 11, 16)        12816     \n",
            "_________________________________________________________________\n",
            "flatten_1 (Flatten)          (None, 1936)              0         \n",
            "_________________________________________________________________\n",
            "dense_2 (Dense)              (None, 256)               495872    \n",
            "_________________________________________________________________\n",
            "dense_3 (Dense)              (None, 10)                2570      \n",
            "=================================================================\n",
            "Total params: 675,290\n",
            "Trainable params: 675,290\n",
            "Non-trainable params: 0\n",
            "_________________________________________________________________\n"
          ],
          "name": "stdout"
        }
      ]
    },
    {
      "cell_type": "code",
      "metadata": {
        "id": "wKQksnOiYv4J",
        "colab_type": "code",
        "colab": {}
      },
      "source": [
        "mnist_model_2d_2.compile(loss='sparse_categorical_crossentropy', optimizer='adam', metrics=['accuracy', 'sparse_categorical_crossentropy'])"
      ],
      "execution_count": 18,
      "outputs": []
    },
    {
      "cell_type": "code",
      "metadata": {
        "id": "pmAyqLtQYv4Q",
        "colab_type": "code",
        "colab": {
          "base_uri": "https://localhost:8080/",
          "height": 373
        },
        "outputId": "838e4a8c-e687-4e60-f23d-22242e69df57"
      },
      "source": [
        "mnist_model_2d_2_history = mnist_model_2d_2.fit(x_train, y_train, batch_size=64, epochs=10, validation_split=.2, verbose=1)"
      ],
      "execution_count": 19,
      "outputs": [
        {
          "output_type": "stream",
          "text": [
            "Epoch 1/10\n",
            "750/750 [==============================] - 6s 9ms/step - loss: 0.5786 - accuracy: 0.7876 - sparse_categorical_crossentropy: 0.5786 - val_loss: 0.4336 - val_accuracy: 0.8422 - val_sparse_categorical_crossentropy: 0.4336\n",
            "Epoch 2/10\n",
            "750/750 [==============================] - 6s 8ms/step - loss: 0.3712 - accuracy: 0.8625 - sparse_categorical_crossentropy: 0.3712 - val_loss: 0.3417 - val_accuracy: 0.8748 - val_sparse_categorical_crossentropy: 0.3417\n",
            "Epoch 3/10\n",
            "750/750 [==============================] - 6s 8ms/step - loss: 0.3142 - accuracy: 0.8830 - sparse_categorical_crossentropy: 0.3142 - val_loss: 0.2973 - val_accuracy: 0.8913 - val_sparse_categorical_crossentropy: 0.2973\n",
            "Epoch 4/10\n",
            "750/750 [==============================] - 6s 8ms/step - loss: 0.2834 - accuracy: 0.8954 - sparse_categorical_crossentropy: 0.2834 - val_loss: 0.2822 - val_accuracy: 0.8963 - val_sparse_categorical_crossentropy: 0.2822\n",
            "Epoch 5/10\n",
            "750/750 [==============================] - 6s 8ms/step - loss: 0.2583 - accuracy: 0.9040 - sparse_categorical_crossentropy: 0.2583 - val_loss: 0.2809 - val_accuracy: 0.8959 - val_sparse_categorical_crossentropy: 0.2809\n",
            "Epoch 6/10\n",
            "750/750 [==============================] - 6s 8ms/step - loss: 0.2365 - accuracy: 0.9113 - sparse_categorical_crossentropy: 0.2365 - val_loss: 0.2827 - val_accuracy: 0.8974 - val_sparse_categorical_crossentropy: 0.2827\n",
            "Epoch 7/10\n",
            "750/750 [==============================] - 6s 9ms/step - loss: 0.2178 - accuracy: 0.9190 - sparse_categorical_crossentropy: 0.2178 - val_loss: 0.2855 - val_accuracy: 0.8997 - val_sparse_categorical_crossentropy: 0.2855\n",
            "Epoch 8/10\n",
            "750/750 [==============================] - 6s 8ms/step - loss: 0.2021 - accuracy: 0.9248 - sparse_categorical_crossentropy: 0.2021 - val_loss: 0.2605 - val_accuracy: 0.9091 - val_sparse_categorical_crossentropy: 0.2605\n",
            "Epoch 9/10\n",
            "750/750 [==============================] - 6s 8ms/step - loss: 0.1823 - accuracy: 0.9316 - sparse_categorical_crossentropy: 0.1823 - val_loss: 0.2617 - val_accuracy: 0.9073 - val_sparse_categorical_crossentropy: 0.2617\n",
            "Epoch 10/10\n",
            "750/750 [==============================] - 6s 8ms/step - loss: 0.1668 - accuracy: 0.9375 - sparse_categorical_crossentropy: 0.1668 - val_loss: 0.2861 - val_accuracy: 0.9028 - val_sparse_categorical_crossentropy: 0.2861\n"
          ],
          "name": "stdout"
        }
      ]
    },
    {
      "cell_type": "code",
      "metadata": {
        "id": "GpFavrChYv4W",
        "colab_type": "code",
        "colab": {
          "base_uri": "https://localhost:8080/",
          "height": 34
        },
        "outputId": "01e62797-5562-419b-936e-e4c3dfb8a6e7"
      },
      "source": [
        "mnist_model_2d_2_score = mnist_model_2d_2.evaluate(x_test, y_test, verbose=1)"
      ],
      "execution_count": 20,
      "outputs": [
        {
          "output_type": "stream",
          "text": [
            "313/313 [==============================] - 1s 3ms/step - loss: 0.3096 - accuracy: 0.8994 - sparse_categorical_crossentropy: 0.3096\n"
          ],
          "name": "stdout"
        }
      ]
    },
    {
      "cell_type": "markdown",
      "metadata": {
        "id": "_ZBuKqJtR9sx",
        "colab_type": "text"
      },
      "source": [
        "## This network is the same as the last on, with the exception that the kernels are slightly larger. We can see this resulted in training time being reduced by a 25% per epoch. The accuracies are basically the same between the two models, but we can see from the graphs below that this model took a few more epochs to reach its optimal parameters."
      ]
    },
    {
      "cell_type": "code",
      "metadata": {
        "colab_type": "code",
        "id": "Gq1u7IaTrTfc",
        "colab": {
          "base_uri": "https://localhost:8080/",
          "height": 312
        },
        "outputId": "012545e6-2647-40e5-97bd-9b70c9629326"
      },
      "source": [
        "plt.plot(mnist_model_2d_2_history.history['accuracy'])\n",
        "plt.plot(mnist_model_2d_2_history.history['val_accuracy'])\n",
        "plt.title('Accuracy Per Epoch')\n",
        "plt.xlabel('Epoch')\n",
        "plt.ylabel('Accuracy')\n",
        "plt.legend(['train', 'validation'])"
      ],
      "execution_count": 21,
      "outputs": [
        {
          "output_type": "execute_result",
          "data": {
            "text/plain": [
              "<matplotlib.legend.Legend at 0x7fc2075d7fd0>"
            ]
          },
          "metadata": {
            "tags": []
          },
          "execution_count": 21
        },
        {
          "output_type": "display_data",
          "data": {
            "image/png": "[encoded data removed]",
            "text/plain": [
              "<Figure size 432x288 with 1 Axes>"
            ]
          },
          "metadata": {
            "tags": [],
            "needs_background": "light"
          }
        }
      ]
    },
    {
      "cell_type": "code",
      "metadata": {
        "colab_type": "code",
        "id": "axLM_AUjtM_k",
        "colab": {
          "base_uri": "https://localhost:8080/",
          "height": 312
        },
        "outputId": "c4b10b60-f691-4ce4-8e1b-5da7b3b373bc"
      },
      "source": [
        "plt.plot(mnist_model_2d_2_history.history['loss'])\n",
        "plt.plot(mnist_model_2d_2_history.history['val_loss'])\n",
        "plt.title('Loss Per Epoch')\n",
        "plt.xlabel('Epoch')\n",
        "plt.ylabel('Loss')\n",
        "plt.legend(['train', 'validation'])"
      ],
      "execution_count": 22,
      "outputs": [
        {
          "output_type": "execute_result",
          "data": {
            "text/plain": [
              "<matplotlib.legend.Legend at 0x7fc204cfd4a8>"
            ]
          },
          "metadata": {
            "tags": []
          },
          "execution_count": 22
        },
        {
          "output_type": "display_data",
          "data": {
            "image/png": "[encoded data removed]",
            "text/plain": [
              "<Figure size 432x288 with 1 Axes>"
            ]
          },
          "metadata": {
            "tags": [],
            "needs_background": "light"
          }
        }
      ]
    },
    {
      "cell_type": "code",
      "metadata": {
        "id": "fbdEuROJYv4d",
        "colab_type": "code",
        "colab": {
          "base_uri": "https://localhost:8080/",
          "height": 588
        },
        "outputId": "3d0e4b68-6230-4c1a-f6e3-b594db85684b"
      },
      "source": [
        "mnist_model_2d_3 = Sequential()\n",
        "mnist_model_2d_3.add(layers.Conv2D(kernel_size=2, filters=64, activation='relu', input_shape=(28,28,1)))\n",
        "mnist_model_2d_3.add(layers.Dropout(0.3))\n",
        "mnist_model_2d_3.add(layers.Conv2D(kernel_size=3, filters=64, activation='relu'))\n",
        "mnist_model_2d_3.add(layers.Dropout(0.3))\n",
        "mnist_model_2d_3.add(layers.Conv2D(kernel_size=3, filters=64, activation='relu'))\n",
        "mnist_model_2d_3.add(layers.Dropout(0.3))\n",
        "mnist_model_2d_3.add(layers.Conv2D(kernel_size=3, filters=32, activation='relu'))\n",
        "mnist_model_2d_3.add(layers.Dropout(0.3))\n",
        "mnist_model_2d_3.add(layers.Conv2D(kernel_size=3, filters=16, activation='relu'))\n",
        "mnist_model_2d_3.add(layers.Dropout(0.3))\n",
        "mnist_model_2d_3.add(layers.Flatten())\n",
        "mnist_model_2d_3.add(layers.Dense(256, activation='relu'))\n",
        "mnist_model_2d_3.add(layers.Dense(10, activation='softmax'))\n",
        "mnist_model_2d_3.summary()"
      ],
      "execution_count": 23,
      "outputs": [
        {
          "output_type": "stream",
          "text": [
            "Model: \"sequential_2\"\n",
            "_________________________________________________________________\n",
            "Layer (type)                 Output Shape              Param #   \n",
            "=================================================================\n",
            "conv2d_10 (Conv2D)           (None, 27, 27, 64)        320       \n",
            "_________________________________________________________________\n",
            "dropout (Dropout)            (None, 27, 27, 64)        0         \n",
            "_________________________________________________________________\n",
            "conv2d_11 (Conv2D)           (None, 25, 25, 64)        36928     \n",
            "_________________________________________________________________\n",
            "dropout_1 (Dropout)          (None, 25, 25, 64)        0         \n",
            "_________________________________________________________________\n",
            "conv2d_12 (Conv2D)           (None, 23, 23, 64)        36928     \n",
            "_________________________________________________________________\n",
            "dropout_2 (Dropout)          (None, 23, 23, 64)        0         \n",
            "_________________________________________________________________\n",
            "conv2d_13 (Conv2D)           (None, 21, 21, 32)        18464     \n",
            "_________________________________________________________________\n",
            "dropout_3 (Dropout)          (None, 21, 21, 32)        0         \n",
            "_________________________________________________________________\n",
            "conv2d_14 (Conv2D)           (None, 19, 19, 16)        4624      \n",
            "_________________________________________________________________\n",
            "dropout_4 (Dropout)          (None, 19, 19, 16)        0         \n",
            "_________________________________________________________________\n",
            "flatten_2 (Flatten)          (None, 5776)              0         \n",
            "_________________________________________________________________\n",
            "dense_4 (Dense)              (None, 256)               1478912   \n",
            "_________________________________________________________________\n",
            "dense_5 (Dense)              (None, 10)                2570      \n",
            "=================================================================\n",
            "Total params: 1,578,746\n",
            "Trainable params: 1,578,746\n",
            "Non-trainable params: 0\n",
            "_________________________________________________________________\n"
          ],
          "name": "stdout"
        }
      ]
    },
    {
      "cell_type": "code",
      "metadata": {
        "id": "1yBKgwx7Yv4o",
        "colab_type": "code",
        "colab": {}
      },
      "source": [
        "mnist_model_2d_3.compile(loss='sparse_categorical_crossentropy', optimizer='adam', metrics=['accuracy', 'sparse_categorical_crossentropy'])"
      ],
      "execution_count": 24,
      "outputs": []
    },
    {
      "cell_type": "code",
      "metadata": {
        "id": "0_2BP4-TYv46",
        "colab_type": "code",
        "colab": {
          "base_uri": "https://localhost:8080/",
          "height": 373
        },
        "outputId": "f00db289-f221-428b-d9cf-8d43b3517417"
      },
      "source": [
        "mnist_model_2d_3_history = mnist_model_2d_3.fit(x_train, y_train, batch_size=64, epochs=10, validation_split=.2, verbose=1)"
      ],
      "execution_count": 25,
      "outputs": [
        {
          "output_type": "stream",
          "text": [
            "Epoch 1/10\n",
            "750/750 [==============================] - 11s 14ms/step - loss: 0.5359 - accuracy: 0.8019 - sparse_categorical_crossentropy: 0.5359 - val_loss: 0.3709 - val_accuracy: 0.8643 - val_sparse_categorical_crossentropy: 0.3709\n",
            "Epoch 2/10\n",
            "750/750 [==============================] - 10s 14ms/step - loss: 0.3339 - accuracy: 0.8767 - sparse_categorical_crossentropy: 0.3339 - val_loss: 0.2839 - val_accuracy: 0.8945 - val_sparse_categorical_crossentropy: 0.2839\n",
            "Epoch 3/10\n",
            "750/750 [==============================] - 10s 14ms/step - loss: 0.2726 - accuracy: 0.8984 - sparse_categorical_crossentropy: 0.2726 - val_loss: 0.2554 - val_accuracy: 0.9074 - val_sparse_categorical_crossentropy: 0.2554\n",
            "Epoch 4/10\n",
            "750/750 [==============================] - 10s 14ms/step - loss: 0.2444 - accuracy: 0.9090 - sparse_categorical_crossentropy: 0.2444 - val_loss: 0.2618 - val_accuracy: 0.9043 - val_sparse_categorical_crossentropy: 0.2618\n",
            "Epoch 5/10\n",
            "750/750 [==============================] - 10s 14ms/step - loss: 0.2193 - accuracy: 0.9190 - sparse_categorical_crossentropy: 0.2193 - val_loss: 0.2441 - val_accuracy: 0.9126 - val_sparse_categorical_crossentropy: 0.2441\n",
            "Epoch 6/10\n",
            "750/750 [==============================] - 10s 14ms/step - loss: 0.1964 - accuracy: 0.9257 - sparse_categorical_crossentropy: 0.1964 - val_loss: 0.2360 - val_accuracy: 0.9169 - val_sparse_categorical_crossentropy: 0.2360\n",
            "Epoch 7/10\n",
            "750/750 [==============================] - 10s 14ms/step - loss: 0.1775 - accuracy: 0.9333 - sparse_categorical_crossentropy: 0.1775 - val_loss: 0.2304 - val_accuracy: 0.9175 - val_sparse_categorical_crossentropy: 0.2304\n",
            "Epoch 8/10\n",
            "750/750 [==============================] - 10s 14ms/step - loss: 0.1594 - accuracy: 0.9401 - sparse_categorical_crossentropy: 0.1594 - val_loss: 0.2381 - val_accuracy: 0.9200 - val_sparse_categorical_crossentropy: 0.2381\n",
            "Epoch 9/10\n",
            "750/750 [==============================] - 10s 14ms/step - loss: 0.1443 - accuracy: 0.9449 - sparse_categorical_crossentropy: 0.1443 - val_loss: 0.2659 - val_accuracy: 0.9094 - val_sparse_categorical_crossentropy: 0.2659\n",
            "Epoch 10/10\n",
            "750/750 [==============================] - 10s 14ms/step - loss: 0.1317 - accuracy: 0.9510 - sparse_categorical_crossentropy: 0.1317 - val_loss: 0.2579 - val_accuracy: 0.9155 - val_sparse_categorical_crossentropy: 0.2579\n"
          ],
          "name": "stdout"
        }
      ]
    },
    {
      "cell_type": "code",
      "metadata": {
        "id": "dsBNMFhIYv5G",
        "colab_type": "code",
        "colab": {
          "base_uri": "https://localhost:8080/",
          "height": 34
        },
        "outputId": "39e3f5dc-a1ad-43d0-9ff5-3fe89206f08c"
      },
      "source": [
        "mnist_model_2d_3_score = mnist_model_2d_3.evaluate(x_test, y_test, verbose=1)"
      ],
      "execution_count": 26,
      "outputs": [
        {
          "output_type": "stream",
          "text": [
            "313/313 [==============================] - 1s 4ms/step - loss: 0.2754 - accuracy: 0.9147 - sparse_categorical_crossentropy: 0.2754\n"
          ],
          "name": "stdout"
        }
      ]
    },
    {
      "cell_type": "markdown",
      "metadata": {
        "id": "D00LBYS3TfdO",
        "colab_type": "text"
      },
      "source": [
        "## This model is the same as the first model, with the exception that each convolution is followed by a dropout layer. This increased epoch training time by 25% and caused the model to take slightly longer to reach optimal parameters, as can be seen below. However, it also resulted in an accuracy boost of 1% one the test set."
      ]
    },
    {
      "cell_type": "code",
      "metadata": {
        "colab_type": "code",
        "id": "hNFxX5KJrVWD",
        "colab": {
          "base_uri": "https://localhost:8080/",
          "height": 312
        },
        "outputId": "323477e0-087f-4253-c434-d76ecd1d0ec2"
      },
      "source": [
        "plt.plot(mnist_model_2d_3_history.history['accuracy'])\n",
        "plt.plot(mnist_model_2d_3_history.history['val_accuracy'])\n",
        "plt.title('Accuracy Per Epoch')\n",
        "plt.xlabel('Epoch')\n",
        "plt.ylabel('Accuracy')\n",
        "plt.legend(['train', 'validation'])"
      ],
      "execution_count": 27,
      "outputs": [
        {
          "output_type": "execute_result",
          "data": {
            "text/plain": [
              "<matplotlib.legend.Legend at 0x7fc205c5f2b0>"
            ]
          },
          "metadata": {
            "tags": []
          },
          "execution_count": 27
        },
        {
          "output_type": "display_data",
          "data": {
            "image/png": "[encoded data removed]",
            "text/plain": [
              "<Figure size 432x288 with 1 Axes>"
            ]
          },
          "metadata": {
            "tags": [],
            "needs_background": "light"
          }
        }
      ]
    },
    {
      "cell_type": "code",
      "metadata": {
        "colab_type": "code",
        "id": "a8sg2_zHtOrk",
        "colab": {
          "base_uri": "https://localhost:8080/",
          "height": 312
        },
        "outputId": "98786549-f9dc-4311-a08b-4b195d9d6d2a"
      },
      "source": [
        "plt.plot(mnist_model_2d_3_history.history['loss'])\n",
        "plt.plot(mnist_model_2d_3_history.history['val_loss'])\n",
        "plt.title('Loss Per Epoch')\n",
        "plt.xlabel('Epoch')\n",
        "plt.ylabel('Loss')\n",
        "plt.legend(['train', 'validation'])"
      ],
      "execution_count": 28,
      "outputs": [
        {
          "output_type": "execute_result",
          "data": {
            "text/plain": [
              "<matplotlib.legend.Legend at 0x7fc2052aa588>"
            ]
          },
          "metadata": {
            "tags": []
          },
          "execution_count": 28
        },
        {
          "output_type": "display_data",
          "data": {
            "image/png": "[encoded data removed]",
            "text/plain": [
              "<Figure size 432x288 with 1 Axes>"
            ]
          },
          "metadata": {
            "tags": [],
            "needs_background": "light"
          }
        }
      ]
    },
    {
      "cell_type": "code",
      "metadata": {
        "id": "YlV_swfqYv5N",
        "colab_type": "code",
        "colab": {
          "base_uri": "https://localhost:8080/",
          "height": 588
        },
        "outputId": "a009cf4a-6960-40f6-dbcb-85f1a6979e5c"
      },
      "source": [
        "mnist_model_2d_4 = Sequential()\n",
        "mnist_model_2d_4.add(layers.Conv2D(kernel_size=4, filters=64, activation='relu', input_shape=(28,28,1)))\n",
        "mnist_model_2d_4.add(layers.Dropout(0.3))\n",
        "mnist_model_2d_4.add(layers.Conv2D(kernel_size=5, filters=64, activation='relu'))\n",
        "mnist_model_2d_4.add(layers.Dropout(0.3))\n",
        "mnist_model_2d_4.add(layers.Conv2D(kernel_size=5, filters=32, activation='relu'))\n",
        "mnist_model_2d_4.add(layers.Dropout(0.3))\n",
        "mnist_model_2d_4.add(layers.Conv2D(kernel_size=3, filters=32, activation='relu'))\n",
        "mnist_model_2d_4.add(layers.Dropout(0.3))\n",
        "mnist_model_2d_4.add(layers.Conv2D(kernel_size=5, filters=16, activation='relu'))\n",
        "mnist_model_2d_4.add(layers.Dropout(0.3))\n",
        "mnist_model_2d_4.add(layers.Flatten())\n",
        "mnist_model_2d_4.add(layers.Dense(256, activation='relu'))\n",
        "mnist_model_2d_4.add(layers.Dense(10, activation='softmax'))\n",
        "mnist_model_2d_4.summary()"
      ],
      "execution_count": 29,
      "outputs": [
        {
          "output_type": "stream",
          "text": [
            "Model: \"sequential_3\"\n",
            "_________________________________________________________________\n",
            "Layer (type)                 Output Shape              Param #   \n",
            "=================================================================\n",
            "conv2d_15 (Conv2D)           (None, 25, 25, 64)        1088      \n",
            "_________________________________________________________________\n",
            "dropout_5 (Dropout)          (None, 25, 25, 64)        0         \n",
            "_________________________________________________________________\n",
            "conv2d_16 (Conv2D)           (None, 21, 21, 64)        102464    \n",
            "_________________________________________________________________\n",
            "dropout_6 (Dropout)          (None, 21, 21, 64)        0         \n",
            "_________________________________________________________________\n",
            "conv2d_17 (Conv2D)           (None, 17, 17, 32)        51232     \n",
            "_________________________________________________________________\n",
            "dropout_7 (Dropout)          (None, 17, 17, 32)        0         \n",
            "_________________________________________________________________\n",
            "conv2d_18 (Conv2D)           (None, 15, 15, 32)        9248      \n",
            "_________________________________________________________________\n",
            "dropout_8 (Dropout)          (None, 15, 15, 32)        0         \n",
            "_________________________________________________________________\n",
            "conv2d_19 (Conv2D)           (None, 11, 11, 16)        12816     \n",
            "_________________________________________________________________\n",
            "dropout_9 (Dropout)          (None, 11, 11, 16)        0         \n",
            "_________________________________________________________________\n",
            "flatten_3 (Flatten)          (None, 1936)              0         \n",
            "_________________________________________________________________\n",
            "dense_6 (Dense)              (None, 256)               495872    \n",
            "_________________________________________________________________\n",
            "dense_7 (Dense)              (None, 10)                2570      \n",
            "=================================================================\n",
            "Total params: 675,290\n",
            "Trainable params: 675,290\n",
            "Non-trainable params: 0\n",
            "_________________________________________________________________\n"
          ],
          "name": "stdout"
        }
      ]
    },
    {
      "cell_type": "code",
      "metadata": {
        "id": "CEcIX2csYv5S",
        "colab_type": "code",
        "colab": {}
      },
      "source": [
        "mnist_model_2d_4.compile(loss='sparse_categorical_crossentropy', optimizer='adam', metrics=['accuracy', 'sparse_categorical_crossentropy'])"
      ],
      "execution_count": 30,
      "outputs": []
    },
    {
      "cell_type": "code",
      "metadata": {
        "id": "ZqigZv67Yv5Y",
        "colab_type": "code",
        "colab": {
          "base_uri": "https://localhost:8080/",
          "height": 373
        },
        "outputId": "4cce3ef4-0083-4ea7-f4c2-619e44180bf5"
      },
      "source": [
        "mnist_model_2d_4_history = mnist_model_2d_4.fit(x_train, y_train, batch_size=64, epochs=10, validation_split=.2, verbose=1)"
      ],
      "execution_count": 31,
      "outputs": [
        {
          "output_type": "stream",
          "text": [
            "Epoch 1/10\n",
            "750/750 [==============================] - 8s 10ms/step - loss: 0.6417 - accuracy: 0.7602 - sparse_categorical_crossentropy: 0.6417 - val_loss: 0.4073 - val_accuracy: 0.8482 - val_sparse_categorical_crossentropy: 0.4073\n",
            "Epoch 2/10\n",
            "750/750 [==============================] - 7s 10ms/step - loss: 0.3891 - accuracy: 0.8575 - sparse_categorical_crossentropy: 0.3891 - val_loss: 0.3316 - val_accuracy: 0.8782 - val_sparse_categorical_crossentropy: 0.3316\n",
            "Epoch 3/10\n",
            "750/750 [==============================] - 7s 10ms/step - loss: 0.3436 - accuracy: 0.8742 - sparse_categorical_crossentropy: 0.3436 - val_loss: 0.3065 - val_accuracy: 0.8850 - val_sparse_categorical_crossentropy: 0.3065\n",
            "Epoch 4/10\n",
            "750/750 [==============================] - 8s 10ms/step - loss: 0.3121 - accuracy: 0.8830 - sparse_categorical_crossentropy: 0.3121 - val_loss: 0.2961 - val_accuracy: 0.8910 - val_sparse_categorical_crossentropy: 0.2961\n",
            "Epoch 5/10\n",
            "750/750 [==============================] - 8s 10ms/step - loss: 0.2981 - accuracy: 0.8895 - sparse_categorical_crossentropy: 0.2981 - val_loss: 0.2958 - val_accuracy: 0.8893 - val_sparse_categorical_crossentropy: 0.2958\n",
            "Epoch 6/10\n",
            "750/750 [==============================] - 8s 10ms/step - loss: 0.2789 - accuracy: 0.8955 - sparse_categorical_crossentropy: 0.2789 - val_loss: 0.2641 - val_accuracy: 0.9012 - val_sparse_categorical_crossentropy: 0.2641\n",
            "Epoch 7/10\n",
            "750/750 [==============================] - 8s 10ms/step - loss: 0.2697 - accuracy: 0.8980 - sparse_categorical_crossentropy: 0.2697 - val_loss: 0.2675 - val_accuracy: 0.8994 - val_sparse_categorical_crossentropy: 0.2675\n",
            "Epoch 8/10\n",
            "750/750 [==============================] - 8s 10ms/step - loss: 0.2564 - accuracy: 0.9039 - sparse_categorical_crossentropy: 0.2564 - val_loss: 0.2699 - val_accuracy: 0.9003 - val_sparse_categorical_crossentropy: 0.2699\n",
            "Epoch 9/10\n",
            "750/750 [==============================] - 7s 10ms/step - loss: 0.2495 - accuracy: 0.9059 - sparse_categorical_crossentropy: 0.2495 - val_loss: 0.2773 - val_accuracy: 0.8947 - val_sparse_categorical_crossentropy: 0.2773\n",
            "Epoch 10/10\n",
            "750/750 [==============================] - 7s 10ms/step - loss: 0.2388 - accuracy: 0.9113 - sparse_categorical_crossentropy: 0.2388 - val_loss: 0.2589 - val_accuracy: 0.9058 - val_sparse_categorical_crossentropy: 0.2589\n"
          ],
          "name": "stdout"
        }
      ]
    },
    {
      "cell_type": "code",
      "metadata": {
        "id": "hYHT0XufYv5e",
        "colab_type": "code",
        "colab": {
          "base_uri": "https://localhost:8080/",
          "height": 34
        },
        "outputId": "57a1a22d-174e-43ee-8031-c5747180062a"
      },
      "source": [
        "mnist_model_2d_4_score = mnist_model_2d_4.evaluate(x_test, y_test, verbose=1)"
      ],
      "execution_count": 32,
      "outputs": [
        {
          "output_type": "stream",
          "text": [
            "313/313 [==============================] - 1s 3ms/step - loss: 0.2790 - accuracy: 0.9034 - sparse_categorical_crossentropy: 0.2790\n"
          ],
          "name": "stdout"
        }
      ]
    },
    {
      "cell_type": "markdown",
      "metadata": {
        "id": "nt3jZAdIUw9r",
        "colab_type": "text"
      },
      "source": [
        "## This model is the same as the second model but with dropout. We can see a small increase in training time, and a small increase in accuracy. The most interesting thing about this model is that it starts very close to its optimal accuracy and loss according to the plots below."
      ]
    },
    {
      "cell_type": "code",
      "metadata": {
        "colab_type": "code",
        "id": "kOehNh5zrWvJ",
        "colab": {
          "base_uri": "https://localhost:8080/",
          "height": 312
        },
        "outputId": "4fbcbdda-b8e1-4680-81a0-e8add2093b14"
      },
      "source": [
        "plt.plot(mnist_model_2d_4_history.history['accuracy'])\n",
        "plt.plot(mnist_model_2d_4_history.history['val_accuracy'])\n",
        "plt.title('Accuracy Per Epoch')\n",
        "plt.xlabel('Epoch')\n",
        "plt.ylabel('Accuracy')\n",
        "plt.legend(['train', 'validation'])"
      ],
      "execution_count": 33,
      "outputs": [
        {
          "output_type": "execute_result",
          "data": {
            "text/plain": [
              "<matplotlib.legend.Legend at 0x7fc204ec0f60>"
            ]
          },
          "metadata": {
            "tags": []
          },
          "execution_count": 33
        },
        {
          "output_type": "display_data",
          "data": {
            "image/png": "[encoded data removed]",
            "text/plain": [
              "<Figure size 432x288 with 1 Axes>"
            ]
          },
          "metadata": {
            "tags": [],
            "needs_background": "light"
          }
        }
      ]
    },
    {
      "cell_type": "code",
      "metadata": {
        "colab_type": "code",
        "id": "clHCveKUtQ6z",
        "colab": {
          "base_uri": "https://localhost:8080/",
          "height": 312
        },
        "outputId": "9c8aa3aa-97e8-4d94-f359-c65dd24446e1"
      },
      "source": [
        "plt.plot(mnist_model_2d_4_history.history['loss'])\n",
        "plt.plot(mnist_model_2d_4_history.history['val_loss'])\n",
        "plt.title('Loss Per Epoch')\n",
        "plt.xlabel('Epoch')\n",
        "plt.ylabel('Loss')\n",
        "plt.legend(['train', 'validation'])"
      ],
      "execution_count": 34,
      "outputs": [
        {
          "output_type": "execute_result",
          "data": {
            "text/plain": [
              "<matplotlib.legend.Legend at 0x7fc204f491d0>"
            ]
          },
          "metadata": {
            "tags": []
          },
          "execution_count": 34
        },
        {
          "output_type": "display_data",
          "data": {
            "image/png": "[encoded data removed]",
            "text/plain": [
              "<Figure size 432x288 with 1 Axes>"
            ]
          },
          "metadata": {
            "tags": [],
            "needs_background": "light"
          }
        }
      ]
    },
    {
      "cell_type": "code",
      "metadata": {
        "id": "86uPNbuDYv5j",
        "colab_type": "code",
        "colab": {
          "base_uri": "https://localhost:8080/",
          "height": 521
        },
        "outputId": "00d796d2-633d-489f-fc35-9a14ba33927a"
      },
      "source": [
        "mnist_model_2d_5 = Sequential()\n",
        "mnist_model_2d_5.add(layers.Conv2D(kernel_size=4, filters=64, activation='relu', input_shape=(28,28,1)))\n",
        "mnist_model_2d_5.add(layers.Dropout(0.3))\n",
        "mnist_model_2d_5.add(layers.Conv2D(kernel_size=5, filters=64, activation='relu'))\n",
        "mnist_model_2d_5.add(layers.Dropout(0.3))\n",
        "mnist_model_2d_5.add(layers.Conv2D(kernel_size=5, filters=32, activation='relu'))\n",
        "mnist_model_2d_5.add(layers.Dropout(0.3))\n",
        "mnist_model_2d_5.add(layers.Conv2D(kernel_size=7, filters=32, activation='relu'))\n",
        "mnist_model_2d_5.add(layers.Dropout(0.3))\n",
        "mnist_model_2d_5.add(layers.Flatten())\n",
        "mnist_model_2d_5.add(layers.Dense(256, activation='relu'))\n",
        "mnist_model_2d_5.add(layers.Dense(10, activation='softmax'))\n",
        "mnist_model_2d_5.summary()"
      ],
      "execution_count": 35,
      "outputs": [
        {
          "output_type": "stream",
          "text": [
            "Model: \"sequential_4\"\n",
            "_________________________________________________________________\n",
            "Layer (type)                 Output Shape              Param #   \n",
            "=================================================================\n",
            "conv2d_20 (Conv2D)           (None, 25, 25, 64)        1088      \n",
            "_________________________________________________________________\n",
            "dropout_10 (Dropout)         (None, 25, 25, 64)        0         \n",
            "_________________________________________________________________\n",
            "conv2d_21 (Conv2D)           (None, 21, 21, 64)        102464    \n",
            "_________________________________________________________________\n",
            "dropout_11 (Dropout)         (None, 21, 21, 64)        0         \n",
            "_________________________________________________________________\n",
            "conv2d_22 (Conv2D)           (None, 17, 17, 32)        51232     \n",
            "_________________________________________________________________\n",
            "dropout_12 (Dropout)         (None, 17, 17, 32)        0         \n",
            "_________________________________________________________________\n",
            "conv2d_23 (Conv2D)           (None, 11, 11, 32)        50208     \n",
            "_________________________________________________________________\n",
            "dropout_13 (Dropout)         (None, 11, 11, 32)        0         \n",
            "_________________________________________________________________\n",
            "flatten_4 (Flatten)          (None, 3872)              0         \n",
            "_________________________________________________________________\n",
            "dense_8 (Dense)              (None, 256)               991488    \n",
            "_________________________________________________________________\n",
            "dense_9 (Dense)              (None, 10)                2570      \n",
            "=================================================================\n",
            "Total params: 1,199,050\n",
            "Trainable params: 1,199,050\n",
            "Non-trainable params: 0\n",
            "_________________________________________________________________\n"
          ],
          "name": "stdout"
        }
      ]
    },
    {
      "cell_type": "code",
      "metadata": {
        "id": "vZEcYWYWYv5s",
        "colab_type": "code",
        "colab": {}
      },
      "source": [
        "mnist_model_2d_5.compile(loss='sparse_categorical_crossentropy', optimizer='adam', metrics=['accuracy', 'sparse_categorical_crossentropy'])"
      ],
      "execution_count": 36,
      "outputs": []
    },
    {
      "cell_type": "code",
      "metadata": {
        "id": "hs5YZeMuYv53",
        "colab_type": "code",
        "colab": {
          "base_uri": "https://localhost:8080/",
          "height": 373
        },
        "outputId": "c50c1a03-ee17-45d6-b68c-34076065e0bb"
      },
      "source": [
        "mnist_model_2d_5_history = mnist_model_2d_5.fit(x_train, y_train, batch_size=64, epochs=10, validation_split=.2, verbose=1)"
      ],
      "execution_count": 37,
      "outputs": [
        {
          "output_type": "stream",
          "text": [
            "Epoch 1/10\n",
            "750/750 [==============================] - 8s 10ms/step - loss: 0.5729 - accuracy: 0.7875 - sparse_categorical_crossentropy: 0.5729 - val_loss: 0.3827 - val_accuracy: 0.8591 - val_sparse_categorical_crossentropy: 0.3827\n",
            "Epoch 2/10\n",
            "750/750 [==============================] - 8s 10ms/step - loss: 0.3623 - accuracy: 0.8654 - sparse_categorical_crossentropy: 0.3623 - val_loss: 0.3092 - val_accuracy: 0.8832 - val_sparse_categorical_crossentropy: 0.3092\n",
            "Epoch 3/10\n",
            "750/750 [==============================] - 8s 10ms/step - loss: 0.3158 - accuracy: 0.8824 - sparse_categorical_crossentropy: 0.3158 - val_loss: 0.2858 - val_accuracy: 0.8923 - val_sparse_categorical_crossentropy: 0.2858\n",
            "Epoch 4/10\n",
            "750/750 [==============================] - 8s 10ms/step - loss: 0.2866 - accuracy: 0.8931 - sparse_categorical_crossentropy: 0.2866 - val_loss: 0.2770 - val_accuracy: 0.8953 - val_sparse_categorical_crossentropy: 0.2770\n",
            "Epoch 5/10\n",
            "750/750 [==============================] - 8s 10ms/step - loss: 0.2677 - accuracy: 0.9002 - sparse_categorical_crossentropy: 0.2677 - val_loss: 0.2542 - val_accuracy: 0.9059 - val_sparse_categorical_crossentropy: 0.2542\n",
            "Epoch 6/10\n",
            "750/750 [==============================] - 8s 10ms/step - loss: 0.2529 - accuracy: 0.9050 - sparse_categorical_crossentropy: 0.2529 - val_loss: 0.2693 - val_accuracy: 0.9027 - val_sparse_categorical_crossentropy: 0.2693\n",
            "Epoch 7/10\n",
            "750/750 [==============================] - 8s 10ms/step - loss: 0.2389 - accuracy: 0.9097 - sparse_categorical_crossentropy: 0.2389 - val_loss: 0.2477 - val_accuracy: 0.9112 - val_sparse_categorical_crossentropy: 0.2477\n",
            "Epoch 8/10\n",
            "750/750 [==============================] - 8s 10ms/step - loss: 0.2271 - accuracy: 0.9151 - sparse_categorical_crossentropy: 0.2271 - val_loss: 0.2383 - val_accuracy: 0.9106 - val_sparse_categorical_crossentropy: 0.2383\n",
            "Epoch 9/10\n",
            "750/750 [==============================] - 8s 10ms/step - loss: 0.2170 - accuracy: 0.9189 - sparse_categorical_crossentropy: 0.2170 - val_loss: 0.2586 - val_accuracy: 0.9068 - val_sparse_categorical_crossentropy: 0.2586\n",
            "Epoch 10/10\n",
            "750/750 [==============================] - 8s 10ms/step - loss: 0.2091 - accuracy: 0.9216 - sparse_categorical_crossentropy: 0.2091 - val_loss: 0.2632 - val_accuracy: 0.9031 - val_sparse_categorical_crossentropy: 0.2632\n"
          ],
          "name": "stdout"
        }
      ]
    },
    {
      "cell_type": "code",
      "metadata": {
        "id": "1PMKlQSlYv58",
        "colab_type": "code",
        "colab": {
          "base_uri": "https://localhost:8080/",
          "height": 34
        },
        "outputId": "00ce49c4-2817-4def-80dc-5bc88bcec274"
      },
      "source": [
        "mnist_model_2d_5_score = mnist_model_2d_5.evaluate(x_test, y_test, verbose=1)"
      ],
      "execution_count": 38,
      "outputs": [
        {
          "output_type": "stream",
          "text": [
            "313/313 [==============================] - 1s 3ms/step - loss: 0.2697 - accuracy: 0.9021 - sparse_categorical_crossentropy: 0.2697\n"
          ],
          "name": "stdout"
        }
      ]
    },
    {
      "cell_type": "markdown",
      "metadata": {
        "id": "Mmz-At6eV73x",
        "colab_type": "text"
      },
      "source": [
        "## For this model, I took the previous model and replaced the the last two convolutional layers with one layer with a larger kernel size. Nothing really changed."
      ]
    },
    {
      "cell_type": "code",
      "metadata": {
        "colab_type": "code",
        "id": "VlpnV6eVrYZt",
        "colab": {
          "base_uri": "https://localhost:8080/",
          "height": 312
        },
        "outputId": "ea48f80f-fa47-41c2-c912-38211c139ea8"
      },
      "source": [
        "plt.plot(mnist_model_2d_5_history.history['accuracy'])\n",
        "plt.plot(mnist_model_2d_5_history.history['val_accuracy'])\n",
        "plt.title('Accuracy Per Epoch')\n",
        "plt.xlabel('Epoch')\n",
        "plt.ylabel('Accuracy')\n",
        "plt.legend(['train', 'validation'])"
      ],
      "execution_count": 39,
      "outputs": [
        {
          "output_type": "execute_result",
          "data": {
            "text/plain": [
              "<matplotlib.legend.Legend at 0x7fc20438b6d8>"
            ]
          },
          "metadata": {
            "tags": []
          },
          "execution_count": 39
        },
        {
          "output_type": "display_data",
          "data": {
            "image/png": "[encoded data removed]",
            "text/plain": [
              "<Figure size 432x288 with 1 Axes>"
            ]
          },
          "metadata": {
            "tags": [],
            "needs_background": "light"
          }
        }
      ]
    },
    {
      "cell_type": "code",
      "metadata": {
        "colab_type": "code",
        "id": "bMcifzFQtTKN",
        "colab": {
          "base_uri": "https://localhost:8080/",
          "height": 312
        },
        "outputId": "b9b9e375-762a-47e3-809a-73d98554e913"
      },
      "source": [
        "plt.plot(mnist_model_2d_5_history.history['loss'])\n",
        "plt.plot(mnist_model_2d_5_history.history['val_loss'])\n",
        "plt.title('Loss Per Epoch')\n",
        "plt.xlabel('Epoch')\n",
        "plt.ylabel('Loss')\n",
        "plt.legend(['train', 'validation'])"
      ],
      "execution_count": 40,
      "outputs": [
        {
          "output_type": "execute_result",
          "data": {
            "text/plain": [
              "<matplotlib.legend.Legend at 0x7fc204287b00>"
            ]
          },
          "metadata": {
            "tags": []
          },
          "execution_count": 40
        },
        {
          "output_type": "display_data",
          "data": {
            "image/png": "[encoded data removed]",
            "text/plain": [
              "<Figure size 432x288 with 1 Axes>"
            ]
          },
          "metadata": {
            "tags": [],
            "needs_background": "light"
          }
        }
      ]
    },
    {
      "cell_type": "markdown",
      "metadata": {
        "id": "dqQoef4HhDyW",
        "colab_type": "text"
      },
      "source": [
        "## As we can see from the bar plot below, test accuracies were very similar, which makes sense, because the neural networks were relatively similar. The smaller kernels with dropout, model 3, did have a clear advantage though."
      ]
    },
    {
      "cell_type": "code",
      "metadata": {
        "id": "Fp-rgmpbhIha",
        "colab_type": "code",
        "colab": {
          "base_uri": "https://localhost:8080/",
          "height": 312
        },
        "outputId": "90fc0298-3023-49b5-f045-f0276250e2ea"
      },
      "source": [
        "scores = np.array([mnist_model_2d_score[1], mnist_model_2d_2_score[1], mnist_model_2d_3_score[1], mnist_model_2d_4_score[1], mnist_model_2d_5_score[1]]) - .85\n",
        "plt.bar(range(1,6), scores, bottom=.85)\n",
        "plt.title('Accuracies of basic Neural Nets')\n",
        "plt.xlabel('Neural Net')\n",
        "plt.ylabel('Test Accuracy')"
      ],
      "execution_count": 102,
      "outputs": [
        {
          "output_type": "execute_result",
          "data": {
            "text/plain": [
              "Text(0, 0.5, 'Test Accuracy')"
            ]
          },
          "metadata": {
            "tags": []
          },
          "execution_count": 102
        },
        {
          "output_type": "display_data",
          "data": {
            "image/png": "[encoded data removed]",
            "text/plain": [
              "<Figure size 432x288 with 1 Axes>"
            ]
          },
          "metadata": {
            "tags": [],
            "needs_background": "light"
          }
        }
      ]
    },
    {
      "cell_type": "code",
      "metadata": {
        "id": "uJ6s8OSmYNEQ",
        "colab_type": "code",
        "colab": {
          "base_uri": "https://localhost:8080/",
          "height": 185
        },
        "outputId": "8745a065-08d5-459d-b2ab-47fd814746c4"
      },
      "source": [
        "predictions = mnist_model_2d_3.predict(x_test)\n",
        "confusion_matrix_1 = confusion_matrix(y_test, predictions.argmax(axis=1))\n",
        "confusion_matrix_1"
      ],
      "execution_count": 107,
      "outputs": [
        {
          "output_type": "execute_result",
          "data": {
            "text/plain": [
              "array([[855,   0,  20,  16,   4,   1, 100,   0,   4,   0],\n",
              "       [  0, 970,   0,  15,   5,   0,   7,   0,   3,   0],\n",
              "       [ 13,   0, 870,   7,  48,   0,  61,   0,   1,   0],\n",
              "       [  8,   4,   9, 914,  44,   0,  18,   0,   3,   0],\n",
              "       [  0,   0,  44,  23, 901,   0,  31,   0,   1,   0],\n",
              "       [  0,   0,   0,   0,   0, 983,   0,  11,   1,   5],\n",
              "       [ 81,   1,  37,  27,  87,   0, 759,   0,   8,   0],\n",
              "       [  0,   0,   0,   0,   0,   5,   0, 985,   0,  10],\n",
              "       [  1,   0,   6,   4,   4,   2,   8,   4, 971,   0],\n",
              "       [  0,   0,   0,   0,   0,   6,   0,  54,   1, 939]])"
            ]
          },
          "metadata": {
            "tags": []
          },
          "execution_count": 107
        }
      ]
    },
    {
      "cell_type": "markdown",
      "metadata": {
        "id": "Mn2zEM0HZkFn",
        "colab_type": "text"
      },
      "source": [
        "## Below is the confusion matrix for model 3.\n",
        "\n",
        "## The following are what each index represents\n",
        "\n",
        "### 0 T-shirt/top, 1 Trouser, 2 Pullover, 3 Dress, 4 Coat, 5 Sandal, 6 Shirt, 7 Sneaker, 8 Bag, 9 Ankle boot\n",
        "\n",
        "## It looks like the model is having the most trouble identifing shirts. Perhaps this is because shirst cover so much of the area and can have different designs. On the other hand, the model knows sandals and sneakers very well."
      ]
    },
    {
      "cell_type": "markdown",
      "metadata": {
        "id": "r1_ssXBChIxd",
        "colab_type": "text"
      },
      "source": [
        "# Part II: 1"
      ]
    },
    {
      "cell_type": "code",
      "metadata": {
        "id": "BMUQUyFgYv8Y",
        "colab_type": "code",
        "colab": {}
      },
      "source": [
        "# removing the validation data to avoid having augmented versions in the training set\n",
        "x_valid = x_train[:int(len(x_train)*.2)]\n",
        "y_valid = y_train[:int(len(y_train)*.2)]\n",
        "x_train = x_train[int(len(x_train)*.2):]\n",
        "y_train = y_train[int(len(y_train)*.2):]"
      ],
      "execution_count": 42,
      "outputs": []
    },
    {
      "cell_type": "code",
      "metadata": {
        "id": "QetVCwziYv8c",
        "colab_type": "code",
        "colab": {
          "base_uri": "https://localhost:8080/",
          "height": 34
        },
        "outputId": "b8e89a04-375c-4a84-e402-735633c058a0"
      },
      "source": [
        "x_train.shape"
      ],
      "execution_count": 43,
      "outputs": [
        {
          "output_type": "execute_result",
          "data": {
            "text/plain": [
              "(48000, 28, 28, 1)"
            ]
          },
          "metadata": {
            "tags": []
          },
          "execution_count": 43
        }
      ]
    },
    {
      "cell_type": "markdown",
      "metadata": {
        "id": "0mTZRtxGb7gf",
        "colab_type": "text"
      },
      "source": [
        "## I am adjusting the brightness up and down and flipping the image. I made sure to be symmetrical to avoid having the model only expect darker, lighter, or one direction oriented clothing."
      ]
    },
    {
      "cell_type": "code",
      "metadata": {
        "id": "9yXfKHsBYwA4",
        "colab_type": "code",
        "colab": {}
      },
      "source": [
        "x_train_aug = x_train\n",
        "y_train_aug = y_train\n",
        "future_x_data = []\n",
        "future_y_data = []\n",
        "augmenter = ImageDataGenerator()\n",
        "\n",
        "for index in range(len(x_train)):\n",
        "    future_x_data.append(augmenter.apply_transform(np.squeeze(x_train[index]), {'horizontal_vertical':True}))\n",
        "    future_y_data.append(y_train[index])\n",
        "    future_x_data.append(augmenter.apply_transform(np.squeeze(x_train[index]), {'horizontal_vertical':True, 'bringhtness':.5}))\n",
        "    future_y_data.append(y_train[index])\n",
        "    future_x_data.append(augmenter.apply_transform(np.squeeze(x_train[index]), {'horizontal_vertical':True, 'bringhtness':-.5}))\n",
        "    future_y_data.append(y_train[index])\n",
        "    future_x_data.append(augmenter.apply_transform(np.squeeze(x_train[index]), {'bringhtness':.5}))\n",
        "    future_y_data.append(y_train[index])\n",
        "    future_x_data.append(augmenter.apply_transform(np.squeeze(x_train[index]), {'bringhtness':-.5}))\n",
        "    future_y_data.append(y_train[index])\n",
        "    \n",
        "x_train_aug = np.concatenate((x_train_aug, np.expand_dims(future_x_data,3)))\n",
        "y_train_aug = np.concatenate((y_train_aug, future_y_data))\n",
        "\n",
        "x_train_aug, y_train_aug = shuffle(x_train_aug, y_train_aug, random_state=42)"
      ],
      "execution_count": 44,
      "outputs": []
    },
    {
      "cell_type": "code",
      "metadata": {
        "id": "954pNuoq6_Lr",
        "colab_type": "code",
        "colab": {
          "base_uri": "https://localhost:8080/",
          "height": 34
        },
        "outputId": "cd8e8a76-12db-465f-c899-d95953f7b8fc"
      },
      "source": [
        "x_train_aug.shape"
      ],
      "execution_count": 45,
      "outputs": [
        {
          "output_type": "execute_result",
          "data": {
            "text/plain": [
              "(288000, 28, 28, 1)"
            ]
          },
          "metadata": {
            "tags": []
          },
          "execution_count": 45
        }
      ]
    },
    {
      "cell_type": "markdown",
      "metadata": {
        "id": "PtvwQmIBciYQ",
        "colab_type": "text"
      },
      "source": [
        "# Part II: 2 & 3"
      ]
    },
    {
      "cell_type": "code",
      "metadata": {
        "id": "3kHsGiuhYv9a",
        "colab_type": "code",
        "colab": {}
      },
      "source": [
        "mnist_model_2d_3_aug_data = clone_model(mnist_model_2d_3)"
      ],
      "execution_count": 46,
      "outputs": []
    },
    {
      "cell_type": "code",
      "metadata": {
        "id": "xGoQyuL8Yv9r",
        "colab_type": "code",
        "colab": {}
      },
      "source": [
        "mnist_model_2d_3_aug_data.compile(loss='sparse_categorical_crossentropy', optimizer='adam', metrics=['accuracy', 'sparse_categorical_crossentropy'])"
      ],
      "execution_count": 47,
      "outputs": []
    },
    {
      "cell_type": "code",
      "metadata": {
        "id": "LmppegT4Yv9w",
        "colab_type": "code",
        "colab": {
          "base_uri": "https://localhost:8080/",
          "height": 373
        },
        "outputId": "2c611515-a51a-4482-b155-829a0699f571"
      },
      "source": [
        "mnist_model_2d_3_aug_data_history = mnist_model_2d_3_aug_data.fit(x_train_aug, y_train_aug, batch_size = 64, validation_data=(x_valid, y_valid), steps_per_epoch=len(x_train)/64, epochs=10, verbose=1)\n",
        "mnist_model_2d_3_aug_data.save_weights('/content/gdrive/My Drive/mnist_model_2d_3_aug_data.h5')"
      ],
      "execution_count": 50,
      "outputs": [
        {
          "output_type": "stream",
          "text": [
            "Epoch 1/10\n",
            "750/750 [==============================] - 10s 14ms/step - loss: 0.1110 - accuracy: 0.9574 - sparse_categorical_crossentropy: 0.1110 - val_loss: 0.2831 - val_accuracy: 0.9175 - val_sparse_categorical_crossentropy: 0.2831\n",
            "Epoch 2/10\n",
            "750/750 [==============================] - 10s 14ms/step - loss: 0.1043 - accuracy: 0.9615 - sparse_categorical_crossentropy: 0.1043 - val_loss: 0.2909 - val_accuracy: 0.9114 - val_sparse_categorical_crossentropy: 0.2909\n",
            "Epoch 3/10\n",
            "750/750 [==============================] - 10s 14ms/step - loss: 0.1035 - accuracy: 0.9613 - sparse_categorical_crossentropy: 0.1035 - val_loss: 0.2723 - val_accuracy: 0.9179 - val_sparse_categorical_crossentropy: 0.2723\n",
            "Epoch 4/10\n",
            "750/750 [==============================] - 10s 14ms/step - loss: 0.0886 - accuracy: 0.9668 - sparse_categorical_crossentropy: 0.0886 - val_loss: 0.3041 - val_accuracy: 0.9168 - val_sparse_categorical_crossentropy: 0.3041\n",
            "Epoch 5/10\n",
            "750/750 [==============================] - 10s 14ms/step - loss: 0.0892 - accuracy: 0.9673 - sparse_categorical_crossentropy: 0.0892 - val_loss: 0.3202 - val_accuracy: 0.9163 - val_sparse_categorical_crossentropy: 0.3202\n",
            "Epoch 6/10\n",
            "750/750 [==============================] - 10s 14ms/step - loss: 0.0811 - accuracy: 0.9701 - sparse_categorical_crossentropy: 0.0811 - val_loss: 0.3151 - val_accuracy: 0.9127 - val_sparse_categorical_crossentropy: 0.3151\n",
            "Epoch 7/10\n",
            "750/750 [==============================] - 10s 14ms/step - loss: 0.0656 - accuracy: 0.9757 - sparse_categorical_crossentropy: 0.0656 - val_loss: 0.3773 - val_accuracy: 0.9141 - val_sparse_categorical_crossentropy: 0.3773\n",
            "Epoch 8/10\n",
            "750/750 [==============================] - 10s 14ms/step - loss: 0.0720 - accuracy: 0.9730 - sparse_categorical_crossentropy: 0.0720 - val_loss: 0.3657 - val_accuracy: 0.9123 - val_sparse_categorical_crossentropy: 0.3657\n",
            "Epoch 9/10\n",
            "750/750 [==============================] - 10s 14ms/step - loss: 0.0685 - accuracy: 0.9752 - sparse_categorical_crossentropy: 0.0685 - val_loss: 0.3523 - val_accuracy: 0.9146 - val_sparse_categorical_crossentropy: 0.3523\n",
            "Epoch 10/10\n",
            "750/750 [==============================] - 10s 14ms/step - loss: 0.0647 - accuracy: 0.9758 - sparse_categorical_crossentropy: 0.0647 - val_loss: 0.3422 - val_accuracy: 0.9168 - val_sparse_categorical_crossentropy: 0.3422\n"
          ],
          "name": "stdout"
        }
      ]
    },
    {
      "cell_type": "code",
      "metadata": {
        "id": "8mfziEOYYv-D",
        "colab_type": "code",
        "colab": {
          "base_uri": "https://localhost:8080/",
          "height": 54
        },
        "outputId": "e8a174dc-72d0-47da-8536-e1cc2a02275a"
      },
      "source": [
        "mnist_model_2d_3_aug_data_score = mnist_model_2d_3_aug_data.evaluate(x_test, y_test, verbose=1)"
      ],
      "execution_count": 51,
      "outputs": [
        {
          "output_type": "stream",
          "text": [
            "313/313 [==============================] - 1s 3ms/step - loss: 0.3841 - accuracy: 0.9101 - sparse_categorical_crossentropy: 0.3841\n"
          ],
          "name": "stdout"
        }
      ]
    },
    {
      "cell_type": "markdown",
      "metadata": {
        "id": "zqgumSq_c7Gt",
        "colab_type": "text"
      },
      "source": [
        "For this example, I retrained model 3, the previous best model on the augmented dataset. Surprisingly enough, the accuracy hardly changed. The training and testing values were fairly separate throughout the training, as can be seen below, but testing accuracy never really improved."
      ]
    },
    {
      "cell_type": "code",
      "metadata": {
        "colab_type": "code",
        "id": "H0i6p5cdrcEj",
        "colab": {
          "base_uri": "https://localhost:8080/",
          "height": 312
        },
        "outputId": "4ee88a99-c13d-461d-b9e7-890229094ddb"
      },
      "source": [
        "plt.plot(mnist_model_2d_3_aug_data_history.history['accuracy'])\n",
        "plt.plot(mnist_model_2d_3_aug_data_history.history['val_accuracy'])\n",
        "plt.title('Accuracy Per Epoch')\n",
        "plt.xlabel('Epoch')\n",
        "plt.ylabel('Accuracy')\n",
        "plt.legend(['train', 'validation'])"
      ],
      "execution_count": 52,
      "outputs": [
        {
          "output_type": "execute_result",
          "data": {
            "text/plain": [
              "<matplotlib.legend.Legend at 0x7fc205c41dd8>"
            ]
          },
          "metadata": {
            "tags": []
          },
          "execution_count": 52
        },
        {
          "output_type": "display_data",
          "data": {
            "image/png": "[encoded data removed]",
            "text/plain": [
              "<Figure size 432x288 with 1 Axes>"
            ]
          },
          "metadata": {
            "tags": [],
            "needs_background": "light"
          }
        }
      ]
    },
    {
      "cell_type": "code",
      "metadata": {
        "colab_type": "code",
        "id": "BUhiCh3jta_1",
        "colab": {
          "base_uri": "https://localhost:8080/",
          "height": 312
        },
        "outputId": "0d5581e5-c445-4d61-c814-8b7f8040419b"
      },
      "source": [
        "plt.plot(mnist_model_2d_3_aug_data_history.history['loss'])\n",
        "plt.plot(mnist_model_2d_3_aug_data_history.history['val_loss'])\n",
        "plt.title('Loss Per Epoch')\n",
        "plt.xlabel('Epoch')\n",
        "plt.ylabel('Loss')\n",
        "plt.legend(['train', 'validation'])"
      ],
      "execution_count": 53,
      "outputs": [
        {
          "output_type": "execute_result",
          "data": {
            "text/plain": [
              "<matplotlib.legend.Legend at 0x7fc205b38278>"
            ]
          },
          "metadata": {
            "tags": []
          },
          "execution_count": 53
        },
        {
          "output_type": "display_data",
          "data": {
            "image/png": "[encoded data removed]",
            "text/plain": [
              "<Figure size 432x288 with 1 Axes>"
            ]
          },
          "metadata": {
            "tags": [],
            "needs_background": "light"
          }
        }
      ]
    },
    {
      "cell_type": "code",
      "metadata": {
        "id": "P1R6jTYbYv-K",
        "colab_type": "code",
        "colab": {}
      },
      "source": [
        "mnist_model_2d_5_aug_data = clone_model(mnist_model_2d_5)"
      ],
      "execution_count": 54,
      "outputs": []
    },
    {
      "cell_type": "code",
      "metadata": {
        "id": "xAqYGI8NYv-T",
        "colab_type": "code",
        "colab": {}
      },
      "source": [
        "mnist_model_2d_5_aug_data.compile(loss='sparse_categorical_crossentropy', optimizer='adam', metrics=['accuracy', 'sparse_categorical_crossentropy'])"
      ],
      "execution_count": 55,
      "outputs": []
    },
    {
      "cell_type": "code",
      "metadata": {
        "id": "Ur3gij1aYv-a",
        "colab_type": "code",
        "colab": {
          "base_uri": "https://localhost:8080/",
          "height": 373
        },
        "outputId": "3ec77424-6ea9-40ff-dac6-164ffe41c1d8"
      },
      "source": [
        "mnist_model_2d_5_aug_data_history = mnist_model_2d_5_aug_data.fit(x_train_aug, y_train_aug, batch_size = 64, validation_data=(x_valid, y_valid), steps_per_epoch=len(x_train)/64, epochs=10, verbose=1)\n",
        "mnist_model_2d_5_aug_data.save_weights('/content/gdrive/My Drive/mnist_model_2d_5_aug_data.h5')"
      ],
      "execution_count": 56,
      "outputs": [
        {
          "output_type": "stream",
          "text": [
            "Epoch 1/10\n",
            "750/750 [==============================] - 8s 10ms/step - loss: 0.5812 - accuracy: 0.7840 - sparse_categorical_crossentropy: 0.5812 - val_loss: 0.3670 - val_accuracy: 0.8663 - val_sparse_categorical_crossentropy: 0.3670\n",
            "Epoch 2/10\n",
            "750/750 [==============================] - 8s 10ms/step - loss: 0.3556 - accuracy: 0.8677 - sparse_categorical_crossentropy: 0.3556 - val_loss: 0.3214 - val_accuracy: 0.8810 - val_sparse_categorical_crossentropy: 0.3214\n",
            "Epoch 3/10\n",
            "750/750 [==============================] - 8s 10ms/step - loss: 0.3104 - accuracy: 0.8848 - sparse_categorical_crossentropy: 0.3104 - val_loss: 0.2839 - val_accuracy: 0.8924 - val_sparse_categorical_crossentropy: 0.2839\n",
            "Epoch 4/10\n",
            "750/750 [==============================] - 8s 10ms/step - loss: 0.2844 - accuracy: 0.8945 - sparse_categorical_crossentropy: 0.2844 - val_loss: 0.2699 - val_accuracy: 0.9014 - val_sparse_categorical_crossentropy: 0.2699\n",
            "Epoch 5/10\n",
            "750/750 [==============================] - 8s 10ms/step - loss: 0.2620 - accuracy: 0.9016 - sparse_categorical_crossentropy: 0.2620 - val_loss: 0.2777 - val_accuracy: 0.8958 - val_sparse_categorical_crossentropy: 0.2777\n",
            "Epoch 6/10\n",
            "750/750 [==============================] - 8s 10ms/step - loss: 0.2509 - accuracy: 0.9062 - sparse_categorical_crossentropy: 0.2509 - val_loss: 0.2708 - val_accuracy: 0.8980 - val_sparse_categorical_crossentropy: 0.2708\n",
            "Epoch 7/10\n",
            "750/750 [==============================] - 8s 10ms/step - loss: 0.2344 - accuracy: 0.9125 - sparse_categorical_crossentropy: 0.2344 - val_loss: 0.2423 - val_accuracy: 0.9113 - val_sparse_categorical_crossentropy: 0.2423\n",
            "Epoch 8/10\n",
            "750/750 [==============================] - 8s 10ms/step - loss: 0.2269 - accuracy: 0.9149 - sparse_categorical_crossentropy: 0.2269 - val_loss: 0.2644 - val_accuracy: 0.9038 - val_sparse_categorical_crossentropy: 0.2644\n",
            "Epoch 9/10\n",
            "750/750 [==============================] - 8s 10ms/step - loss: 0.2131 - accuracy: 0.9196 - sparse_categorical_crossentropy: 0.2131 - val_loss: 0.2458 - val_accuracy: 0.9137 - val_sparse_categorical_crossentropy: 0.2458\n",
            "Epoch 10/10\n",
            "750/750 [==============================] - 8s 10ms/step - loss: 0.2071 - accuracy: 0.9214 - sparse_categorical_crossentropy: 0.2071 - val_loss: 0.2436 - val_accuracy: 0.9133 - val_sparse_categorical_crossentropy: 0.2436\n"
          ],
          "name": "stdout"
        }
      ]
    },
    {
      "cell_type": "code",
      "metadata": {
        "id": "O7g8Qq8WYv-e",
        "colab_type": "code",
        "colab": {
          "base_uri": "https://localhost:8080/",
          "height": 34
        },
        "outputId": "4657f89a-e897-44a8-97a6-663f076d97bd"
      },
      "source": [
        "mnist_model_2d_5_aug_data_score = mnist_model_2d_5_aug_data.evaluate(x_test, y_test, verbose=1)"
      ],
      "execution_count": 57,
      "outputs": [
        {
          "output_type": "stream",
          "text": [
            "313/313 [==============================] - 1s 3ms/step - loss: 0.2717 - accuracy: 0.9041 - sparse_categorical_crossentropy: 0.2717\n"
          ],
          "name": "stdout"
        }
      ]
    },
    {
      "cell_type": "markdown",
      "metadata": {
        "id": "8AZwQjNudzu8",
        "colab_type": "text"
      },
      "source": [
        "## I tried using model 5 from the previous part, but again, there is no significant improvement. The plots also look unimpressive."
      ]
    },
    {
      "cell_type": "code",
      "metadata": {
        "colab_type": "code",
        "id": "exfaBQUzrdbL",
        "colab": {
          "base_uri": "https://localhost:8080/",
          "height": 312
        },
        "outputId": "3df4a3d5-619a-4e0c-d89b-d214681f3ad7"
      },
      "source": [
        "plt.plot(mnist_model_2d_5_aug_data_history.history['accuracy'])\n",
        "plt.plot(mnist_model_2d_5_aug_data_history.history['val_accuracy'])\n",
        "plt.title('Accuracy Per Epoch')\n",
        "plt.xlabel('Epoch')\n",
        "plt.ylabel('Accuracy')\n",
        "plt.legend(['train', 'validation'])"
      ],
      "execution_count": 58,
      "outputs": [
        {
          "output_type": "execute_result",
          "data": {
            "text/plain": [
              "<matplotlib.legend.Legend at 0x7fc0e822fe80>"
            ]
          },
          "metadata": {
            "tags": []
          },
          "execution_count": 58
        },
        {
          "output_type": "display_data",
          "data": {
            "image/png": "[encoded data removed]",
            "text/plain": [
              "<Figure size 432x288 with 1 Axes>"
            ]
          },
          "metadata": {
            "tags": [],
            "needs_background": "light"
          }
        }
      ]
    },
    {
      "cell_type": "code",
      "metadata": {
        "colab_type": "code",
        "id": "WKZ_agdPtc0M",
        "colab": {
          "base_uri": "https://localhost:8080/",
          "height": 312
        },
        "outputId": "2aae9b17-f879-412a-bebc-f3c10c5c1a46"
      },
      "source": [
        "plt.plot(mnist_model_2d_5_aug_data_history.history['loss'])\n",
        "plt.plot(mnist_model_2d_5_aug_data_history.history['val_loss'])\n",
        "plt.title('Loss Per Epoch')\n",
        "plt.xlabel('Epoch')\n",
        "plt.ylabel('Loss')\n",
        "plt.legend(['train', 'validation'])"
      ],
      "execution_count": 59,
      "outputs": [
        {
          "output_type": "execute_result",
          "data": {
            "text/plain": [
              "<matplotlib.legend.Legend at 0x7fc0e815ea20>"
            ]
          },
          "metadata": {
            "tags": []
          },
          "execution_count": 59
        },
        {
          "output_type": "display_data",
          "data": {
            "image/png": "[encoded data removed]",
            "text/plain": [
              "<Figure size 432x288 with 1 Axes>"
            ]
          },
          "metadata": {
            "tags": [],
            "needs_background": "light"
          }
        }
      ]
    },
    {
      "cell_type": "code",
      "metadata": {
        "id": "hg3xi3PDYv_F",
        "colab_type": "code",
        "colab": {}
      },
      "source": [
        "mnist_model_2d_2_aug_data = clone_model(mnist_model_2d_2)"
      ],
      "execution_count": 66,
      "outputs": []
    },
    {
      "cell_type": "code",
      "metadata": {
        "id": "vnZWEipFYv_J",
        "colab_type": "code",
        "colab": {}
      },
      "source": [
        "mnist_model_2d_2_aug_data.compile(loss='sparse_categorical_crossentropy', optimizer='adam', metrics=['accuracy', 'sparse_categorical_crossentropy'])"
      ],
      "execution_count": 67,
      "outputs": []
    },
    {
      "cell_type": "code",
      "metadata": {
        "id": "ZHJAw8iPYv_S",
        "colab_type": "code",
        "colab": {
          "base_uri": "https://localhost:8080/",
          "height": 373
        },
        "outputId": "19ed9d49-acf6-478c-b206-404349c2352f"
      },
      "source": [
        "mnist_model_2d_2_aug_data_history = mnist_model_2d_2_aug_data.fit(x_train_aug, y_train_aug, batch_size = 64, validation_data=(x_valid, y_valid), steps_per_epoch=len(x_train)/64, epochs=10, verbose=1)\n",
        "mnist_model_2d_2_aug_data.save_weights('/content/gdrive/My Drive/mnist_model_2d_2_aug_data_2.h5')"
      ],
      "execution_count": 68,
      "outputs": [
        {
          "output_type": "stream",
          "text": [
            "Epoch 1/10\n",
            "750/750 [==============================] - 6s 8ms/step - loss: 0.5661 - accuracy: 0.7890 - sparse_categorical_crossentropy: 0.5661 - val_loss: 0.3820 - val_accuracy: 0.8597 - val_sparse_categorical_crossentropy: 0.3820\n",
            "Epoch 2/10\n",
            "750/750 [==============================] - 6s 8ms/step - loss: 0.3541 - accuracy: 0.8677 - sparse_categorical_crossentropy: 0.3541 - val_loss: 0.3246 - val_accuracy: 0.8801 - val_sparse_categorical_crossentropy: 0.3246\n",
            "Epoch 3/10\n",
            "750/750 [==============================] - 6s 8ms/step - loss: 0.2931 - accuracy: 0.8921 - sparse_categorical_crossentropy: 0.2931 - val_loss: 0.2872 - val_accuracy: 0.8940 - val_sparse_categorical_crossentropy: 0.2872\n",
            "Epoch 4/10\n",
            "750/750 [==============================] - 6s 8ms/step - loss: 0.2625 - accuracy: 0.9036 - sparse_categorical_crossentropy: 0.2625 - val_loss: 0.2633 - val_accuracy: 0.9032 - val_sparse_categorical_crossentropy: 0.2633\n",
            "Epoch 5/10\n",
            "750/750 [==============================] - 6s 8ms/step - loss: 0.2338 - accuracy: 0.9137 - sparse_categorical_crossentropy: 0.2338 - val_loss: 0.2683 - val_accuracy: 0.8995 - val_sparse_categorical_crossentropy: 0.2683\n",
            "Epoch 6/10\n",
            "750/750 [==============================] - 6s 8ms/step - loss: 0.2135 - accuracy: 0.9207 - sparse_categorical_crossentropy: 0.2135 - val_loss: 0.2808 - val_accuracy: 0.8999 - val_sparse_categorical_crossentropy: 0.2808\n",
            "Epoch 7/10\n",
            "750/750 [==============================] - 6s 8ms/step - loss: 0.1909 - accuracy: 0.9286 - sparse_categorical_crossentropy: 0.1909 - val_loss: 0.2610 - val_accuracy: 0.9094 - val_sparse_categorical_crossentropy: 0.2610\n",
            "Epoch 8/10\n",
            "750/750 [==============================] - 6s 8ms/step - loss: 0.1762 - accuracy: 0.9355 - sparse_categorical_crossentropy: 0.1762 - val_loss: 0.2653 - val_accuracy: 0.9093 - val_sparse_categorical_crossentropy: 0.2653\n",
            "Epoch 9/10\n",
            "750/750 [==============================] - 6s 8ms/step - loss: 0.1566 - accuracy: 0.9416 - sparse_categorical_crossentropy: 0.1566 - val_loss: 0.2614 - val_accuracy: 0.9094 - val_sparse_categorical_crossentropy: 0.2614\n",
            "Epoch 10/10\n",
            "750/750 [==============================] - 6s 8ms/step - loss: 0.1451 - accuracy: 0.9460 - sparse_categorical_crossentropy: 0.1451 - val_loss: 0.2916 - val_accuracy: 0.9085 - val_sparse_categorical_crossentropy: 0.2916\n"
          ],
          "name": "stdout"
        }
      ]
    },
    {
      "cell_type": "code",
      "metadata": {
        "id": "mTTf0EziYv_j",
        "colab_type": "code",
        "colab": {
          "base_uri": "https://localhost:8080/",
          "height": 34
        },
        "outputId": "1d2e57b6-1c3c-4369-dfa9-a4f33f593a39"
      },
      "source": [
        "mnist_model_2d_2_aug_data_score = mnist_model_2d_2_aug_data.evaluate(x_test, y_test, verbose=1)"
      ],
      "execution_count": 69,
      "outputs": [
        {
          "output_type": "stream",
          "text": [
            "313/313 [==============================] - 1s 3ms/step - loss: 0.3328 - accuracy: 0.9045 - sparse_categorical_crossentropy: 0.3328\n"
          ],
          "name": "stdout"
        }
      ]
    },
    {
      "cell_type": "markdown",
      "metadata": {
        "id": "i_FwYVGDfK9W",
        "colab_type": "text"
      },
      "source": [
        "## This is just a retrained clone of the senond model from part 1. Again I am met with unsatisfactory results. By now, it is abundantly clear that a new approach is needed."
      ]
    },
    {
      "cell_type": "code",
      "metadata": {
        "colab_type": "code",
        "id": "TDiStMO8rgxI",
        "colab": {
          "base_uri": "https://localhost:8080/",
          "height": 312
        },
        "outputId": "004671ad-9bc6-4f26-a5f5-73c991482824"
      },
      "source": [
        "plt.plot(mnist_model_2d_2_aug_data_history.history['accuracy'])\n",
        "plt.plot(mnist_model_2d_2_aug_data_history.history['val_accuracy'])\n",
        "plt.title('Accuracy Per Epoch')\n",
        "plt.xlabel('Epoch')\n",
        "plt.ylabel('Accuracy')\n",
        "plt.legend(['train', 'validation'])"
      ],
      "execution_count": 70,
      "outputs": [
        {
          "output_type": "execute_result",
          "data": {
            "text/plain": [
              "<matplotlib.legend.Legend at 0x7fc0aeb7b9e8>"
            ]
          },
          "metadata": {
            "tags": []
          },
          "execution_count": 70
        },
        {
          "output_type": "display_data",
          "data": {
            "image/png": "[encoded data removed]",
            "text/plain": [
              "<Figure size 432x288 with 1 Axes>"
            ]
          },
          "metadata": {
            "tags": [],
            "needs_background": "light"
          }
        }
      ]
    },
    {
      "cell_type": "code",
      "metadata": {
        "colab_type": "code",
        "id": "2qECf6cKtxHR",
        "colab": {
          "base_uri": "https://localhost:8080/",
          "height": 312
        },
        "outputId": "b47f7d2a-7a67-4812-e827-c09e68a5523c"
      },
      "source": [
        "plt.plot(mnist_model_2d_2_aug_data_history.history['loss'])\n",
        "plt.plot(mnist_model_2d_2_aug_data_history.history['val_loss'])\n",
        "plt.title('Loss Per Epoch')\n",
        "plt.xlabel('Epoch')\n",
        "plt.ylabel('Loss')\n",
        "plt.legend(['train', 'validation'])"
      ],
      "execution_count": 71,
      "outputs": [
        {
          "output_type": "execute_result",
          "data": {
            "text/plain": [
              "<matplotlib.legend.Legend at 0x7fc0adb00630>"
            ]
          },
          "metadata": {
            "tags": []
          },
          "execution_count": 71
        },
        {
          "output_type": "display_data",
          "data": {
            "image/png": "[encoded data removed]",
            "text/plain": [
              "<Figure size 432x288 with 1 Axes>"
            ]
          },
          "metadata": {
            "tags": [],
            "needs_background": "light"
          }
        }
      ]
    },
    {
      "cell_type": "markdown",
      "metadata": {
        "id": "6U84djDqkVpI",
        "colab_type": "text"
      },
      "source": [
        "## For the sake of comparison, here are the test accuracies of 3 models from Part I retrained on the augmented dataset. As you can see below, there is little change, perhaps because these models are too simple to learn the nuances of the dataset."
      ]
    },
    {
      "cell_type": "code",
      "metadata": {
        "id": "hj1oIbcJONZO",
        "colab_type": "code",
        "colab": {
          "base_uri": "https://localhost:8080/",
          "height": 298
        },
        "outputId": "addfa217-9c27-4057-b0e4-ec52472b6815"
      },
      "source": [
        "scores = np.array([mnist_model_2d_2_score[1], mnist_model_2d_2_aug_data_score[1], mnist_model_2d_3_score[1], mnist_model_2d_3_aug_data_score[1], mnist_model_2d_5_score[1], mnist_model_2d_5_aug_data_score[1]]) - .85\n",
        "plt.bar(['2', '2 augmented', '3', '3 augmented', '5', '5 augmented'], scores, bottom=.85)\n",
        "plt.title('The effect of a larger dataset on simple models')\n",
        "plt.ylabel('Accuracy')"
      ],
      "execution_count": 110,
      "outputs": [
        {
          "output_type": "execute_result",
          "data": {
            "text/plain": [
              "Text(0, 0.5, 'Accuracy')"
            ]
          },
          "metadata": {
            "tags": []
          },
          "execution_count": 110
        },
        {
          "output_type": "display_data",
          "data": {
            "image/png": "[encoded data removed]",
            "text/plain": [
              "<Figure size 432x288 with 1 Axes>"
            ]
          },
          "metadata": {
            "tags": [],
            "needs_background": "light"
          }
        }
      ]
    },
    {
      "cell_type": "code",
      "metadata": {
        "id": "ZvzS0U8yYv-i",
        "colab_type": "code",
        "colab": {
          "base_uri": "https://localhost:8080/",
          "height": 756
        },
        "outputId": "7b838eca-1723-44df-89aa-ea5f8e154c65"
      },
      "source": [
        "mnist_part2_1 = Sequential()\n",
        "mnist_part2_1.add(layers.Conv2D(kernel_size=2, filters=64, activation='relu', input_shape=(28,28,1)))\n",
        "mnist_part2_1.add(layers.BatchNormalization())\n",
        "mnist_part2_1.add(layers.Dropout(0.3))\n",
        "mnist_part2_1.add(layers.Conv2D(kernel_size=3, filters=128, activation='relu'))\n",
        "mnist_part2_1.add(layers.BatchNormalization())\n",
        "mnist_part2_1.add(layers.Dropout(0.3))\n",
        "mnist_part2_1.add(layers.Conv2D(kernel_size=3, filters=128, activation='relu'))\n",
        "mnist_part2_1.add(layers.BatchNormalization())\n",
        "mnist_part2_1.add(layers.Dropout(0.3))\n",
        "mnist_part2_1.add(layers.Conv2D(kernel_size=7, filters=64, activation='relu'))\n",
        "mnist_part2_1.add(layers.BatchNormalization())\n",
        "mnist_part2_1.add(layers.Dropout(0.3))\n",
        "mnist_part2_1.add(layers.Conv2D(kernel_size=7, filters=64, activation='relu'))\n",
        "mnist_part2_1.add(layers.BatchNormalization())\n",
        "mnist_part2_1.add(layers.Dropout(0.3))\n",
        "mnist_part2_1.add(layers.Flatten())\n",
        "mnist_part2_1.add(layers.Dense(256, activation='relu'))\n",
        "mnist_part2_1.add(layers.Dense(10, activation='softmax'))\n",
        "mnist_part2_1.summary()"
      ],
      "execution_count": 60,
      "outputs": [
        {
          "output_type": "stream",
          "text": [
            "Model: \"sequential_5\"\n",
            "_________________________________________________________________\n",
            "Layer (type)                 Output Shape              Param #   \n",
            "=================================================================\n",
            "conv2d_24 (Conv2D)           (None, 27, 27, 64)        320       \n",
            "_________________________________________________________________\n",
            "batch_normalization (BatchNo (None, 27, 27, 64)        256       \n",
            "_________________________________________________________________\n",
            "dropout_14 (Dropout)         (None, 27, 27, 64)        0         \n",
            "_________________________________________________________________\n",
            "conv2d_25 (Conv2D)           (None, 25, 25, 128)       73856     \n",
            "_________________________________________________________________\n",
            "batch_normalization_1 (Batch (None, 25, 25, 128)       512       \n",
            "_________________________________________________________________\n",
            "dropout_15 (Dropout)         (None, 25, 25, 128)       0         \n",
            "_________________________________________________________________\n",
            "conv2d_26 (Conv2D)           (None, 23, 23, 128)       147584    \n",
            "_________________________________________________________________\n",
            "batch_normalization_2 (Batch (None, 23, 23, 128)       512       \n",
            "_________________________________________________________________\n",
            "dropout_16 (Dropout)         (None, 23, 23, 128)       0         \n",
            "_________________________________________________________________\n",
            "conv2d_27 (Conv2D)           (None, 17, 17, 64)        401472    \n",
            "_________________________________________________________________\n",
            "batch_normalization_3 (Batch (None, 17, 17, 64)        256       \n",
            "_________________________________________________________________\n",
            "dropout_17 (Dropout)         (None, 17, 17, 64)        0         \n",
            "_________________________________________________________________\n",
            "conv2d_28 (Conv2D)           (None, 11, 11, 64)        200768    \n",
            "_________________________________________________________________\n",
            "batch_normalization_4 (Batch (None, 11, 11, 64)        256       \n",
            "_________________________________________________________________\n",
            "dropout_18 (Dropout)         (None, 11, 11, 64)        0         \n",
            "_________________________________________________________________\n",
            "flatten_5 (Flatten)          (None, 7744)              0         \n",
            "_________________________________________________________________\n",
            "dense_10 (Dense)             (None, 256)               1982720   \n",
            "_________________________________________________________________\n",
            "dense_11 (Dense)             (None, 10)                2570      \n",
            "=================================================================\n",
            "Total params: 2,811,082\n",
            "Trainable params: 2,810,186\n",
            "Non-trainable params: 896\n",
            "_________________________________________________________________\n"
          ],
          "name": "stdout"
        }
      ]
    },
    {
      "cell_type": "code",
      "metadata": {
        "id": "BYpJVDtiYv-o",
        "colab_type": "code",
        "colab": {}
      },
      "source": [
        "mnist_part2_1.compile(loss='sparse_categorical_crossentropy', optimizer='adam', metrics=['accuracy', 'sparse_categorical_crossentropy'])"
      ],
      "execution_count": 61,
      "outputs": []
    },
    {
      "cell_type": "code",
      "metadata": {
        "id": "TqcAy9oDYv-t",
        "colab_type": "code",
        "colab": {
          "base_uri": "https://localhost:8080/",
          "height": 709
        },
        "outputId": "9fe66387-421f-4cad-f053-033ea06661bc"
      },
      "source": [
        "mnist_part2_1_history = mnist_part2_1.fit(x_train_aug, y_train_aug, batch_size = 64, validation_data=(x_valid, y_valid), steps_per_epoch=len(x_train)/64, epochs=20, verbose=1)\n",
        "mnist_part2_1.save_weights('/content/gdrive/My Drive/mnist_part2_1.h5')"
      ],
      "execution_count": 62,
      "outputs": [
        {
          "output_type": "stream",
          "text": [
            "Epoch 1/20\n",
            "750/750 [==============================] - 21s 29ms/step - loss: 0.5412 - accuracy: 0.8098 - sparse_categorical_crossentropy: 0.5412 - val_loss: 0.4462 - val_accuracy: 0.8424 - val_sparse_categorical_crossentropy: 0.4462\n",
            "Epoch 2/20\n",
            "750/750 [==============================] - 21s 29ms/step - loss: 0.3122 - accuracy: 0.8863 - sparse_categorical_crossentropy: 0.3122 - val_loss: 0.3216 - val_accuracy: 0.8852 - val_sparse_categorical_crossentropy: 0.3216\n",
            "Epoch 3/20\n",
            "750/750 [==============================] - 21s 28ms/step - loss: 0.2724 - accuracy: 0.9022 - sparse_categorical_crossentropy: 0.2724 - val_loss: 0.2840 - val_accuracy: 0.8997 - val_sparse_categorical_crossentropy: 0.2840\n",
            "Epoch 4/20\n",
            "750/750 [==============================] - 21s 28ms/step - loss: 0.2370 - accuracy: 0.9142 - sparse_categorical_crossentropy: 0.2370 - val_loss: 0.2552 - val_accuracy: 0.9092 - val_sparse_categorical_crossentropy: 0.2552\n",
            "Epoch 5/20\n",
            "750/750 [==============================] - 21s 28ms/step - loss: 0.2205 - accuracy: 0.9193 - sparse_categorical_crossentropy: 0.2205 - val_loss: 0.2313 - val_accuracy: 0.9157 - val_sparse_categorical_crossentropy: 0.2313\n",
            "Epoch 6/20\n",
            "750/750 [==============================] - 21s 28ms/step - loss: 0.1995 - accuracy: 0.9282 - sparse_categorical_crossentropy: 0.1995 - val_loss: 0.2441 - val_accuracy: 0.9126 - val_sparse_categorical_crossentropy: 0.2441\n",
            "Epoch 7/20\n",
            "750/750 [==============================] - 21s 28ms/step - loss: 0.1789 - accuracy: 0.9359 - sparse_categorical_crossentropy: 0.1789 - val_loss: 0.2699 - val_accuracy: 0.9111 - val_sparse_categorical_crossentropy: 0.2699\n",
            "Epoch 8/20\n",
            "750/750 [==============================] - 21s 28ms/step - loss: 0.1627 - accuracy: 0.9400 - sparse_categorical_crossentropy: 0.1627 - val_loss: 0.2533 - val_accuracy: 0.9199 - val_sparse_categorical_crossentropy: 0.2533\n",
            "Epoch 9/20\n",
            "750/750 [==============================] - 21s 28ms/step - loss: 0.1518 - accuracy: 0.9450 - sparse_categorical_crossentropy: 0.1518 - val_loss: 0.2539 - val_accuracy: 0.9217 - val_sparse_categorical_crossentropy: 0.2539\n",
            "Epoch 10/20\n",
            "750/750 [==============================] - 21s 28ms/step - loss: 0.1341 - accuracy: 0.9508 - sparse_categorical_crossentropy: 0.1341 - val_loss: 0.2479 - val_accuracy: 0.9172 - val_sparse_categorical_crossentropy: 0.2479\n",
            "Epoch 11/20\n",
            "750/750 [==============================] - 21s 28ms/step - loss: 0.1231 - accuracy: 0.9543 - sparse_categorical_crossentropy: 0.1231 - val_loss: 0.2611 - val_accuracy: 0.9240 - val_sparse_categorical_crossentropy: 0.2611\n",
            "Epoch 12/20\n",
            "750/750 [==============================] - 21s 28ms/step - loss: 0.1122 - accuracy: 0.9579 - sparse_categorical_crossentropy: 0.1122 - val_loss: 0.2990 - val_accuracy: 0.9192 - val_sparse_categorical_crossentropy: 0.2990\n",
            "Epoch 13/20\n",
            "750/750 [==============================] - 21s 28ms/step - loss: 0.0990 - accuracy: 0.9639 - sparse_categorical_crossentropy: 0.0990 - val_loss: 0.2779 - val_accuracy: 0.9193 - val_sparse_categorical_crossentropy: 0.2779\n",
            "Epoch 14/20\n",
            "750/750 [==============================] - 21s 28ms/step - loss: 0.0947 - accuracy: 0.9658 - sparse_categorical_crossentropy: 0.0947 - val_loss: 0.3087 - val_accuracy: 0.9240 - val_sparse_categorical_crossentropy: 0.3087\n",
            "Epoch 15/20\n",
            "750/750 [==============================] - 21s 28ms/step - loss: 0.0911 - accuracy: 0.9676 - sparse_categorical_crossentropy: 0.0911 - val_loss: 0.2803 - val_accuracy: 0.9252 - val_sparse_categorical_crossentropy: 0.2803\n",
            "Epoch 16/20\n",
            "750/750 [==============================] - 21s 28ms/step - loss: 0.0796 - accuracy: 0.9717 - sparse_categorical_crossentropy: 0.0796 - val_loss: 0.3055 - val_accuracy: 0.9203 - val_sparse_categorical_crossentropy: 0.3055\n",
            "Epoch 17/20\n",
            "750/750 [==============================] - 21s 28ms/step - loss: 0.0722 - accuracy: 0.9735 - sparse_categorical_crossentropy: 0.0722 - val_loss: 0.3099 - val_accuracy: 0.9233 - val_sparse_categorical_crossentropy: 0.3099\n",
            "Epoch 18/20\n",
            "750/750 [==============================] - 21s 28ms/step - loss: 0.0735 - accuracy: 0.9740 - sparse_categorical_crossentropy: 0.0735 - val_loss: 0.3018 - val_accuracy: 0.9264 - val_sparse_categorical_crossentropy: 0.3018\n",
            "Epoch 19/20\n",
            "750/750 [==============================] - 21s 28ms/step - loss: 0.0583 - accuracy: 0.9793 - sparse_categorical_crossentropy: 0.0583 - val_loss: 0.3262 - val_accuracy: 0.9251 - val_sparse_categorical_crossentropy: 0.3262\n",
            "Epoch 20/20\n",
            "750/750 [==============================] - 21s 28ms/step - loss: 0.0566 - accuracy: 0.9794 - sparse_categorical_crossentropy: 0.0566 - val_loss: 0.3413 - val_accuracy: 0.9266 - val_sparse_categorical_crossentropy: 0.3413\n"
          ],
          "name": "stdout"
        }
      ]
    },
    {
      "cell_type": "code",
      "metadata": {
        "id": "-9oTEjyFf_6M",
        "colab_type": "code",
        "colab": {}
      },
      "source": [
        "mnist_part2_1.save_weights('/content/gdrive/My Drive/mnist_part2_1.h5')"
      ],
      "execution_count": 108,
      "outputs": []
    },
    {
      "cell_type": "code",
      "metadata": {
        "id": "y0JhmpEhYv-x",
        "colab_type": "code",
        "colab": {
          "base_uri": "https://localhost:8080/",
          "height": 34
        },
        "outputId": "dcb6790e-ee84-4ab9-9012-8ae0dcd0e6bc"
      },
      "source": [
        "mnist_part2_1_score = mnist_part2_1.evaluate(x_test, y_test, verbose=1)"
      ],
      "execution_count": 63,
      "outputs": [
        {
          "output_type": "stream",
          "text": [
            "313/313 [==============================] - 2s 5ms/step - loss: 0.3738 - accuracy: 0.9202 - sparse_categorical_crossentropy: 0.3738\n"
          ],
          "name": "stdout"
        }
      ]
    },
    {
      "cell_type": "markdown",
      "metadata": {
        "id": "5baCOK7QgZ43",
        "colab_type": "text"
      },
      "source": [
        "## I have successfully beat the 0.92 testing accuracy threshold...by 0.0002. It is worth noting that the plotted accuracies and losses below look much more familiar and clearly reflect learning. It's also worth noting that the training values and the validation values are very similar for the first 3 epochs. This suggests that the augmented data matches the original dataset quite well."
      ]
    },
    {
      "cell_type": "code",
      "metadata": {
        "colab_type": "code",
        "id": "8kNnYMbvrfje",
        "colab": {
          "base_uri": "https://localhost:8080/",
          "height": 312
        },
        "outputId": "d3407321-72fe-46b3-f106-a67b4ea859c8"
      },
      "source": [
        "plt.plot(mnist_part2_1_history.history['accuracy'])\n",
        "plt.plot(mnist_part2_1_history.history['val_accuracy'])\n",
        "plt.title('Accuracy Per Epoch')\n",
        "plt.xlabel('Epoch')\n",
        "plt.ylabel('Accuracy')\n",
        "plt.legend(['train', 'validation'])"
      ],
      "execution_count": 64,
      "outputs": [
        {
          "output_type": "execute_result",
          "data": {
            "text/plain": [
              "<matplotlib.legend.Legend at 0x7fc0e7ca6080>"
            ]
          },
          "metadata": {
            "tags": []
          },
          "execution_count": 64
        },
        {
          "output_type": "display_data",
          "data": {
            "image/png": "[encoded data removed]",
            "text/plain": [
              "<Figure size 432x288 with 1 Axes>"
            ]
          },
          "metadata": {
            "tags": [],
            "needs_background": "light"
          }
        }
      ]
    },
    {
      "cell_type": "code",
      "metadata": {
        "colab_type": "code",
        "id": "ePBaAf4JtnTY",
        "colab": {
          "base_uri": "https://localhost:8080/",
          "height": 312
        },
        "outputId": "ec06b6ac-f765-4a36-f76d-a0d9f1c2138f"
      },
      "source": [
        "plt.plot(mnist_part2_1_history.history['loss'])\n",
        "plt.plot(mnist_part2_1_history.history['val_loss'])\n",
        "plt.title('Loss Per Epoch')\n",
        "plt.xlabel('Epoch')\n",
        "plt.ylabel('Loss')\n",
        "plt.legend(['train', 'validation'])"
      ],
      "execution_count": 65,
      "outputs": [
        {
          "output_type": "execute_result",
          "data": {
            "text/plain": [
              "<matplotlib.legend.Legend at 0x7fc0e7c0e4e0>"
            ]
          },
          "metadata": {
            "tags": []
          },
          "execution_count": 65
        },
        {
          "output_type": "display_data",
          "data": {
            "image/png": "[encoded data removed]",
            "text/plain": [
              "<Figure size 432x288 with 1 Axes>"
            ]
          },
          "metadata": {
            "tags": [],
            "needs_background": "light"
          }
        }
      ]
    },
    {
      "cell_type": "code",
      "metadata": {
        "colab_type": "code",
        "id": "dnVnuOX1l0AQ",
        "colab": {
          "base_uri": "https://localhost:8080/",
          "height": 185
        },
        "outputId": "d39b6064-db28-4407-a8af-2b547d74c057"
      },
      "source": [
        "predictions = mnist_part2_1.predict(x_test)\n",
        "confusion_matrix_2 = confusion_matrix(y_test, predictions.argmax(axis=1))\n",
        "confusion_matrix_2"
      ],
      "execution_count": 111,
      "outputs": [
        {
          "output_type": "execute_result",
          "data": {
            "text/plain": [
              "array([[883,   0,  20,  14,   3,   1,  71,   0,   8,   0],\n",
              "       [  1, 976,   1,  12,   2,   1,   6,   0,   1,   0],\n",
              "       [ 19,   2, 890,   6,  33,   0,  48,   0,   2,   0],\n",
              "       [ 14,   6,  10, 925,  21,   0,  20,   0,   4,   0],\n",
              "       [  1,   0,  34,  22, 885,   0,  57,   0,   1,   0],\n",
              "       [  0,   0,   0,   0,   0, 989,   0,   5,   0,   6],\n",
              "       [111,   4,  50,  25,  57,   0, 742,   0,  11,   0],\n",
              "       [  0,   0,   0,   0,   0,   9,   0, 966,   1,  24],\n",
              "       [  2,   2,   5,   1,   1,   2,   7,   1, 979,   0],\n",
              "       [  0,   0,   0,   0,   0,   7,   0,  26,   0, 967]])"
            ]
          },
          "metadata": {
            "tags": []
          },
          "execution_count": 111
        }
      ]
    },
    {
      "cell_type": "markdown",
      "metadata": {
        "id": "7IfV9U_tmD3r",
        "colab_type": "text"
      },
      "source": [
        "## As can be seen in the confusion matrix above, shirts continue to pose a problem for the models. None the less, the model picks up the slack in other categories resulting in an impressive accuracy. It would be interesting to see how an ensemble of models could solve this problem."
      ]
    },
    {
      "cell_type": "code",
      "metadata": {
        "id": "sZ48YXy0YwB3",
        "colab_type": "code",
        "colab": {}
      },
      "source": [
        "stopper = EarlyStopping(monitor='val_accuracy', patience=3)"
      ],
      "execution_count": 74,
      "outputs": []
    },
    {
      "cell_type": "code",
      "metadata": {
        "id": "9EdMocg4YwCE",
        "colab_type": "code",
        "colab": {
          "base_uri": "https://localhost:8080/",
          "height": 588
        },
        "outputId": "65189a68-b887-4888-e6eb-66d3e2b16a20"
      },
      "source": [
        "mnist_part2_2 = Sequential()\n",
        "mnist_part2_2.add(layers.Conv2D(kernel_size=2, filters=128, activation='relu', input_shape=(28,28,1)))\n",
        "mnist_part2_2.add(layers.BatchNormalization())\n",
        "mnist_part2_2.add(layers.Conv2D(kernel_size=3, filters=128, activation='relu'))\n",
        "mnist_part2_2.add(layers.BatchNormalization())\n",
        "mnist_part2_2.add(layers.Conv2D(kernel_size=3, filters=128, activation='relu'))\n",
        "mnist_part2_2.add(layers.BatchNormalization())\n",
        "mnist_part2_2.add(layers.Conv2D(kernel_size=3, filters=256, activation='relu'))\n",
        "mnist_part2_2.add(layers.BatchNormalization())\n",
        "mnist_part2_2.add(layers.Conv2D(kernel_size=3, filters=256, activation='relu'))\n",
        "mnist_part2_2.add(layers.BatchNormalization())\n",
        "mnist_part2_2.add(layers.Flatten())\n",
        "mnist_part2_2.add(layers.Dense(256, activation='relu'))\n",
        "mnist_part2_2.add(layers.Dense(10, activation='softmax'))\n",
        "mnist_part2_2.summary()"
      ],
      "execution_count": 79,
      "outputs": [
        {
          "output_type": "stream",
          "text": [
            "Model: \"sequential_6\"\n",
            "_________________________________________________________________\n",
            "Layer (type)                 Output Shape              Param #   \n",
            "=================================================================\n",
            "conv2d_29 (Conv2D)           (None, 27, 27, 128)       640       \n",
            "_________________________________________________________________\n",
            "batch_normalization_5 (Batch (None, 27, 27, 128)       512       \n",
            "_________________________________________________________________\n",
            "conv2d_30 (Conv2D)           (None, 25, 25, 128)       147584    \n",
            "_________________________________________________________________\n",
            "batch_normalization_6 (Batch (None, 25, 25, 128)       512       \n",
            "_________________________________________________________________\n",
            "conv2d_31 (Conv2D)           (None, 23, 23, 128)       147584    \n",
            "_________________________________________________________________\n",
            "batch_normalization_7 (Batch (None, 23, 23, 128)       512       \n",
            "_________________________________________________________________\n",
            "conv2d_32 (Conv2D)           (None, 21, 21, 256)       295168    \n",
            "_________________________________________________________________\n",
            "batch_normalization_8 (Batch (None, 21, 21, 256)       1024      \n",
            "_________________________________________________________________\n",
            "conv2d_33 (Conv2D)           (None, 19, 19, 256)       590080    \n",
            "_________________________________________________________________\n",
            "batch_normalization_9 (Batch (None, 19, 19, 256)       1024      \n",
            "_________________________________________________________________\n",
            "flatten_6 (Flatten)          (None, 92416)             0         \n",
            "_________________________________________________________________\n",
            "dense_12 (Dense)             (None, 256)               23658752  \n",
            "_________________________________________________________________\n",
            "dense_13 (Dense)             (None, 10)                2570      \n",
            "=================================================================\n",
            "Total params: 24,845,962\n",
            "Trainable params: 24,844,170\n",
            "Non-trainable params: 1,792\n",
            "_________________________________________________________________\n"
          ],
          "name": "stdout"
        }
      ]
    },
    {
      "cell_type": "code",
      "metadata": {
        "id": "IKJpf1rHYwCX",
        "colab_type": "code",
        "colab": {}
      },
      "source": [
        "mnist_part2_2.compile(loss='sparse_categorical_crossentropy', optimizer='adam', metrics=['accuracy', 'sparse_categorical_crossentropy'])"
      ],
      "execution_count": 80,
      "outputs": []
    },
    {
      "cell_type": "code",
      "metadata": {
        "id": "d2s1ZA1XYwCf",
        "colab_type": "code",
        "colab": {}
      },
      "source": [
        "stopper = EarlyStopping(monitor='val_accuracy', patience=3)"
      ],
      "execution_count": 81,
      "outputs": []
    },
    {
      "cell_type": "markdown",
      "metadata": {
        "id": "PEEKgK2ph4gD",
        "colab_type": "text"
      },
      "source": [
        "## The doubled output is from a brief runtime disconnect"
      ]
    },
    {
      "cell_type": "code",
      "metadata": {
        "id": "qiQY-RkfYwCq",
        "colab_type": "code",
        "colab": {
          "base_uri": "https://localhost:8080/",
          "height": 1000
        },
        "outputId": "e41e75c2-3d07-40fc-c018-83a7dba84208"
      },
      "source": [
        "mnist_part2_2_history = mnist_part2_2.fit(x_train_aug, y_train_aug, batch_size = 64, validation_data=(x_valid, y_valid), steps_per_epoch=len(x_train_aug)/64, epochs=20, verbose=1)\n",
        "mnist_part2_2.save_weights('/content/gdrive/My Drive/mnist_part2_2.h5')"
      ],
      "execution_count": 82,
      "outputs": [
        {
          "output_type": "stream",
          "text": [
            "4500/4500 [==============================] - 202s 45ms/step - loss: 0.1681 - accuracy: 0.9425 - sparse_categorical_crossentropy: 0.1681 - val_loss: 0.3935 - val_accuracy: 0.8896 - val_sparse_categorical_crossentropy: 0.3935\n",
            "4500/4500 [==============================] - 202s 45ms/step - loss: 0.1681 - accuracy: 0.9425 - sparse_categorical_crossentropy: 0.1681 - val_loss: 0.3935 - val_accuracy: 0.8896 - val_sparse_categorical_crossentropy: 0.3935\n",
            "Epoch 3/20\n",
            "   1/4500 [..............................] - ETA: 0s - loss: 0.0510 - accuracy: 1.0000 - sparse_categorical_crossentropy: 0.0510Epoch 3/20\n",
            "4500/4500 [==============================] - 201s 45ms/step - loss: 0.0690 - accuracy: 0.9770 - sparse_categorical_crossentropy: 0.0690 - val_loss: 0.4185 - val_accuracy: 0.9187 - val_sparse_categorical_crossentropy: 0.4185\n",
            "4500/4500 [==============================] - 201s 45ms/step - loss: 0.0690 - accuracy: 0.9770 - sparse_categorical_crossentropy: 0.0690 - val_loss: 0.4185 - val_accuracy: 0.9187 - val_sparse_categorical_crossentropy: 0.4185\n",
            "Epoch 4/20\n",
            "   1/4500 [..............................] - ETA: 0s - loss: 0.0602 - accuracy: 0.9688 - sparse_categorical_crossentropy: 0.0602Epoch 4/20\n",
            "4500/4500 [==============================] - 200s 45ms/step - loss: 0.0376 - accuracy: 0.9876 - sparse_categorical_crossentropy: 0.0376 - val_loss: 0.4912 - val_accuracy: 0.9171 - val_sparse_categorical_crossentropy: 0.4912\n",
            "4500/4500 [==============================] - 200s 45ms/step - loss: 0.0376 - accuracy: 0.9876 - sparse_categorical_crossentropy: 0.0376 - val_loss: 0.4912 - val_accuracy: 0.9171 - val_sparse_categorical_crossentropy: 0.4912\n",
            "Epoch 5/20\n",
            "   1/4500 [..............................] - ETA: 0s - loss: 0.0754 - accuracy: 0.9844 - sparse_categorical_crossentropy: 0.0754Epoch 5/20\n",
            "4500/4500 [==============================] - 201s 45ms/step - loss: 0.0281 - accuracy: 0.9907 - sparse_categorical_crossentropy: 0.0281 - val_loss: 0.5176 - val_accuracy: 0.9169 - val_sparse_categorical_crossentropy: 0.5176\n",
            "4500/4500 [==============================] - 201s 45ms/step - loss: 0.0281 - accuracy: 0.9907 - sparse_categorical_crossentropy: 0.0281 - val_loss: 0.5176 - val_accuracy: 0.9169 - val_sparse_categorical_crossentropy: 0.5176\n",
            "Epoch 6/20\n",
            "   1/4500 [..............................] - ETA: 0s - loss: 3.2883e-04 - accuracy: 1.0000 - sparse_categorical_crossentropy: 3.2883e-04Epoch 6/20\n",
            "4500/4500 [==============================] - 200s 45ms/step - loss: 0.0215 - accuracy: 0.9931 - sparse_categorical_crossentropy: 0.0215 - val_loss: 0.5886 - val_accuracy: 0.9178 - val_sparse_categorical_crossentropy: 0.5886\n",
            "4500/4500 [==============================] - 200s 45ms/step - loss: 0.0215 - accuracy: 0.9931 - sparse_categorical_crossentropy: 0.0215 - val_loss: 0.5886 - val_accuracy: 0.9178 - val_sparse_categorical_crossentropy: 0.5886\n",
            "Epoch 7/20\n",
            "   1/4500 [..............................] - ETA: 0s - loss: 0.1179 - accuracy: 0.9844 - sparse_categorical_crossentropy: 0.1179Epoch 7/20\n",
            "4500/4500 [==============================] - 200s 44ms/step - loss: 0.0186 - accuracy: 0.9939 - sparse_categorical_crossentropy: 0.0186 - val_loss: 0.6952 - val_accuracy: 0.9189 - val_sparse_categorical_crossentropy: 0.6952\n",
            "4500/4500 [==============================] - 200s 44ms/step - loss: 0.0186 - accuracy: 0.9939 - sparse_categorical_crossentropy: 0.0186 - val_loss: 0.6952 - val_accuracy: 0.9189 - val_sparse_categorical_crossentropy: 0.6952\n",
            "Epoch 8/20\n",
            "   1/4500 [..............................] - ETA: 0s - loss: 0.0282 - accuracy: 0.9844 - sparse_categorical_crossentropy: 0.0282Epoch 8/20\n",
            "4500/4500 [==============================] - 201s 45ms/step - loss: 0.0168 - accuracy: 0.9947 - sparse_categorical_crossentropy: 0.0168 - val_loss: 0.8186 - val_accuracy: 0.9183 - val_sparse_categorical_crossentropy: 0.8186\n",
            "4500/4500 [==============================] - 201s 45ms/step - loss: 0.0168 - accuracy: 0.9947 - sparse_categorical_crossentropy: 0.0168 - val_loss: 0.8186 - val_accuracy: 0.9183 - val_sparse_categorical_crossentropy: 0.8186\n",
            "Epoch 9/20\n",
            "   1/4500 [..............................] - ETA: 0s - loss: 3.6636e-04 - accuracy: 1.0000 - sparse_categorical_crossentropy: 3.6636e-04Epoch 9/20\n",
            "4500/4500 [==============================] - 201s 45ms/step - loss: 0.0164 - accuracy: 0.9951 - sparse_categorical_crossentropy: 0.0164 - val_loss: 0.8942 - val_accuracy: 0.9115 - val_sparse_categorical_crossentropy: 0.8942\n",
            "4500/4500 [==============================] - 201s 45ms/step - loss: 0.0164 - accuracy: 0.9951 - sparse_categorical_crossentropy: 0.0164 - val_loss: 0.8942 - val_accuracy: 0.9115 - val_sparse_categorical_crossentropy: 0.8942\n",
            "Epoch 10/20\n",
            "   1/4500 [..............................] - ETA: 0s - loss: 6.9874e-04 - accuracy: 1.0000 - sparse_categorical_crossentropy: 6.9874e-04Epoch 10/20\n",
            "4500/4500 [==============================] - 201s 45ms/step - loss: 0.0135 - accuracy: 0.9956 - sparse_categorical_crossentropy: 0.0135 - val_loss: 0.7349 - val_accuracy: 0.9158 - val_sparse_categorical_crossentropy: 0.7349\n",
            "4500/4500 [==============================] - 201s 45ms/step - loss: 0.0135 - accuracy: 0.9956 - sparse_categorical_crossentropy: 0.0135 - val_loss: 0.7349 - val_accuracy: 0.9158 - val_sparse_categorical_crossentropy: 0.7349\n",
            "Epoch 11/20\n",
            "   1/4500 [..............................] - ETA: 0s - loss: 4.3912e-05 - accuracy: 1.0000 - sparse_categorical_crossentropy: 4.3912e-05Epoch 11/20\n",
            "4500/4500 [==============================] - 201s 45ms/step - loss: 0.0149 - accuracy: 0.9955 - sparse_categorical_crossentropy: 0.0149 - val_loss: 0.8533 - val_accuracy: 0.9200 - val_sparse_categorical_crossentropy: 0.8533\n",
            "4500/4500 [==============================] - 201s 45ms/step - loss: 0.0149 - accuracy: 0.9955 - sparse_categorical_crossentropy: 0.0149 - val_loss: 0.8533 - val_accuracy: 0.9200 - val_sparse_categorical_crossentropy: 0.8533\n",
            "Epoch 12/20\n",
            "   1/4500 [..............................] - ETA: 0s - loss: 0.0222 - accuracy: 0.9844 - sparse_categorical_crossentropy: 0.0222Epoch 12/20\n",
            "4500/4500 [==============================] - 200s 44ms/step - loss: 0.0131 - accuracy: 0.9960 - sparse_categorical_crossentropy: 0.0131 - val_loss: 0.8871 - val_accuracy: 0.9181 - val_sparse_categorical_crossentropy: 0.8871\n",
            "4500/4500 [==============================] - 200s 44ms/step - loss: 0.0131 - accuracy: 0.9960 - sparse_categorical_crossentropy: 0.0131 - val_loss: 0.8871 - val_accuracy: 0.9181 - val_sparse_categorical_crossentropy: 0.8871\n",
            "Epoch 13/20\n",
            "   1/4500 [..............................] - ETA: 0s - loss: 8.8270e-06 - accuracy: 1.0000 - sparse_categorical_crossentropy: 8.8270e-06Epoch 13/20\n",
            "4500/4500 [==============================] - 200s 45ms/step - loss: 0.0119 - accuracy: 0.9961 - sparse_categorical_crossentropy: 0.0119 - val_loss: 0.8946 - val_accuracy: 0.9147 - val_sparse_categorical_crossentropy: 0.8946\n",
            "4500/4500 [==============================] - 200s 45ms/step - loss: 0.0119 - accuracy: 0.9961 - sparse_categorical_crossentropy: 0.0119 - val_loss: 0.8946 - val_accuracy: 0.9147 - val_sparse_categorical_crossentropy: 0.8946\n",
            "Epoch 14/20\n",
            "   1/4500 [..............................] - ETA: 0s - loss: 0.0052 - accuracy: 1.0000 - sparse_categorical_crossentropy: 0.0052Epoch 14/20\n",
            "4500/4500 [==============================] - 201s 45ms/step - loss: 0.0106 - accuracy: 0.9966 - sparse_categorical_crossentropy: 0.0106 - val_loss: 1.0062 - val_accuracy: 0.9112 - val_sparse_categorical_crossentropy: 1.0062\n",
            "4500/4500 [==============================] - 201s 45ms/step - loss: 0.0106 - accuracy: 0.9966 - sparse_categorical_crossentropy: 0.0106 - val_loss: 1.0062 - val_accuracy: 0.9112 - val_sparse_categorical_crossentropy: 1.0062\n",
            "Epoch 15/20\n",
            "   1/4500 [..............................] - ETA: 0s - loss: 0.0021 - accuracy: 1.0000 - sparse_categorical_crossentropy: 0.0021Epoch 15/20\n",
            "4500/4500 [==============================] - 201s 45ms/step - loss: 0.0121 - accuracy: 0.9964 - sparse_categorical_crossentropy: 0.0121 - val_loss: 1.0537 - val_accuracy: 0.9185 - val_sparse_categorical_crossentropy: 1.0537\n",
            "4500/4500 [==============================] - 201s 45ms/step - loss: 0.0121 - accuracy: 0.9964 - sparse_categorical_crossentropy: 0.0121 - val_loss: 1.0537 - val_accuracy: 0.9185 - val_sparse_categorical_crossentropy: 1.0537\n",
            "Epoch 16/20\n",
            "   1/4500 [..............................] - ETA: 0s - loss: 7.8803e-05 - accuracy: 1.0000 - sparse_categorical_crossentropy: 7.8803e-05Epoch 16/20\n",
            "4500/4500 [==============================] - 201s 45ms/step - loss: 0.0135 - accuracy: 0.9962 - sparse_categorical_crossentropy: 0.0135 - val_loss: 0.9541 - val_accuracy: 0.9097 - val_sparse_categorical_crossentropy: 0.9541\n",
            "4500/4500 [==============================] - 201s 45ms/step - loss: 0.0135 - accuracy: 0.9962 - sparse_categorical_crossentropy: 0.0135 - val_loss: 0.9541 - val_accuracy: 0.9097 - val_sparse_categorical_crossentropy: 0.9541\n",
            "Epoch 17/20\n",
            "   1/4500 [..............................] - ETA: 0s - loss: 0.0029 - accuracy: 1.0000 - sparse_categorical_crossentropy: 0.0029Epoch 17/20\n",
            "4500/4500 [==============================] - 201s 45ms/step - loss: 0.0102 - accuracy: 0.9967 - sparse_categorical_crossentropy: 0.0102 - val_loss: 1.0076 - val_accuracy: 0.9158 - val_sparse_categorical_crossentropy: 1.0076\n",
            "4500/4500 [==============================] - 201s 45ms/step - loss: 0.0102 - accuracy: 0.9967 - sparse_categorical_crossentropy: 0.0102 - val_loss: 1.0076 - val_accuracy: 0.9158 - val_sparse_categorical_crossentropy: 1.0076\n",
            "Epoch 18/20\n",
            "   1/4500 [..............................] - ETA: 0s - loss: 1.1172e-04 - accuracy: 1.0000 - sparse_categorical_crossentropy: 1.1172e-04Epoch 18/20\n",
            "4500/4500 [==============================] - 201s 45ms/step - loss: 0.0116 - accuracy: 0.9966 - sparse_categorical_crossentropy: 0.0116 - val_loss: 1.0463 - val_accuracy: 0.9139 - val_sparse_categorical_crossentropy: 1.0463\n",
            "4500/4500 [==============================] - 201s 45ms/step - loss: 0.0116 - accuracy: 0.9966 - sparse_categorical_crossentropy: 0.0116 - val_loss: 1.0463 - val_accuracy: 0.9139 - val_sparse_categorical_crossentropy: 1.0463\n",
            "Epoch 19/20\n",
            "   1/4500 [..............................] - ETA: 0s - loss: 0.0496 - accuracy: 0.9844 - sparse_categorical_crossentropy: 0.0496Epoch 19/20\n",
            "4500/4500 [==============================] - 201s 45ms/step - loss: 0.0104 - accuracy: 0.9967 - sparse_categorical_crossentropy: 0.0104 - val_loss: 1.1506 - val_accuracy: 0.9179 - val_sparse_categorical_crossentropy: 1.1506\n",
            "4500/4500 [==============================] - 201s 45ms/step - loss: 0.0104 - accuracy: 0.9967 - sparse_categorical_crossentropy: 0.0104 - val_loss: 1.1506 - val_accuracy: 0.9179 - val_sparse_categorical_crossentropy: 1.1506\n",
            "Epoch 20/20\n",
            "   1/4500 [..............................] - ETA: 0s - loss: 5.0434e-06 - accuracy: 1.0000 - sparse_categorical_crossentropy: 5.0434e-06Epoch 20/20\n",
            "4500/4500 [==============================] - 201s 45ms/step - loss: 0.0105 - accuracy: 0.9969 - sparse_categorical_crossentropy: 0.0105 - val_loss: 1.0764 - val_accuracy: 0.9158 - val_sparse_categorical_crossentropy: 1.0764\n",
            "4500/4500 [==============================] - 201s 45ms/step - loss: 0.0105 - accuracy: 0.9969 - sparse_categorical_crossentropy: 0.0105 - val_loss: 1.0764 - val_accuracy: 0.9158 - val_sparse_categorical_crossentropy: 1.0764\n"
          ],
          "name": "stdout"
        }
      ]
    },
    {
      "cell_type": "code",
      "metadata": {
        "id": "QiwZz4jKYwCt",
        "colab_type": "code",
        "colab": {
          "base_uri": "https://localhost:8080/",
          "height": 50
        },
        "outputId": "57ec6d52-8046-4f34-c433-f0b785ff6526"
      },
      "source": [
        "mnist_part2_2_score = mnist_part2_2.evaluate(x_test, y_test, verbose=1)"
      ],
      "execution_count": 83,
      "outputs": [
        {
          "output_type": "stream",
          "text": [
            "313/313 [==============================] - 3s 8ms/step - loss: 1.1090 - accuracy: 0.9113 - sparse_categorical_crossentropy: 1.1090\n",
            "313/313 [==============================] - 3s 8ms/step - loss: 1.1090 - accuracy: 0.9113 - sparse_categorical_crossentropy: 1.1090\n"
          ],
          "name": "stdout"
        }
      ]
    },
    {
      "cell_type": "markdown",
      "metadata": {
        "id": "oZQ2ZNeFiMJ6",
        "colab_type": "text"
      },
      "source": [
        "## This model used several convolutional layers of small kernels with plenty of filters. The accuracy is unimpressive for a network of this size, and the plots are not what you want to see. On to the next model."
      ]
    },
    {
      "cell_type": "code",
      "metadata": {
        "colab_type": "code",
        "id": "Yt8Q0X9Prwai",
        "colab": {
          "base_uri": "https://localhost:8080/",
          "height": 606
        },
        "outputId": "b28c8245-0de2-4bac-e517-c4f61a66cb07"
      },
      "source": [
        "plt.plot(mnist_part2_2_history.history['accuracy'])\n",
        "plt.plot(mnist_part2_2_history.history['val_accuracy'])\n",
        "plt.title('Accuracy Per Epoch')\n",
        "plt.xlabel('Epoch')\n",
        "plt.ylabel('Accuracy')\n",
        "plt.legend(['train', 'validation'])"
      ],
      "execution_count": 84,
      "outputs": [
        {
          "output_type": "execute_result",
          "data": {
            "text/plain": [
              "<matplotlib.legend.Legend at 0x7fc0adc52860>"
            ]
          },
          "metadata": {
            "tags": []
          },
          "execution_count": 84
        },
        {
          "output_type": "display_data",
          "data": {
            "image/png": "[encoded data removed]",
            "text/plain": [
              "<Figure size 432x288 with 1 Axes>"
            ]
          },
          "metadata": {
            "tags": [],
            "needs_background": "light"
          }
        },
        {
          "output_type": "execute_result",
          "data": {
            "text/plain": [
              "<matplotlib.legend.Legend at 0x7fc0adc52860>"
            ]
          },
          "metadata": {
            "tags": []
          },
          "execution_count": 84
        },
        {
          "output_type": "display_data",
          "data": {
            "image/png": "[encoded data removed]",
            "text/plain": [
              "<Figure size 432x288 with 1 Axes>"
            ]
          },
          "metadata": {
            "tags": [],
            "needs_background": "light"
          }
        }
      ]
    },
    {
      "cell_type": "code",
      "metadata": {
        "colab_type": "code",
        "id": "d01EoymYt6BZ",
        "colab": {
          "base_uri": "https://localhost:8080/",
          "height": 573
        },
        "outputId": "4b073102-d1d4-45a7-b4f1-c5c8f262bffd"
      },
      "source": [
        "plt.plot(mnist_part2_2_history.history['loss'])\n",
        "plt.plot(mnist_part2_2_history.history['val_loss'])\n",
        "plt.title('Loss Per Epoch')\n",
        "plt.xlabel('Epoch')\n",
        "plt.ylabel('Loss')\n",
        "plt.legend(['train', 'validation'])"
      ],
      "execution_count": 85,
      "outputs": [
        {
          "output_type": "display_data",
          "data": {
            "image/png": "[encoded data removed]",
            "text/plain": [
              "<Figure size 432x288 with 1 Axes>"
            ]
          },
          "metadata": {
            "tags": [],
            "needs_background": "light"
          }
        },
        {
          "output_type": "display_data",
          "data": {
            "image/png": "[encoded data removed]",
            "text/plain": [
              "<Figure size 432x288 with 1 Axes>"
            ]
          },
          "metadata": {
            "tags": [],
            "needs_background": "light"
          }
        }
      ]
    },
    {
      "cell_type": "code",
      "metadata": {
        "id": "pfOMlBApxHpW",
        "colab_type": "code",
        "colab": {
          "base_uri": "https://localhost:8080/",
          "height": 857
        },
        "outputId": "c3e5bcfa-aed7-4fbb-ace3-d65b214eaaee"
      },
      "source": [
        "mnist_part2_4 = Sequential()\n",
        "mnist_part2_4.add(layers.Conv2D(kernel_size=2, filters=128, activation='relu', input_shape=(28,28,1)))\n",
        "mnist_part2_4.add(layers.Dropout(0.3))\n",
        "mnist_part2_4.add(layers.BatchNormalization())\n",
        "mnist_part2_4.add(layers.Conv2D(kernel_size=3, filters=128, activation='relu'))\n",
        "mnist_part2_4.add(layers.Dropout(0.3))\n",
        "mnist_part2_4.add(layers.BatchNormalization())\n",
        "mnist_part2_4.add(layers.Conv2D(kernel_size=3, filters=128, activation='relu'))\n",
        "mnist_part2_4.add(layers.Dropout(0.3))\n",
        "mnist_part2_4.add(layers.BatchNormalization())\n",
        "mnist_part2_4.add(layers.Conv2D(kernel_size=3, filters=256, activation='relu'))\n",
        "mnist_part2_4.add(layers.Dropout(0.3))\n",
        "mnist_part2_4.add(layers.BatchNormalization())\n",
        "mnist_part2_4.add(layers.Conv2D(kernel_size=3, filters=256, activation='relu'))\n",
        "mnist_part2_4.add(layers.Dropout(0.3))\n",
        "mnist_part2_4.add(layers.BatchNormalization())\n",
        "mnist_part2_4.add(layers.Flatten())\n",
        "mnist_part2_4.add(layers.Dense(1024, activation='relu'))\n",
        "mnist_part2_4.add(layers.Dropout(0.25))\n",
        "mnist_part2_4.add(layers.Dense(512, activation='relu'))\n",
        "mnist_part2_4.add(layers.Dropout(0.25))\n",
        "mnist_part2_4.add(layers.Dense(10, activation='softmax'))\n",
        "mnist_part2_4.summary()"
      ],
      "execution_count": 91,
      "outputs": [
        {
          "output_type": "stream",
          "text": [
            "Model: \"sequential_8\"\n",
            "_________________________________________________________________\n",
            "Layer (type)                 Output Shape              Param #   \n",
            "=================================================================\n",
            "conv2d_39 (Conv2D)           (None, 27, 27, 128)       640       \n",
            "_________________________________________________________________\n",
            "dropout_24 (Dropout)         (None, 27, 27, 128)       0         \n",
            "_________________________________________________________________\n",
            "batch_normalization_15 (Batc (None, 27, 27, 128)       512       \n",
            "_________________________________________________________________\n",
            "conv2d_40 (Conv2D)           (None, 25, 25, 128)       147584    \n",
            "_________________________________________________________________\n",
            "dropout_25 (Dropout)         (None, 25, 25, 128)       0         \n",
            "_________________________________________________________________\n",
            "batch_normalization_16 (Batc (None, 25, 25, 128)       512       \n",
            "_________________________________________________________________\n",
            "conv2d_41 (Conv2D)           (None, 23, 23, 128)       147584    \n",
            "_________________________________________________________________\n",
            "dropout_26 (Dropout)         (None, 23, 23, 128)       0         \n",
            "_________________________________________________________________\n",
            "batch_normalization_17 (Batc (None, 23, 23, 128)       512       \n",
            "_________________________________________________________________\n",
            "conv2d_42 (Conv2D)           (None, 21, 21, 256)       295168    \n",
            "_________________________________________________________________\n",
            "dropout_27 (Dropout)         (None, 21, 21, 256)       0         \n",
            "_________________________________________________________________\n",
            "batch_normalization_18 (Batc (None, 21, 21, 256)       1024      \n",
            "_________________________________________________________________\n",
            "conv2d_43 (Conv2D)           (None, 19, 19, 256)       590080    \n",
            "_________________________________________________________________\n",
            "dropout_28 (Dropout)         (None, 19, 19, 256)       0         \n",
            "_________________________________________________________________\n",
            "batch_normalization_19 (Batc (None, 19, 19, 256)       1024      \n",
            "_________________________________________________________________\n",
            "flatten_8 (Flatten)          (None, 92416)             0         \n",
            "_________________________________________________________________\n",
            "dense_16 (Dense)             (None, 1024)              94635008  \n",
            "_________________________________________________________________\n",
            "dropout_29 (Dropout)         (None, 1024)              0         \n",
            "_________________________________________________________________\n",
            "dense_17 (Dense)             (None, 512)               524800    \n",
            "_________________________________________________________________\n",
            "dropout_30 (Dropout)         (None, 512)               0         \n",
            "_________________________________________________________________\n",
            "dense_18 (Dense)             (None, 10)                5130      \n",
            "=================================================================\n",
            "Total params: 96,349,578\n",
            "Trainable params: 96,347,786\n",
            "Non-trainable params: 1,792\n",
            "_________________________________________________________________\n"
          ],
          "name": "stdout"
        }
      ]
    },
    {
      "cell_type": "code",
      "metadata": {
        "id": "mj6WYGCexUz3",
        "colab_type": "code",
        "colab": {}
      },
      "source": [
        "mnist_part2_4.compile(loss='sparse_categorical_crossentropy', optimizer='adam', metrics=['accuracy', 'sparse_categorical_crossentropy'])"
      ],
      "execution_count": 94,
      "outputs": []
    },
    {
      "cell_type": "code",
      "metadata": {
        "id": "XOSTuiNRxZpf",
        "colab_type": "code",
        "colab": {
          "base_uri": "https://localhost:8080/",
          "height": 238
        },
        "outputId": "0cf0b982-2486-462f-cac8-314c99c3b246"
      },
      "source": [
        "mnist_part2_4_history = mnist_part2_4.fit(x_train_aug, y_train_aug, batch_size = 64, validation_data=(x_valid, y_valid), steps_per_epoch=len(x_train_aug)/64, epochs=20, verbose=1, callbacks=[stopper])\n",
        "mnist_part2_4.save_weights('/content/gdrive/My Drive/mnist_part2_4.h5')"
      ],
      "execution_count": 95,
      "outputs": [
        {
          "output_type": "stream",
          "text": [
            "Epoch 1/20\n",
            "4500/4500 [==============================] - 327s 73ms/step - loss: 0.3595 - accuracy: 0.8763 - sparse_categorical_crossentropy: 0.3595 - val_loss: 0.2703 - val_accuracy: 0.9106 - val_sparse_categorical_crossentropy: 0.2703\n",
            "Epoch 2/20\n",
            "4500/4500 [==============================] - 324s 72ms/step - loss: 0.1601 - accuracy: 0.9470 - sparse_categorical_crossentropy: 0.1601 - val_loss: 0.4311 - val_accuracy: 0.9148 - val_sparse_categorical_crossentropy: 0.4311\n",
            "Epoch 3/20\n",
            "4500/4500 [==============================] - 325s 72ms/step - loss: 0.0878 - accuracy: 0.9726 - sparse_categorical_crossentropy: 0.0878 - val_loss: 0.4320 - val_accuracy: 0.9240 - val_sparse_categorical_crossentropy: 0.4320\n",
            "Epoch 4/20\n",
            "4500/4500 [==============================] - 323s 72ms/step - loss: 0.0583 - accuracy: 0.9831 - sparse_categorical_crossentropy: 0.0583 - val_loss: 0.5895 - val_accuracy: 0.9224 - val_sparse_categorical_crossentropy: 0.5895\n",
            "Epoch 5/20\n",
            "4500/4500 [==============================] - 324s 72ms/step - loss: 0.0521 - accuracy: 0.9858 - sparse_categorical_crossentropy: 0.0521 - val_loss: 0.7511 - val_accuracy: 0.9208 - val_sparse_categorical_crossentropy: 0.7511\n",
            "Epoch 6/20\n",
            "4500/4500 [==============================] - 324s 72ms/step - loss: 0.0552 - accuracy: 0.9854 - sparse_categorical_crossentropy: 0.0552 - val_loss: 0.4189 - val_accuracy: 0.9104 - val_sparse_categorical_crossentropy: 0.4189\n"
          ],
          "name": "stdout"
        }
      ]
    },
    {
      "cell_type": "code",
      "metadata": {
        "id": "2KCmYB1rxm0f",
        "colab_type": "code",
        "colab": {
          "base_uri": "https://localhost:8080/",
          "height": 34
        },
        "outputId": "17d82820-16b6-481b-9b0d-3b1e50d644dd"
      },
      "source": [
        "mnist_part2_4_score = mnist_part2_4.evaluate(x_test, y_test, verbose=1)"
      ],
      "execution_count": 96,
      "outputs": [
        {
          "output_type": "stream",
          "text": [
            "313/313 [==============================] - 3s 9ms/step - loss: 0.4374 - accuracy: 0.9049 - sparse_categorical_crossentropy: 0.4374\n"
          ],
          "name": "stdout"
        }
      ]
    },
    {
      "cell_type": "markdown",
      "metadata": {
        "id": "hpU1KMJHnJcy",
        "colab_type": "text"
      },
      "source": [
        "## The accuracy is not great, and the model stopped training after failing to improve its validation accuracy for 3 consecutive epochs. Condsidering it ended on epoch 5, it needs major tweaking to its parameters."
      ]
    },
    {
      "cell_type": "code",
      "metadata": {
        "colab_type": "code",
        "id": "iYeGnyktr56b",
        "colab": {
          "base_uri": "https://localhost:8080/",
          "height": 312
        },
        "outputId": "fa3223b9-3fd5-46d0-b245-dad69a93b1ff"
      },
      "source": [
        "plt.plot(mnist_part2_4_history.history['accuracy'])\n",
        "plt.plot(mnist_part2_4_history.history['val_accuracy'])\n",
        "plt.title('Accuracy Per Epoch')\n",
        "plt.xlabel('Epoch')\n",
        "plt.ylabel('Accuracy')\n",
        "plt.legend(['train', 'validation'])"
      ],
      "execution_count": 97,
      "outputs": [
        {
          "output_type": "execute_result",
          "data": {
            "text/plain": [
              "<matplotlib.legend.Legend at 0x7fc0755b6f28>"
            ]
          },
          "metadata": {
            "tags": []
          },
          "execution_count": 97
        },
        {
          "output_type": "display_data",
          "data": {
            "image/png": "[encoded data removed]",
            "text/plain": [
              "<Figure size 432x288 with 1 Axes>"
            ]
          },
          "metadata": {
            "tags": [],
            "needs_background": "light"
          }
        }
      ]
    },
    {
      "cell_type": "code",
      "metadata": {
        "colab_type": "code",
        "id": "lCSMcVlUt-cN",
        "colab": {
          "base_uri": "https://localhost:8080/",
          "height": 312
        },
        "outputId": "406e8350-cbb0-405b-b054-ad7199d27edc"
      },
      "source": [
        "plt.plot(mnist_part2_4_history.history['loss'])\n",
        "plt.plot(mnist_part2_4_history.history['val_loss'])\n",
        "plt.title('Loss Per Epoch')\n",
        "plt.xlabel('Epoch')\n",
        "plt.ylabel('Loss')\n",
        "plt.legend(['train', 'validation'])"
      ],
      "execution_count": 98,
      "outputs": [
        {
          "output_type": "execute_result",
          "data": {
            "text/plain": [
              "<matplotlib.legend.Legend at 0x7fc0753a00f0>"
            ]
          },
          "metadata": {
            "tags": []
          },
          "execution_count": 98
        },
        {
          "output_type": "display_data",
          "data": {
            "image/png": "[encoded data removed]",
            "text/plain": [
              "<Figure size 432x288 with 1 Axes>"
            ]
          },
          "metadata": {
            "tags": [],
            "needs_background": "light"
          }
        }
      ]
    },
    {
      "cell_type": "code",
      "metadata": {
        "id": "aKBmpNPhNwTH",
        "colab_type": "code",
        "colab": {}
      },
      "source": [
        ""
      ],
      "execution_count": null,
      "outputs": []
    }
  ]
}